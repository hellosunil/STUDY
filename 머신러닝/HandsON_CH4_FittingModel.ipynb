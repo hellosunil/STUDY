{
 "cells": [
  {
   "cell_type": "markdown",
   "id": "974551b1",
   "metadata": {},
   "source": [
    "### 선형회귀"
   ]
  },
  {
   "cell_type": "code",
   "execution_count": 1,
   "id": "a47ce075",
   "metadata": {},
   "outputs": [],
   "source": [
    "# 회귀모델은 RMSE를 최소화하는 방향으로 훈련해야 함"
   ]
  },
  {
   "cell_type": "code",
   "execution_count": 2,
   "id": "7f4bb169",
   "metadata": {},
   "outputs": [],
   "source": [
    "# 해석적인 방법 \n",
    "# 정규 방정식"
   ]
  },
  {
   "cell_type": "code",
   "execution_count": 3,
   "id": "9e7bed2e",
   "metadata": {},
   "outputs": [],
   "source": [
    "import numpy as np\n",
    "\n",
    "X = 2* np.random.rand(100, 1)\n",
    "y = 4+3*X + np.random.rand(100,1)"
   ]
  },
  {
   "cell_type": "code",
   "execution_count": 4,
   "id": "09c6b73d",
   "metadata": {},
   "outputs": [
    {
     "data": {
      "text/plain": [
       "<matplotlib.collections.PathCollection at 0x180f3d8c730>"
      ]
     },
     "execution_count": 4,
     "metadata": {},
     "output_type": "execute_result"
    },
    {
     "data": {
      "image/png": "[encoded data removed]",
      "text/plain": [
       "<Figure size 432x288 with 1 Axes>"
      ]
     },
     "metadata": {
      "needs_background": "light"
     },
     "output_type": "display_data"
    }
   ],
   "source": [
    "import matplotlib.pyplot as plt\n",
    "plt.scatter(X, y)"
   ]
  },
  {
   "cell_type": "code",
   "execution_count": 5,
   "id": "cbadd5ed",
   "metadata": {},
   "outputs": [],
   "source": [
    "X_b = np.c_[np.ones((100,1)), X] # 모든 샘플에 X0 = 1을 추가\n",
    "theta_best = np.linalg.inv(X_b.T@X_b)@X_b.T@y"
   ]
  },
  {
   "cell_type": "code",
   "execution_count": 6,
   "id": "8641fd3f",
   "metadata": {},
   "outputs": [
    {
     "data": {
      "text/plain": [
       "array([[4.51003834],\n",
       "       [3.03940219]])"
      ]
     },
     "execution_count": 6,
     "metadata": {},
     "output_type": "execute_result"
    }
   ],
   "source": [
    "theta_best # 4, 3을 근접하게 예측"
   ]
  },
  {
   "cell_type": "code",
   "execution_count": 7,
   "id": "2130a8f9",
   "metadata": {},
   "outputs": [
    {
     "data": {
      "text/plain": [
       "array([[ 4.51003834],\n",
       "       [10.58884272]])"
      ]
     },
     "execution_count": 7,
     "metadata": {},
     "output_type": "execute_result"
    }
   ],
   "source": [
    "X_new = np.array([[0],[2]])\n",
    "X_new_b = np.c_[np.ones((2,1)), X_new]\n",
    "y_predict = X_new_b@theta_best\n",
    "y_predict"
   ]
  },
  {
   "cell_type": "code",
   "execution_count": 8,
   "id": "22644587",
   "metadata": {},
   "outputs": [
    {
     "data": {
      "image/png": "[encoded data removed]",
      "text/plain": [
       "<Figure size 432x288 with 1 Axes>"
      ]
     },
     "metadata": {
      "needs_background": "light"
     },
     "output_type": "display_data"
    }
   ],
   "source": [
    "plt.plot(X_new, y_predict, 'r-')\n",
    "plt.plot(X,y,'b.')\n",
    "plt.axis([0,2,0,15])\n",
    "plt.show()"
   ]
  },
  {
   "cell_type": "code",
   "execution_count": 9,
   "id": "1fa6c9a7",
   "metadata": {},
   "outputs": [
    {
     "data": {
      "text/plain": [
       "(array([4.51003834]), array([[3.03940219]]))"
      ]
     },
     "execution_count": 9,
     "metadata": {},
     "output_type": "execute_result"
    }
   ],
   "source": [
    "# sklearn으로 선형 회귀 구현\n",
    "from sklearn.linear_model import LinearRegression\n",
    "lin_reg = LinearRegression()\n",
    "lin_reg.fit(X, y)\n",
    "# sklearn의 linearregression은 intercept(편향)와 coef(가중치)를 분리하여 저장함\n",
    "lin_reg.intercept_, lin_reg.coef_"
   ]
  },
  {
   "cell_type": "code",
   "execution_count": 10,
   "id": "3aa4affe",
   "metadata": {},
   "outputs": [
    {
     "data": {
      "text/plain": [
       "array([[ 4.51003834],\n",
       "       [10.58884272]])"
      ]
     },
     "execution_count": 10,
     "metadata": {},
     "output_type": "execute_result"
    }
   ],
   "source": [
    "lin_reg.predict(X_new)"
   ]
  },
  {
   "cell_type": "code",
   "execution_count": 11,
   "id": "4a583fe4",
   "metadata": {},
   "outputs": [],
   "source": [
    "# sklearn의 linearregression은 유사역행렬로 계산 이는 특잇값 분해(SVD) 방식으로 작동됨\n",
    "# 어떤 특성이 중복되어 역행렬이 없더라도 작동이 가능하다는 장점\n",
    "# 계산 복잡도도 기존 정규방적식(O(N**2.4~3))에서  O(N**2)으로 감소하는 효과가 있음"
   ]
  },
  {
   "cell_type": "markdown",
   "id": "11cc3a5d",
   "metadata": {},
   "source": [
    "### 경사하강법"
   ]
  },
  {
   "cell_type": "markdown",
   "id": "538cc8c3",
   "metadata": {},
   "source": [
    "- 무작위 초기화(random initialization)진행\n",
    "- 학습률(learning rate)만큼 gradient를 감소하는 방향으로 이동, 최솟값까지 반복\n",
    "- 지역최솟값에 수렴해, 전역최솟값을 반영하지 못할 수 있음\n",
    "- 하지만 선형 회귀는 볼록함수(convex function)으로 지역최솟값 == 전역최솟값임\n",
    "- 특성스케일을 통해(ex StandardScaler)를 통해 훈련시간을 줄여줄 수 있음 p168그림참조"
   ]
  },
  {
   "cell_type": "markdown",
   "id": "b79e4567",
   "metadata": {},
   "source": [
    "- 배치 경사하강법"
   ]
  },
  {
   "cell_type": "code",
   "execution_count": 12,
   "id": "773c6b2a",
   "metadata": {},
   "outputs": [],
   "source": [
    "eta = 0.3 # 학습률\n",
    "n_iterations = 1000\n",
    "m = 100 # 샘플 수\n",
    "\n",
    "theta = np.random.randn(2,1) # 무작위 초기화\n",
    "\n",
    "for iteration in range(n_iterations):\n",
    "    gradients = 2 / m * X_b.T@(X_b.dot(theta) -y)\n",
    "    theta = theta - eta * gradients"
   ]
  },
  {
   "cell_type": "code",
   "execution_count": 13,
   "id": "582a0a01",
   "metadata": {
    "scrolled": true
   },
   "outputs": [
    {
     "data": {
      "text/plain": [
       "array([[4.51003834],\n",
       "       [3.03940219]])"
      ]
     },
     "execution_count": 13,
     "metadata": {},
     "output_type": "execute_result"
    }
   ],
   "source": [
    "theta"
   ]
  },
  {
   "cell_type": "markdown",
   "id": "92a90409",
   "metadata": {},
   "source": [
    "- 확률적 경사하강법\n",
    "  - 빠르지만, 전역 최솟값을 찾아낼 확률이 배치경사보다 높음\n",
    "  - 안정성이 떨어지므로, 담금질기법(simulated annealing) 알고리즘과 유사한 방법 사용\n",
    "  - 처음엔 큰 학습률을 잉용하다 점차 작게 줄여서 최솟값에 도달하게 하는 것\n",
    "  - 여기서 학습률을 결정하는 함수를 학습스케줄(learning schedule)이라고 함"
   ]
  },
  {
   "cell_type": "code",
   "execution_count": 14,
   "id": "1ff270b2",
   "metadata": {},
   "outputs": [],
   "source": [
    "n_epochs = 50\n",
    "t0, t1 = 5, 50 #학습 스케줄 하이퍼 파라미터\n",
    "\n",
    "def learning_schedule(t):\n",
    "    return t0 / (t + t1)\n",
    "\n",
    "theta = np.random.randn(2, 1)\n",
    "\n",
    "for epoch in range(n_epochs):\n",
    "    for i in range(m):\n",
    "        random_index = np.random.randint(m)\n",
    "        xi = X_b[random_index : random_index + 1]\n",
    "        yi = y[random_index : random_index + 1]\n",
    "        gradients = 2*xi.T@(xi@theta - yi)\n",
    "        eta = learning_schedule(epoch *m +i)\n",
    "        theta = theta - eta * gradients"
   ]
  },
  {
   "cell_type": "code",
   "execution_count": 15,
   "id": "18a11fbc",
   "metadata": {},
   "outputs": [
    {
     "data": {
      "text/plain": [
       "array([[4.502417  ],\n",
       "       [3.04150753]])"
      ]
     },
     "execution_count": 15,
     "metadata": {},
     "output_type": "execute_result"
    }
   ],
   "source": [
    "theta"
   ]
  },
  {
   "cell_type": "markdown",
   "id": "8031d5d1",
   "metadata": {},
   "source": [
    "- 배치 경사 하강법이 전체 훈련 세트에 대해 1000번 반복하는 동안\n",
    "- 확률적 경사 하강법은 훈련세트에서 50번 반복하고도 좋은 결과를 보여줌\n",
    "\n",
    "- 주의점.\n",
    "  - 확률적 경사 하강법에서 훈련샘플이 IID(Independent, and identically distribute)를 만족해야함\n",
    "  - 이렇게 만들기 위해서는 각 샘플을 랜덤하게 선택하거나, 에포크를 시작할 때 훈련세트를 셔플해주는 방법 등이 있음"
   ]
  },
  {
   "cell_type": "code",
   "execution_count": 16,
   "id": "3b51175c",
   "metadata": {},
   "outputs": [
    {
     "data": {
      "text/plain": [
       "SGDRegressor(eta0=0.1, penalty=None)"
      ]
     },
     "execution_count": 16,
     "metadata": {},
     "output_type": "execute_result"
    }
   ],
   "source": [
    "# SGDRegessor로 선형회귀 사용\n",
    "# 다음 코드에서는 최대 1000번의 에포크\n",
    "# 한 에포크에서 0.001보다 손실이 적을 때까지 실행\n",
    "# 학습률 = 0.1\n",
    "# 학습 스케줄은 기존과는 다름(p175 주석)\n",
    "\n",
    "from sklearn.linear_model import SGDRegressor\n",
    "sgd_reg = SGDRegressor(max_iter = 1000, tol=1e-3, penalty=None, eta0=0.1)\n",
    "sgd_reg.fit(X, y.ravel())"
   ]
  },
  {
   "cell_type": "code",
   "execution_count": 17,
   "id": "740787f1",
   "metadata": {},
   "outputs": [
    {
     "data": {
      "text/plain": [
       "(array([4.49797044]), array([3.05446058]))"
      ]
     },
     "execution_count": 17,
     "metadata": {},
     "output_type": "execute_result"
    }
   ],
   "source": [
    "sgd_reg.intercept_, sgd_reg.coef_"
   ]
  },
  {
   "cell_type": "markdown",
   "id": "757eaab5",
   "metadata": {},
   "source": [
    "- 미니배치 경사 하강법\n",
    "  - 미니배치라 부르는 임의의 작은 샘플 세트에 대해 그레디언트를 계산\n",
    "  - 확률적 경사하강과 비교하자면, 행렬 연산에 최적화된 하드웨어, 특히 GPU를 사용해 성능 향상을 이뤄냄\n",
    "  - 미니배치가 SGD보다 최솟값에 더 가까이 도달할 가능성이 높지만, 지역최솟값에서는 더 빠져나오기 힘듦\n",
    "  - 파라미터 공간에서 SGD보다 더 불규칙적으로 움직이기때문"
   ]
  },
  {
   "cell_type": "markdown",
   "id": "f673a381",
   "metadata": {},
   "source": [
    "### 다항회귀"
   ]
  },
  {
   "cell_type": "code",
   "execution_count": 18,
   "id": "ea814e77",
   "metadata": {},
   "outputs": [],
   "source": [
    "m = 100\n",
    "X = 6 * np.random.rand(m, 1)-3\n",
    "y = 0.5 *X**2 + X + 2 + np.random.randn(m, 1)"
   ]
  },
  {
   "cell_type": "code",
   "execution_count": 19,
   "id": "8bebef29",
   "metadata": {},
   "outputs": [
    {
     "data": {
      "text/plain": [
       "<matplotlib.collections.PathCollection at 0x180f6d0b970>"
      ]
     },
     "execution_count": 19,
     "metadata": {},
     "output_type": "execute_result"
    },
    {
     "data": {
      "image/png": "[encoded data removed]",
      "text/plain": [
       "<Figure size 432x288 with 1 Axes>"
      ]
     },
     "metadata": {
      "needs_background": "light"
     },
     "output_type": "display_data"
    }
   ],
   "source": [
    "plt.scatter(X, y)"
   ]
  },
  {
   "cell_type": "code",
   "execution_count": 20,
   "id": "c457a2ef",
   "metadata": {},
   "outputs": [],
   "source": [
    "# 직선 형태의 단항회귀분석 수행이 불가능함"
   ]
  },
  {
   "cell_type": "code",
   "execution_count": 21,
   "id": "ae3394b7",
   "metadata": {},
   "outputs": [
    {
     "name": "stdout",
     "output_type": "stream",
     "text": [
      "[2.38217327]\n",
      "[2.38217327 5.67474946]\n"
     ]
    }
   ],
   "source": [
    "# PolynomialFeatures를 사용해서 훈련데이터 변환 => 훈련세트에 있는 각 특성을 제곱하여 새로운 특성으로 추가\n",
    "from sklearn.preprocessing import PolynomialFeatures\n",
    "poly_features = PolynomialFeatures(2, include_bias=False)\n",
    "X_poly = poly_features.fit_transform(X)\n",
    "print(X[0])\n",
    "print(X_poly[0])"
   ]
  },
  {
   "cell_type": "code",
   "execution_count": 22,
   "id": "76c9f07a",
   "metadata": {},
   "outputs": [
    {
     "data": {
      "text/plain": [
       "(array([2.03966681]), array([[0.98382767, 0.49153337]]))"
      ]
     },
     "execution_count": 22,
     "metadata": {},
     "output_type": "execute_result"
    }
   ],
   "source": [
    "lin_reg = LinearRegression()\n",
    "lin_reg.fit(X_poly, y)\n",
    "lin_reg.intercept_, lin_reg.coef_"
   ]
  },
  {
   "cell_type": "code",
   "execution_count": 23,
   "id": "4ab7b575",
   "metadata": {},
   "outputs": [
    {
     "data": {
      "text/plain": [
       "<matplotlib.collections.PathCollection at 0x180f6d82340>"
      ]
     },
     "execution_count": 23,
     "metadata": {},
     "output_type": "execute_result"
    },
    {
     "data": {
      "image/png": "[encoded data removed]",
      "text/plain": [
       "<Figure size 432x288 with 1 Axes>"
      ]
     },
     "metadata": {
      "needs_background": "light"
     },
     "output_type": "display_data"
    }
   ],
   "source": [
    "plt.scatter(X, y)\n",
    "plt.scatter(X, lin_reg.predict(X_poly), c='r')"
   ]
  },
  {
   "cell_type": "markdown",
   "id": "7c2d91c8",
   "metadata": {},
   "source": [
    "### 학습 곡선"
   ]
  },
  {
   "cell_type": "markdown",
   "id": "20597706",
   "metadata": {},
   "source": [
    "- 앞서, 2차 다항 회귀로 분석함\n",
    "- 고차 다항 회귀로 갈 수록 과적합 상태에 놓일 수 있음\n",
    "- 어떻게 n차 곡선임을 확인하나?\n",
    "- ==> 학습곡선을 통해\n",
    "  - 훈련 세트와 검정 세트의 모델 성능을 훈련 세트 크기의 함수로 나타내는 것"
   ]
  },
  {
   "cell_type": "code",
   "execution_count": 24,
   "id": "f8d84ba2",
   "metadata": {},
   "outputs": [],
   "source": [
    "from sklearn.metrics import mean_squared_error\n",
    "from sklearn.model_selection import train_test_split\n",
    "\n",
    "def plot_learning_curve(model, x, y):\n",
    "    X_train, X_val, y_train, y_val = train_test_split(X, y, test_size=0.2)\n",
    "    train_errors, val_errors = [], []\n",
    "    for m in range(1, len(X_train)):\n",
    "        model.fit(X_train[:m], y_train[:m])\n",
    "        y_train_predict = model.predict(X_train[:m])\n",
    "        y_val_predict = model.predict(X_val)\n",
    "        train_errors.append(mean_squared_error(y_train[:m], y_train_predict))\n",
    "        val_errors.append(mean_squared_error(y_val, y_val_predict))\n",
    "    plt.plot(np.sqrt(train_errors), 'r-+', linewidth=2, label='Train SET')\n",
    "    plt.plot(np.sqrt(val_errors), 'b-', linewidth=2, label='Test SET')"
   ]
  },
  {
   "cell_type": "code",
   "execution_count": 25,
   "id": "9f7f520e",
   "metadata": {},
   "outputs": [
    {
     "data": {
      "image/png": "[encoded data removed]",
      "text/plain": [
       "<Figure size 432x288 with 1 Axes>"
      ]
     },
     "metadata": {
      "needs_background": "light"
     },
     "output_type": "display_data"
    }
   ],
   "source": [
    "lin_reg = LinearRegression()\n",
    "plot_learning_curve(lin_reg, X, y)\n",
    "# y축 rmse, x축 훈련세트 크기"
   ]
  },
  {
   "cell_type": "code",
   "execution_count": 26,
   "id": "ddae2933",
   "metadata": {},
   "outputs": [],
   "source": [
    "# 과소적합됐음을 보여줌 = 두 곡선이 수평한 구간을 만들고 꽤 높은 오차에서 매우 가까이 근접해있음\n",
    "# 모델이 훈련 데이터에 과소적합되어 있다면 훈련 샘플을 더 추가해도 효과가 없음\n",
    "# => 더 복잡한 모델을 사용하거나, 더 나은 특성을 선택해야 함"
   ]
  },
  {
   "cell_type": "code",
   "execution_count": 27,
   "id": "db221f55",
   "metadata": {},
   "outputs": [
    {
     "data": {
      "image/png": "[encoded data removed]",
      "text/plain": [
       "<Figure size 432x288 with 1 Axes>"
      ]
     },
     "metadata": {
      "needs_background": "light"
     },
     "output_type": "display_data"
    }
   ],
   "source": [
    "from sklearn.pipeline import Pipeline\n",
    "polynomial_regression = Pipeline([\n",
    "    ('poly_features', PolynomialFeatures(10, include_bias=False)),\n",
    "    ('lin_reg', LinearRegression())\n",
    "])\n",
    "plot_learning_curve(polynomial_regression, X, y)"
   ]
  },
  {
   "cell_type": "code",
   "execution_count": 28,
   "id": "58936ff1",
   "metadata": {},
   "outputs": [],
   "source": [
    "# 10차 회귀의 경우 과적합됐음을 알 수 있음\n",
    "# 오차가 위 모델보다 현저히 작은 것을 알 수 있음\n",
    "# => 과적합 모델을 개선하기 위해선 검증오차가 훈련오차에 근접할 때까지 더 많은 훈련데이터를 추가하는 것임"
   ]
  },
  {
   "cell_type": "markdown",
   "id": "73b8cc27",
   "metadata": {},
   "source": [
    "### 규제가 있는 선형모델"
   ]
  },
  {
   "cell_type": "markdown",
   "id": "342b5b1e",
   "metadata": {},
   "source": [
    "- 모델의 과적합을 감소시키는 방법으로 규제를 둘 수 있음\n",
    "- 간단한 예시로는 다항 회귀 모델에서 다항식의 차수를 감소시키는 것"
   ]
  },
  {
   "cell_type": "markdown",
   "id": "ff7e0b64",
   "metadata": {},
   "source": [
    "#### 릿지(ridge) 회귀"
   ]
  },
  {
   "cell_type": "markdown",
   "id": "f8424382",
   "metadata": {},
   "source": [
    "- 규제항이 비용함수에 추가됨\n",
    "- 모델의 가중치가 가능한 작게 유지되도록 함\n",
    "- 훈련이 끝나면 모델의 성을을 규제가 없는 성능지표로 평가함\n",
    "- l2 노름을 사용 : 가중치 절대값의 제곱\n",
    "- 규제항의 alpha가 커질수록 직선에 가까워짐 즉, 모델의 분산은 줄어들지만 편향은 커지게 됨"
   ]
  },
  {
   "cell_type": "code",
   "execution_count": 29,
   "id": "253eb1d7",
   "metadata": {},
   "outputs": [
    {
     "data": {
      "text/plain": [
       "array([[5.05959578]])"
      ]
     },
     "execution_count": 29,
     "metadata": {},
     "output_type": "execute_result"
    }
   ],
   "source": [
    "# sklearn의 정규방적식을 이용해 ridge에 적용하기\n",
    "from sklearn.linear_model import Ridge\n",
    "ridge_reg = Ridge(alpha=1, solver='cholesky')\n",
    "ridge_reg.fit(X, y)\n",
    "ridge_reg.predict([[1.5]])"
   ]
  },
  {
   "cell_type": "code",
   "execution_count": 30,
   "id": "69dcec57",
   "metadata": {},
   "outputs": [
    {
     "data": {
      "text/plain": [
       "array([5.02552044])"
      ]
     },
     "execution_count": 30,
     "metadata": {},
     "output_type": "execute_result"
    }
   ],
   "source": [
    "# 확률적 경사하강법\n",
    "sgd_reg = SGDRegressor(penalty='l2')\n",
    "sgd_reg.fit(X,y.ravel())\n",
    "sgd_reg.predict([[1.5]])"
   ]
  },
  {
   "cell_type": "markdown",
   "id": "23426bba",
   "metadata": {},
   "source": [
    "#### 라쏘(lasso) 회귀\n",
    "- 릿지와 비슷하지만, 가중치 벡터의 l1노름을 사용함 : 가중치 절대값\n",
    "- 덜 중요한 특성의 가중치를 제거하는 방향으로 학습\n",
    "- 다시 말해 라쏘 회귀는 자동으로 특성을 선택하고 희소모델을 만듦"
   ]
  },
  {
   "cell_type": "code",
   "execution_count": 31,
   "id": "07bdfee8",
   "metadata": {},
   "outputs": [
    {
     "data": {
      "text/plain": [
       "array([5.01748281])"
      ]
     },
     "execution_count": 31,
     "metadata": {},
     "output_type": "execute_result"
    }
   ],
   "source": [
    "from sklearn.linear_model import Lasso\n",
    "lasso_reg = Lasso(alpha=0.1)\n",
    "lasso_reg.fit(X,y)\n",
    "lasso_reg.predict([[1.5]])\n",
    "# 대신 SGDRegression(penalty='l1')을 사용할 수도 있음"
   ]
  },
  {
   "cell_type": "markdown",
   "id": "6bf432ea",
   "metadata": {},
   "source": [
    "#### 엘라스틱넷\n",
    "- 릿지와 라쏘를 결합한 모델\n",
    "- 규제는 단순히 l1 + l2를 사용\n",
    "- 혼합정도를 r로 구분 r=0:릿지; r=1:라쏘\n",
    "\n",
    "- 릿지가 기본, 쓰이는 특성이 몇 개 뿐이라고 예상되면 라쏘나 엘라스틱넷을 고려해볼 수 있음"
   ]
  },
  {
   "cell_type": "code",
   "execution_count": 32,
   "id": "d62bf056",
   "metadata": {},
   "outputs": [
    {
     "data": {
      "text/plain": [
       "array([5.01779427])"
      ]
     },
     "execution_count": 32,
     "metadata": {},
     "output_type": "execute_result"
    }
   ],
   "source": [
    "from sklearn.linear_model import ElasticNet\n",
    "elastic_net = ElasticNet(alpha=.1, l1_ratio=.5)\n",
    "elastic_net.fit(X,y)\n",
    "elastic_net.predict([[1.5]])"
   ]
  },
  {
   "cell_type": "markdown",
   "id": "4fcf7212",
   "metadata": {},
   "source": [
    "### 로지스틱 회귀\n",
    "- 이진 분류 : 샘플이 특정 클래스에 속하는지 예측\n",
    "- 0과 1사이의 값을 출력하는 시그모이드 함수를 사용\n",
    "- sklearn의 기본 규제 모델은 l2 노름임"
   ]
  },
  {
   "cell_type": "code",
   "execution_count": 33,
   "id": "c5e91595",
   "metadata": {},
   "outputs": [
    {
     "name": "stderr",
     "output_type": "stream",
     "text": [
      "C:\\Users\\admin\\AppData\\Local\\Temp/ipykernel_17628/3342523703.py:4: DeprecationWarning: `np.int` is a deprecated alias for the builtin `int`. To silence this warning, use `int` by itself. Doing this will not modify any behavior and is safe. When replacing `np.int`, you may wish to use e.g. `np.int64` or `np.int32` to specify the precision. If you wish to review your current use, check the release note link for additional information.\n",
      "Deprecated in NumPy 1.20; for more details and guidance: https://numpy.org/devdocs/release/1.20.0-notes.html#deprecations\n",
      "  y = (iris['target']==2).astype(np.int)\n"
     ]
    }
   ],
   "source": [
    "from sklearn import datasets\n",
    "iris = datasets.load_iris()\n",
    "X = iris['data'][:, 3:]\n",
    "y = (iris['target']==2).astype(np.int)"
   ]
  },
  {
   "cell_type": "code",
   "execution_count": 34,
   "id": "86dfafd0",
   "metadata": {
    "scrolled": true
   },
   "outputs": [
    {
     "data": {
      "text/plain": [
       "LogisticRegression()"
      ]
     },
     "execution_count": 34,
     "metadata": {},
     "output_type": "execute_result"
    }
   ],
   "source": [
    "from sklearn.linear_model import LogisticRegression\n",
    "log_reg = LogisticRegression()\n",
    "log_reg.fit(X,y)"
   ]
  },
  {
   "cell_type": "code",
   "execution_count": 35,
   "id": "5b7c876e",
   "metadata": {
    "scrolled": true
   },
   "outputs": [
    {
     "data": {
      "text/plain": [
       "[<matplotlib.lines.Line2D at 0x180f7070e50>]"
      ]
     },
     "execution_count": 35,
     "metadata": {},
     "output_type": "execute_result"
    },
    {
     "data": {
      "image/png": "[encoded data removed]",
      "text/plain": [
       "<Figure size 432x288 with 1 Axes>"
      ]
     },
     "metadata": {
      "needs_background": "light"
     },
     "output_type": "display_data"
    }
   ],
   "source": [
    "# 꽃잎의 너비가 0 ~ 3cm인 꽃에 대한 모델의 추정확률 분포 그래프\n",
    "X_new = np.linspace(0,3,1000).reshape(-1,1)\n",
    "y_proba = log_reg.predict_proba(X_new)\n",
    "plt.plot(X_new, y_proba[:,1], 'g-', label='Iris virginica')\n",
    "plt.plot(X_new, y_proba[:,0], 'b--', label='Not Iris virginica')"
   ]
  },
  {
   "cell_type": "code",
   "execution_count": 36,
   "id": "cbebd7f1",
   "metadata": {},
   "outputs": [
    {
     "data": {
      "text/plain": [
       "array([1, 0])"
      ]
     },
     "execution_count": 36,
     "metadata": {},
     "output_type": "execute_result"
    }
   ],
   "source": [
    "# 1.6을 기준으로 1과 0을 예측하는 것을 볼 수 있음\n",
    "log_reg.predict([[1.7], [1.5]])"
   ]
  },
  {
   "cell_type": "markdown",
   "id": "9f58ed6b",
   "metadata": {},
   "source": [
    "### 소프트맥스 회귀(다항 로지스틱 회귀)\n",
    "- 샘플 x가 주어지면 소프트맥스회귀모델이 각 클래스에 대한 점수를 계산하고\n",
    "- 그 점수에 소프트맥스 함수를 적용하여 각 클래스의 확률을 추정한다\n",
    "- 다중클래스 함수이지만, 다중출력은 아님\n",
    "- 기본적으로 l2규제가 사용됨"
   ]
  },
  {
   "cell_type": "code",
   "execution_count": 38,
   "id": "a42eda2a",
   "metadata": {},
   "outputs": [
    {
     "data": {
      "text/plain": [
       "LogisticRegression(C=10, multi_class='multinomial')"
      ]
     },
     "execution_count": 38,
     "metadata": {},
     "output_type": "execute_result"
    }
   ],
   "source": [
    "X = iris['data'][:, (2, 3)]\n",
    "y = iris['target']\n",
    "softmax_reg = LogisticRegression(multi_class='multinomial', solver='lbfgs', C=10)\n",
    "softmax_reg.fit(X,y)"
   ]
  },
  {
   "cell_type": "code",
   "execution_count": 39,
   "id": "befa3218",
   "metadata": {},
   "outputs": [
    {
     "data": {
      "text/plain": [
       "array([2])"
      ]
     },
     "execution_count": 39,
     "metadata": {},
     "output_type": "execute_result"
    }
   ],
   "source": [
    "softmax_reg.predict([[5,2]])"
   ]
  },
  {
   "cell_type": "code",
   "execution_count": 40,
   "id": "18b53c43",
   "metadata": {},
   "outputs": [
    {
     "data": {
      "text/plain": [
       "array([[6.38014896e-07, 5.74929995e-02, 9.42506362e-01]])"
      ]
     },
     "execution_count": 40,
     "metadata": {},
     "output_type": "execute_result"
    }
   ],
   "source": [
    "softmax_reg.predict_proba([[5,2]])"
   ]
  },
  {
   "cell_type": "code",
   "execution_count": null,
   "id": "a9f46917",
   "metadata": {},
   "outputs": [],
   "source": []
  }
 ],
 "metadata": {
  "kernelspec": {
   "display_name": "Python 3 (ipykernel)",
   "language": "python",
   "name": "python3"
  },
  "language_info": {
   "codemirror_mode": {
    "name": "ipython",
    "version": 3
   },
   "file_extension": ".py",
   "mimetype": "text/x-python",
   "name": "python",
   "nbconvert_exporter": "python",
   "pygments_lexer": "ipython3",
   "version": "3.8.12"
  }
 },
 "nbformat": 4,
 "nbformat_minor": 5
}
