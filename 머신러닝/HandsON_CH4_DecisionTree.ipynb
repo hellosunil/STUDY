{
 "cells": [
  {
   "cell_type": "markdown",
   "id": "fc598648",
   "metadata": {},
   "source": [
    "### 결정 트리(Decision Tree Model)"
   ]
  },
  {
   "cell_type": "markdown",
   "id": "15628305",
   "metadata": {},
   "source": [
    "##### 결정 트리 학습과 시각화\n",
    "- 분류, 회귀, 다중출력을 제공하는 다재다능한 알고리즘\n",
    "- 복잡한 데이터셋도 학습할 수 있음\n",
    "- 랜덤 포레스트의 기본 구성 요소로써 활용되고 있음"
   ]
  },
  {
   "cell_type": "code",
   "execution_count": 1,
   "id": "6c265f8c",
   "metadata": {},
   "outputs": [
    {
     "data": {
      "text/plain": [
       "0.9933333333333333"
      ]
     },
     "execution_count": 1,
     "metadata": {},
     "output_type": "execute_result"
    }
   ],
   "source": [
    "from sklearn.datasets import load_iris\n",
    "from sklearn.tree import DecisionTreeClassifier\n",
    "iris = load_iris()\n",
    "X = iris['data'][:,2:]\n",
    "y = iris['target']\n",
    "\n",
    "tree_clf = DecisionTreeClassifier()\n",
    "tree_clf.fit(X,y)\n",
    "tree_clf.score(X,y)"
   ]
  },
  {
   "cell_type": "code",
   "execution_count": 27,
   "id": "046a6414",
   "metadata": {},
   "outputs": [
    {
     "data": {
      "text/plain": [
       "[Text(167.4, 199.32, 'X[0] <= 2.4499999881\\ngini = 0.6666666667\\nsamples = 150\\nvalue = [50, 50, 50]'),\n",
       " Text(136.96363636363637, 163.07999999999998, 'gini = 0.0\\nsamples = 50\\nvalue = [50, 0, 0]'),\n",
       " Text(197.83636363636364, 163.07999999999998, 'X[1] <= 1.75\\ngini = 0.5\\nsamples = 100\\nvalue = [0, 50, 50]'),\n",
       " Text(121.74545454545455, 126.83999999999999, 'X[0] <= 4.9500000477\\ngini = 0.1680384088\\nsamples = 54\\nvalue = [0, 49, 5]'),\n",
       " Text(60.872727272727275, 90.6, 'X[1] <= 1.6500000358\\ngini = 0.0407986111\\nsamples = 48\\nvalue = [0, 47, 1]'),\n",
       " Text(30.436363636363637, 54.359999999999985, 'gini = 0.0\\nsamples = 47\\nvalue = [0, 47, 0]'),\n",
       " Text(91.30909090909091, 54.359999999999985, 'gini = 0.0\\nsamples = 1\\nvalue = [0, 0, 1]'),\n",
       " Text(182.61818181818182, 90.6, 'X[1] <= 1.5500000119\\ngini = 0.4444444444\\nsamples = 6\\nvalue = [0, 2, 4]'),\n",
       " Text(152.1818181818182, 54.359999999999985, 'gini = 0.0\\nsamples = 3\\nvalue = [0, 0, 3]'),\n",
       " Text(213.05454545454546, 54.359999999999985, 'X[0] <= 5.4500000477\\ngini = 0.4444444444\\nsamples = 3\\nvalue = [0, 2, 1]'),\n",
       " Text(182.61818181818182, 18.119999999999976, 'gini = 0.0\\nsamples = 2\\nvalue = [0, 2, 0]'),\n",
       " Text(243.4909090909091, 18.119999999999976, 'gini = 0.0\\nsamples = 1\\nvalue = [0, 0, 1]'),\n",
       " Text(273.92727272727274, 126.83999999999999, 'X[0] <= 4.8500001431\\ngini = 0.0425330813\\nsamples = 46\\nvalue = [0, 1, 45]'),\n",
       " Text(243.4909090909091, 90.6, 'gini = 0.4444444444\\nsamples = 3\\nvalue = [0, 1, 2]'),\n",
       " Text(304.3636363636364, 90.6, 'gini = 0.0\\nsamples = 43\\nvalue = [0, 0, 43]')]"
      ]
     },
     "execution_count": 27,
     "metadata": {},
     "output_type": "execute_result"
    },
    {
     "data": {
      "image/png": "[encoded data removed]",
      "text/plain": [
       "<Figure size 432x288 with 1 Axes>"
      ]
     },
     "metadata": {
      "needs_background": "light"
     },
     "output_type": "display_data"
    }
   ],
   "source": [
    "# plot_tree()를 사용해서 시각화 할 수 있음\n",
    "from sklearn import tree\n",
    "tree.plot_tree(tree_clf, fontsize=5, precision=10)"
   ]
  },
  {
   "cell_type": "markdown",
   "id": "c1672421",
   "metadata": {},
   "source": [
    "##### 예측하기\n",
    "- 루트노드에서 왼쪽, 오른쪽 리프노드를 따라 분류해내는 방식\n",
    "- 스케일링 과정이 필요하지 않음\n",
    "- gini 불순도를 최소화 하는 방향으로 분류함\n",
    "- sklearn은 CART 알고리즘을 사용하여 이진분류만을 사용함\n",
    "- ID3 같은 알고리즘은 둘 이상의 자식 노드를 가진 결정트리를 만들 수 있음"
   ]
  },
  {
   "cell_type": "markdown",
   "id": "adc86921",
   "metadata": {},
   "source": [
    "##### 클래스 확률 추정\n",
    "- 한 샘플이 특정 클래스 k에 속할 활률을 추정할 수 있음"
   ]
  },
  {
   "cell_type": "code",
   "execution_count": 28,
   "id": "2e85eb8d",
   "metadata": {},
   "outputs": [
    {
     "data": {
      "text/plain": [
       "array([[0., 0., 1.]])"
      ]
     },
     "execution_count": 28,
     "metadata": {},
     "output_type": "execute_result"
    }
   ],
   "source": [
    "tree_clf.predict_proba([[5, 1.5]])"
   ]
  },
  {
   "cell_type": "code",
   "execution_count": 29,
   "id": "e96d0084",
   "metadata": {},
   "outputs": [
    {
     "data": {
      "text/plain": [
       "array([2])"
      ]
     },
     "execution_count": 29,
     "metadata": {},
     "output_type": "execute_result"
    }
   ],
   "source": [
    "tree_clf.predict([[5, 1.5]])"
   ]
  },
  {
   "cell_type": "markdown",
   "id": "9ecfc05d",
   "metadata": {},
   "source": [
    "##### 규제 매개변수\n",
    "- DecisionTree는 과적합되기 쉬움\n",
    "- max_depth 등의 규제 매개변수를 줄이는 방식으로 이를 조절함(기본값=None)"
   ]
  },
  {
   "cell_type": "markdown",
   "id": "fbd3a9f7",
   "metadata": {},
   "source": [
    "##### 회귀\n",
    "- DecisionTreeRegressor"
   ]
  },
  {
   "cell_type": "code",
   "execution_count": 31,
   "id": "0b38c56c",
   "metadata": {},
   "outputs": [
    {
     "data": {
      "text/plain": [
       "DecisionTreeRegressor(max_depth=2)"
      ]
     },
     "execution_count": 31,
     "metadata": {},
     "output_type": "execute_result"
    }
   ],
   "source": [
    "from sklearn.tree import DecisionTreeRegressor\n",
    "\n",
    "tree_reg = DecisionTreeRegressor(max_depth=2)\n",
    "tree_reg.fit(X,y)"
   ]
  },
  {
   "cell_type": "code",
   "execution_count": 32,
   "id": "027b4dc6",
   "metadata": {},
   "outputs": [
    {
     "data": {
      "text/plain": [
       "0.9448470209339774"
      ]
     },
     "execution_count": 32,
     "metadata": {},
     "output_type": "execute_result"
    }
   ],
   "source": [
    "tree_reg.score(X,y)"
   ]
  },
  {
   "cell_type": "markdown",
   "id": "ddb5b123",
   "metadata": {},
   "source": [
    "##### 불안정성\n",
    "- 결정트리 모델은 기본적으로 해석하기 쉬우며, 여러 용도로 사용할 수 있고, 성능도 뛰어남\n",
    "- 하지만, 결정트리는 계단 모양의 결정경계를 만듦\n",
    "- 따라서 훈련세트의 회전에 민감하게 반응할 수밖에 없음\n",
    "- 또한, 훈련 데이터의 작은 변화에도 민감하게 반응함"
   ]
  }
 ],
 "metadata": {
  "kernelspec": {
   "display_name": "Python 3 (ipykernel)",
   "language": "python",
   "name": "python3"
  },
  "language_info": {
   "codemirror_mode": {
    "name": "ipython",
    "version": 3
   },
   "file_extension": ".py",
   "mimetype": "text/x-python",
   "name": "python",
   "nbconvert_exporter": "python",
   "pygments_lexer": "ipython3",
   "version": "3.8.12"
  }
 },
 "nbformat": 4,
 "nbformat_minor": 5
}
