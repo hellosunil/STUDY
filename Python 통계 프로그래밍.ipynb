{
 "cells": [
  {
   "cell_type": "code",
   "execution_count": 1,
   "id": "82c6df26",
   "metadata": {},
   "outputs": [],
   "source": [
    "import pandas as pd\n",
    "import numpy as np"
   ]
  },
  {
   "cell_type": "markdown",
   "id": "0e9767cb",
   "metadata": {},
   "source": [
    "### 데이터 백터 저장하기"
   ]
  },
  {
   "cell_type": "code",
   "execution_count": 8,
   "id": "fd59ba85",
   "metadata": {},
   "outputs": [],
   "source": [
    "score1 = np.array([96, 80, 76, 96, 88, 75, 78])\n",
    "score2 = np.array([67, 83, 76, 96, 88, 75, 78])"
   ]
  },
  {
   "cell_type": "code",
   "execution_count": 9,
   "id": "3e7c9d70",
   "metadata": {
    "scrolled": true
   },
   "outputs": [
    {
     "name": "stdout",
     "output_type": "stream",
     "text": [
      "[96 80 76 96 88 75 78 67 83 76 96 88 75 78]\n"
     ]
    }
   ],
   "source": [
    "score = np.append(score1, score2)\n",
    "print(score)"
   ]
  },
  {
   "cell_type": "markdown",
   "id": "4d78889b",
   "metadata": {},
   "source": [
    "- 데이터 수평결합"
   ]
  },
  {
   "cell_type": "code",
   "execution_count": 10,
   "id": "18d62a25",
   "metadata": {},
   "outputs": [
    {
     "name": "stdout",
     "output_type": "stream",
     "text": [
      "[96 80 76 96 88 75 78 67 83 76 96 88 75 78]\n"
     ]
    }
   ],
   "source": [
    "sc = np.hstack([score1, score2])\n",
    "print(sc)"
   ]
  },
  {
   "cell_type": "markdown",
   "id": "0ee7471b",
   "metadata": {},
   "source": [
    "* 숫자의 올림, 내림, 버림, 반올림"
   ]
  },
  {
   "cell_type": "code",
   "execution_count": 14,
   "id": "10a0ba50",
   "metadata": {},
   "outputs": [
    {
     "name": "stdout",
     "output_type": "stream",
     "text": [
      "3\n",
      "2\n",
      "2\n",
      "2.55\n"
     ]
    }
   ],
   "source": [
    "import math\n",
    "z = math.ceil(2.54864) #올림\n",
    "print(z)\n",
    "z = math.floor(2.54864) #내림\n",
    "print(z)\n",
    "z = math.trunc(2.54864) #버림\n",
    "print(z)\n",
    "z = round(2.54864, 2) # 소수점 이하 2 자리 반올림\n",
    "print(z)"
   ]
  },
  {
   "cell_type": "markdown",
   "id": "efa40ca7",
   "metadata": {},
   "source": [
    "### 기초 통계량 구하기"
   ]
  },
  {
   "cell_type": "code",
   "execution_count": 36,
   "id": "ea7373d3",
   "metadata": {},
   "outputs": [],
   "source": [
    "import scipy as sp\n",
    "import numpy as np"
   ]
  },
  {
   "cell_type": "code",
   "execution_count": 37,
   "id": "419061a1",
   "metadata": {},
   "outputs": [],
   "source": [
    "score1 = np.array([96, 80, 76, 96, 88, 75, 78])"
   ]
  },
  {
   "cell_type": "code",
   "execution_count": 38,
   "id": "7d7f21c1",
   "metadata": {},
   "outputs": [
    {
     "data": {
      "text/plain": [
       "75"
      ]
     },
     "execution_count": 38,
     "metadata": {},
     "output_type": "execute_result"
    }
   ],
   "source": [
    "np.amin(score1) # 최소값"
   ]
  },
  {
   "cell_type": "code",
   "execution_count": 39,
   "id": "33be707e",
   "metadata": {},
   "outputs": [
    {
     "data": {
      "text/plain": [
       "96"
      ]
     },
     "execution_count": 39,
     "metadata": {},
     "output_type": "execute_result"
    }
   ],
   "source": [
    "np.amax(score1) # 최대값"
   ]
  },
  {
   "cell_type": "code",
   "execution_count": 42,
   "id": "bf682b9d",
   "metadata": {},
   "outputs": [
    {
     "data": {
      "text/plain": [
       "array([10.507,  8.756,  8.318, 10.507,  9.632,  8.209,  8.537])"
      ]
     },
     "execution_count": 42,
     "metadata": {},
     "output_type": "execute_result"
    }
   ],
   "source": [
    "score1/np.std(score1, ddof=1) #표준화"
   ]
  },
  {
   "cell_type": "code",
   "execution_count": 43,
   "id": "813ac141",
   "metadata": {},
   "outputs": [
    {
     "data": {
      "text/plain": [
       "array([11.349,  9.458,  8.985, 11.349, 10.403,  8.867,  9.221])"
      ]
     },
     "execution_count": 43,
     "metadata": {},
     "output_type": "execute_result"
    }
   ],
   "source": [
    "score1/np.std(score1, ddof=0) #표준화(unbiased var)"
   ]
  },
  {
   "cell_type": "code",
   "execution_count": 45,
   "id": "9a86bb07",
   "metadata": {},
   "outputs": [
    {
     "data": {
      "text/plain": [
       "77.0"
      ]
     },
     "execution_count": 45,
     "metadata": {},
     "output_type": "execute_result"
    }
   ],
   "source": [
    "from scipy import stats\n",
    "stats.scoreatpercentile(score1, 25) # 25 percentile"
   ]
  },
  {
   "cell_type": "markdown",
   "id": "34e70ec2",
   "metadata": {},
   "source": [
    "### 행, 열별 함수 적용하기"
   ]
  },
  {
   "cell_type": "markdown",
   "id": "4afbf053",
   "metadata": {},
   "source": [
    "* 데이터프레임 생성"
   ]
  },
  {
   "cell_type": "code",
   "execution_count": 56,
   "id": "415afcc1",
   "metadata": {},
   "outputs": [
    {
     "data": {
      "text/html": [
       "<div>\n",
       "<style scoped>\n",
       "    .dataframe tbody tr th:only-of-type {\n",
       "        vertical-align: middle;\n",
       "    }\n",
       "\n",
       "    .dataframe tbody tr th {\n",
       "        vertical-align: top;\n",
       "    }\n",
       "\n",
       "    .dataframe thead th {\n",
       "        text-align: right;\n",
       "    }\n",
       "</style>\n",
       "<table border=\"1\" class=\"dataframe\">\n",
       "  <thead>\n",
       "    <tr style=\"text-align: right;\">\n",
       "      <th></th>\n",
       "      <th>Alphabet</th>\n",
       "      <th>num</th>\n",
       "      <th>length</th>\n",
       "    </tr>\n",
       "  </thead>\n",
       "  <tbody>\n",
       "    <tr>\n",
       "      <th>0</th>\n",
       "      <td>a</td>\n",
       "      <td>3</td>\n",
       "      <td>0</td>\n",
       "    </tr>\n",
       "    <tr>\n",
       "      <th>1</th>\n",
       "      <td>b</td>\n",
       "      <td>3</td>\n",
       "      <td>1</td>\n",
       "    </tr>\n",
       "    <tr>\n",
       "      <th>2</th>\n",
       "      <td>c</td>\n",
       "      <td>3</td>\n",
       "      <td>2</td>\n",
       "    </tr>\n",
       "    <tr>\n",
       "      <th>3</th>\n",
       "      <td>d</td>\n",
       "      <td>3</td>\n",
       "      <td>3</td>\n",
       "    </tr>\n",
       "    <tr>\n",
       "      <th>4</th>\n",
       "      <td>e</td>\n",
       "      <td>3</td>\n",
       "      <td>4</td>\n",
       "    </tr>\n",
       "    <tr>\n",
       "      <th>5</th>\n",
       "      <td>f</td>\n",
       "      <td>3</td>\n",
       "      <td>5</td>\n",
       "    </tr>\n",
       "    <tr>\n",
       "      <th>6</th>\n",
       "      <td>g</td>\n",
       "      <td>3</td>\n",
       "      <td>6</td>\n",
       "    </tr>\n",
       "    <tr>\n",
       "      <th>7</th>\n",
       "      <td>h</td>\n",
       "      <td>3</td>\n",
       "      <td>7</td>\n",
       "    </tr>\n",
       "    <tr>\n",
       "      <th>8</th>\n",
       "      <td>i</td>\n",
       "      <td>3</td>\n",
       "      <td>8</td>\n",
       "    </tr>\n",
       "    <tr>\n",
       "      <th>9</th>\n",
       "      <td>j</td>\n",
       "      <td>3</td>\n",
       "      <td>9</td>\n",
       "    </tr>\n",
       "  </tbody>\n",
       "</table>\n",
       "</div>"
      ],
      "text/plain": [
       "  Alphabet  num  length\n",
       "0        a    3       0\n",
       "1        b    3       1\n",
       "2        c    3       2\n",
       "3        d    3       3\n",
       "4        e    3       4\n",
       "5        f    3       5\n",
       "6        g    3       6\n",
       "7        h    3       7\n",
       "8        i    3       8\n",
       "9        j    3       9"
      ]
     },
     "execution_count": 56,
     "metadata": {},
     "output_type": "execute_result"
    }
   ],
   "source": [
    "df = pd.DataFrame({\n",
    "    'Alphabet' : ['a','b','c','d','e','f','g','h','i','j'],\n",
    "    'num' : [3, 3, 3, 3, 3, 3, 3, 3, 3, 3],\n",
    "    'length' : np.arange(10)\n",
    "})\n",
    "df # python의 dict와 비슷"
   ]
  },
  {
   "cell_type": "code",
   "execution_count": 57,
   "id": "64f266f3",
   "metadata": {},
   "outputs": [
    {
     "data": {
      "text/plain": [
       "num       3.0\n",
       "length    4.5\n",
       "dtype: float64"
      ]
     },
     "execution_count": 57,
     "metadata": {},
     "output_type": "execute_result"
    }
   ],
   "source": [
    "df.mean() #열 별 평균, 계산할 수 없는 열은 자동으로 넘어감"
   ]
  },
  {
   "cell_type": "code",
   "execution_count": 59,
   "id": "dc2f546e",
   "metadata": {},
   "outputs": [
    {
     "data": {
      "text/plain": [
       "num       3.0\n",
       "length    4.5\n",
       "dtype: float64"
      ]
     },
     "execution_count": 59,
     "metadata": {},
     "output_type": "execute_result"
    }
   ],
   "source": [
    "df.mean(axis=0) # column 별 평균"
   ]
  },
  {
   "cell_type": "code",
   "execution_count": 61,
   "id": "63052c62",
   "metadata": {
    "scrolled": true
   },
   "outputs": [
    {
     "data": {
      "text/plain": [
       "0    1.5\n",
       "1    2.0\n",
       "2    2.5\n",
       "3    3.0\n",
       "4    3.5\n",
       "5    4.0\n",
       "6    4.5\n",
       "7    5.0\n",
       "8    5.5\n",
       "9    6.0\n",
       "dtype: float64"
      ]
     },
     "execution_count": 61,
     "metadata": {},
     "output_type": "execute_result"
    }
   ],
   "source": [
    "df.mean(axis=1) # row 별 평균"
   ]
  },
  {
   "cell_type": "markdown",
   "id": "2d5d97c1",
   "metadata": {},
   "source": [
    "* 순서함수"
   ]
  },
  {
   "cell_type": "code",
   "execution_count": 67,
   "id": "98133d40",
   "metadata": {},
   "outputs": [],
   "source": [
    "a = [3,2,1,4,5]"
   ]
  },
  {
   "cell_type": "code",
   "execution_count": 68,
   "id": "0e240472",
   "metadata": {},
   "outputs": [
    {
     "data": {
      "text/plain": [
       "[1, 2, 3, 4, 5]"
      ]
     },
     "execution_count": 68,
     "metadata": {},
     "output_type": "execute_result"
    }
   ],
   "source": [
    "sorted(a)"
   ]
  },
  {
   "cell_type": "code",
   "execution_count": 69,
   "id": "455449a8",
   "metadata": {
    "scrolled": true
   },
   "outputs": [
    {
     "data": {
      "text/plain": [
       "array([1, 2, 3, 4, 5])"
      ]
     },
     "execution_count": 69,
     "metadata": {},
     "output_type": "execute_result"
    }
   ],
   "source": [
    "np.sort(a) #array로 반환"
   ]
  },
  {
   "cell_type": "code",
   "execution_count": 70,
   "id": "2ca0c33f",
   "metadata": {},
   "outputs": [
    {
     "data": {
      "text/plain": [
       "[5, 4, 3, 2, 1]"
      ]
     },
     "execution_count": 70,
     "metadata": {},
     "output_type": "execute_result"
    }
   ],
   "source": [
    "sorted(a, reverse=True)"
   ]
  },
  {
   "cell_type": "code",
   "execution_count": 71,
   "id": "89b1b338",
   "metadata": {},
   "outputs": [
    {
     "data": {
      "text/plain": [
       "[1, 2, 3, 4, 5]"
      ]
     },
     "execution_count": 71,
     "metadata": {},
     "output_type": "execute_result"
    }
   ],
   "source": [
    "a.sort() # 정렬된 값이 a에 적용됨\n",
    "a"
   ]
  },
  {
   "cell_type": "markdown",
   "id": "21502b27",
   "metadata": {},
   "source": [
    "* 순서함수의 활용"
   ]
  },
  {
   "cell_type": "code",
   "execution_count": 74,
   "id": "58c25a6c",
   "metadata": {},
   "outputs": [
    {
     "data": {
      "text/html": [
       "<div>\n",
       "<style scoped>\n",
       "    .dataframe tbody tr th:only-of-type {\n",
       "        vertical-align: middle;\n",
       "    }\n",
       "\n",
       "    .dataframe tbody tr th {\n",
       "        vertical-align: top;\n",
       "    }\n",
       "\n",
       "    .dataframe thead th {\n",
       "        text-align: right;\n",
       "    }\n",
       "</style>\n",
       "<table border=\"1\" class=\"dataframe\">\n",
       "  <thead>\n",
       "    <tr style=\"text-align: right;\">\n",
       "      <th></th>\n",
       "      <th>name</th>\n",
       "      <th>age</th>\n",
       "      <th>height</th>\n",
       "    </tr>\n",
       "  </thead>\n",
       "  <tbody>\n",
       "    <tr>\n",
       "      <th>0</th>\n",
       "      <td>KIM</td>\n",
       "      <td>24.0</td>\n",
       "      <td>160</td>\n",
       "    </tr>\n",
       "    <tr>\n",
       "      <th>1</th>\n",
       "      <td>LEE</td>\n",
       "      <td>32.0</td>\n",
       "      <td>170</td>\n",
       "    </tr>\n",
       "    <tr>\n",
       "      <th>2</th>\n",
       "      <td>PARK</td>\n",
       "      <td>24.0</td>\n",
       "      <td>180</td>\n",
       "    </tr>\n",
       "    <tr>\n",
       "      <th>3</th>\n",
       "      <td>BAE</td>\n",
       "      <td>NaN</td>\n",
       "      <td>155</td>\n",
       "    </tr>\n",
       "  </tbody>\n",
       "</table>\n",
       "</div>"
      ],
      "text/plain": [
       "   name   age  height\n",
       "0   KIM  24.0     160\n",
       "1   LEE  32.0     170\n",
       "2  PARK  24.0     180\n",
       "3   BAE   NaN     155"
      ]
     },
     "execution_count": 74,
     "metadata": {},
     "output_type": "execute_result"
    }
   ],
   "source": [
    "df = pd.DataFrame({\n",
    "    'name' : ['KIM', 'LEE', 'PARK', 'BAE'],\n",
    "    'age' : [24, 32, 24, np.nan],\n",
    "    'height' : [160, 170, 180, 155]\n",
    "})\n",
    "df"
   ]
  },
  {
   "cell_type": "code",
   "execution_count": 77,
   "id": "399a7c60",
   "metadata": {},
   "outputs": [
    {
     "data": {
      "text/html": [
       "<div>\n",
       "<style scoped>\n",
       "    .dataframe tbody tr th:only-of-type {\n",
       "        vertical-align: middle;\n",
       "    }\n",
       "\n",
       "    .dataframe tbody tr th {\n",
       "        vertical-align: top;\n",
       "    }\n",
       "\n",
       "    .dataframe thead th {\n",
       "        text-align: right;\n",
       "    }\n",
       "</style>\n",
       "<table border=\"1\" class=\"dataframe\">\n",
       "  <thead>\n",
       "    <tr style=\"text-align: right;\">\n",
       "      <th></th>\n",
       "      <th>name</th>\n",
       "      <th>age</th>\n",
       "      <th>height</th>\n",
       "      <th>age_rank</th>\n",
       "    </tr>\n",
       "  </thead>\n",
       "  <tbody>\n",
       "    <tr>\n",
       "      <th>0</th>\n",
       "      <td>KIM</td>\n",
       "      <td>24.0</td>\n",
       "      <td>160</td>\n",
       "      <td>2.0</td>\n",
       "    </tr>\n",
       "    <tr>\n",
       "      <th>1</th>\n",
       "      <td>LEE</td>\n",
       "      <td>32.0</td>\n",
       "      <td>170</td>\n",
       "      <td>1.0</td>\n",
       "    </tr>\n",
       "    <tr>\n",
       "      <th>2</th>\n",
       "      <td>PARK</td>\n",
       "      <td>24.0</td>\n",
       "      <td>180</td>\n",
       "      <td>2.0</td>\n",
       "    </tr>\n",
       "    <tr>\n",
       "      <th>3</th>\n",
       "      <td>BAE</td>\n",
       "      <td>NaN</td>\n",
       "      <td>155</td>\n",
       "      <td>4.0</td>\n",
       "    </tr>\n",
       "  </tbody>\n",
       "</table>\n",
       "</div>"
      ],
      "text/plain": [
       "   name   age  height  age_rank\n",
       "0   KIM  24.0     160       2.0\n",
       "1   LEE  32.0     170       1.0\n",
       "2  PARK  24.0     180       2.0\n",
       "3   BAE   NaN     155       4.0"
      ]
     },
     "execution_count": 77,
     "metadata": {},
     "output_type": "execute_result"
    }
   ],
   "source": [
    "df['age_rank'] = df['age'].rank(method = 'min', ascending=False, na_option='bottom')\n",
    "df"
   ]
  },
  {
   "cell_type": "code",
   "execution_count": 78,
   "id": "176dd546",
   "metadata": {},
   "outputs": [],
   "source": [
    "# ascending=False  :  내림차순 정렬\n",
    "# method = 'min'   :   동점일 경우 최솟값 할당\n",
    "# na_option='bottom'   : 결측값은 후순위 할당"
   ]
  },
  {
   "cell_type": "markdown",
   "id": "bafb6755",
   "metadata": {},
   "source": [
    "* 결측치를 선순위를 주고자 할 경우"
   ]
  },
  {
   "cell_type": "code",
   "execution_count": 79,
   "id": "a09be4bf",
   "metadata": {},
   "outputs": [
    {
     "data": {
      "text/html": [
       "<div>\n",
       "<style scoped>\n",
       "    .dataframe tbody tr th:only-of-type {\n",
       "        vertical-align: middle;\n",
       "    }\n",
       "\n",
       "    .dataframe tbody tr th {\n",
       "        vertical-align: top;\n",
       "    }\n",
       "\n",
       "    .dataframe thead th {\n",
       "        text-align: right;\n",
       "    }\n",
       "</style>\n",
       "<table border=\"1\" class=\"dataframe\">\n",
       "  <thead>\n",
       "    <tr style=\"text-align: right;\">\n",
       "      <th></th>\n",
       "      <th>name</th>\n",
       "      <th>age</th>\n",
       "      <th>height</th>\n",
       "      <th>age_rank</th>\n",
       "    </tr>\n",
       "  </thead>\n",
       "  <tbody>\n",
       "    <tr>\n",
       "      <th>0</th>\n",
       "      <td>KIM</td>\n",
       "      <td>24.0</td>\n",
       "      <td>160</td>\n",
       "      <td>3.0</td>\n",
       "    </tr>\n",
       "    <tr>\n",
       "      <th>1</th>\n",
       "      <td>LEE</td>\n",
       "      <td>32.0</td>\n",
       "      <td>170</td>\n",
       "      <td>2.0</td>\n",
       "    </tr>\n",
       "    <tr>\n",
       "      <th>2</th>\n",
       "      <td>PARK</td>\n",
       "      <td>24.0</td>\n",
       "      <td>180</td>\n",
       "      <td>3.0</td>\n",
       "    </tr>\n",
       "    <tr>\n",
       "      <th>3</th>\n",
       "      <td>BAE</td>\n",
       "      <td>NaN</td>\n",
       "      <td>155</td>\n",
       "      <td>1.0</td>\n",
       "    </tr>\n",
       "  </tbody>\n",
       "</table>\n",
       "</div>"
      ],
      "text/plain": [
       "   name   age  height  age_rank\n",
       "0   KIM  24.0     160       3.0\n",
       "1   LEE  32.0     170       2.0\n",
       "2  PARK  24.0     180       3.0\n",
       "3   BAE   NaN     155       1.0"
      ]
     },
     "execution_count": 79,
     "metadata": {},
     "output_type": "execute_result"
    }
   ],
   "source": [
    "df['age_rank'] = df['age'].rank(method = 'min', ascending=False, na_option='top')\n",
    "df"
   ]
  },
  {
   "cell_type": "markdown",
   "id": "7ceab527",
   "metadata": {},
   "source": [
    "* DataFrame 안에서 'name'을 기준으로 순서함수 적용하기"
   ]
  },
  {
   "cell_type": "code",
   "execution_count": 80,
   "id": "2b7a0f4c",
   "metadata": {},
   "outputs": [
    {
     "data": {
      "text/html": [
       "<div>\n",
       "<style scoped>\n",
       "    .dataframe tbody tr th:only-of-type {\n",
       "        vertical-align: middle;\n",
       "    }\n",
       "\n",
       "    .dataframe tbody tr th {\n",
       "        vertical-align: top;\n",
       "    }\n",
       "\n",
       "    .dataframe thead th {\n",
       "        text-align: right;\n",
       "    }\n",
       "</style>\n",
       "<table border=\"1\" class=\"dataframe\">\n",
       "  <thead>\n",
       "    <tr style=\"text-align: right;\">\n",
       "      <th></th>\n",
       "      <th>name</th>\n",
       "      <th>age</th>\n",
       "      <th>height</th>\n",
       "      <th>age_rank</th>\n",
       "    </tr>\n",
       "  </thead>\n",
       "  <tbody>\n",
       "    <tr>\n",
       "      <th>3</th>\n",
       "      <td>BAE</td>\n",
       "      <td>NaN</td>\n",
       "      <td>155</td>\n",
       "      <td>1.0</td>\n",
       "    </tr>\n",
       "    <tr>\n",
       "      <th>0</th>\n",
       "      <td>KIM</td>\n",
       "      <td>24.0</td>\n",
       "      <td>160</td>\n",
       "      <td>3.0</td>\n",
       "    </tr>\n",
       "    <tr>\n",
       "      <th>1</th>\n",
       "      <td>LEE</td>\n",
       "      <td>32.0</td>\n",
       "      <td>170</td>\n",
       "      <td>2.0</td>\n",
       "    </tr>\n",
       "    <tr>\n",
       "      <th>2</th>\n",
       "      <td>PARK</td>\n",
       "      <td>24.0</td>\n",
       "      <td>180</td>\n",
       "      <td>3.0</td>\n",
       "    </tr>\n",
       "  </tbody>\n",
       "</table>\n",
       "</div>"
      ],
      "text/plain": [
       "   name   age  height  age_rank\n",
       "3   BAE   NaN     155       1.0\n",
       "0   KIM  24.0     160       3.0\n",
       "1   LEE  32.0     170       2.0\n",
       "2  PARK  24.0     180       3.0"
      ]
     },
     "execution_count": 80,
     "metadata": {},
     "output_type": "execute_result"
    }
   ],
   "source": [
    "df_sort_name = df.sort_values(by='name')  # 오름차순 배열\n",
    "df_sort_name"
   ]
  },
  {
   "cell_type": "code",
   "execution_count": 81,
   "id": "e67c539b",
   "metadata": {},
   "outputs": [
    {
     "data": {
      "text/html": [
       "<div>\n",
       "<style scoped>\n",
       "    .dataframe tbody tr th:only-of-type {\n",
       "        vertical-align: middle;\n",
       "    }\n",
       "\n",
       "    .dataframe tbody tr th {\n",
       "        vertical-align: top;\n",
       "    }\n",
       "\n",
       "    .dataframe thead th {\n",
       "        text-align: right;\n",
       "    }\n",
       "</style>\n",
       "<table border=\"1\" class=\"dataframe\">\n",
       "  <thead>\n",
       "    <tr style=\"text-align: right;\">\n",
       "      <th></th>\n",
       "      <th>name</th>\n",
       "      <th>age</th>\n",
       "      <th>height</th>\n",
       "      <th>age_rank</th>\n",
       "    </tr>\n",
       "  </thead>\n",
       "  <tbody>\n",
       "    <tr>\n",
       "      <th>2</th>\n",
       "      <td>PARK</td>\n",
       "      <td>24.0</td>\n",
       "      <td>180</td>\n",
       "      <td>3.0</td>\n",
       "    </tr>\n",
       "    <tr>\n",
       "      <th>1</th>\n",
       "      <td>LEE</td>\n",
       "      <td>32.0</td>\n",
       "      <td>170</td>\n",
       "      <td>2.0</td>\n",
       "    </tr>\n",
       "    <tr>\n",
       "      <th>0</th>\n",
       "      <td>KIM</td>\n",
       "      <td>24.0</td>\n",
       "      <td>160</td>\n",
       "      <td>3.0</td>\n",
       "    </tr>\n",
       "    <tr>\n",
       "      <th>3</th>\n",
       "      <td>BAE</td>\n",
       "      <td>NaN</td>\n",
       "      <td>155</td>\n",
       "      <td>1.0</td>\n",
       "    </tr>\n",
       "  </tbody>\n",
       "</table>\n",
       "</div>"
      ],
      "text/plain": [
       "   name   age  height  age_rank\n",
       "2  PARK  24.0     180       3.0\n",
       "1   LEE  32.0     170       2.0\n",
       "0   KIM  24.0     160       3.0\n",
       "3   BAE   NaN     155       1.0"
      ]
     },
     "execution_count": 81,
     "metadata": {},
     "output_type": "execute_result"
    }
   ],
   "source": [
    "df_sort_name = df.sort_values(by='name', ascending=False)  # 내림차순 배열\n",
    "df_sort_name"
   ]
  },
  {
   "cell_type": "code",
   "execution_count": null,
   "id": "1032de25",
   "metadata": {},
   "outputs": [],
   "source": []
  }
 ],
 "metadata": {
  "kernelspec": {
   "display_name": "Python 3",
   "language": "python",
   "name": "python3"
  },
  "language_info": {
   "codemirror_mode": {
    "name": "ipython",
    "version": 3
   },
   "file_extension": ".py",
   "mimetype": "text/x-python",
   "name": "python",
   "nbconvert_exporter": "python",
   "pygments_lexer": "ipython3",
   "version": "3.8.8"
  }
 },
 "nbformat": 4,
 "nbformat_minor": 5
}
