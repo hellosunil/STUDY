{
 "cells": [
  {
   "cell_type": "code",
   "execution_count": 1,
   "id": "34f0a651",
   "metadata": {},
   "outputs": [],
   "source": [
    "import urllib.request\n",
    "import requests\n",
    "from bs4 import BeautifulSoup\n",
    "import pandas as pd\n",
    "import time\n",
    "import urllib\n",
    "\n",
    "\n",
    "\n"
   ]
  },
  {
   "cell_type": "code",
   "execution_count": null,
   "id": "272b6235",
   "metadata": {},
   "outputs": [],
   "source": [
    "\n",
    "url = 'https://search.pstatic.net/common/?src=http%3A%2F%2Fblogfiles.naver.net%2FMjAyMTA5MDJfMjA4%2FMDAxNjMwNTgxNDQ4NzA0.WJ2J_hTYWRYeGAb73FpKfLaqmWpmBLU8LndHd-ccBrwg.T3fnAEZyMBaUZwQQNN0cSRlQORwnha6LOegs9SkjeB0g.JPEG.heeroyui%2F7.jpg&type=a340'\n",
    "\n",
    "urllib.request.urlretrieve(url, '커피1.jpg') # 저장할 url, 저장할 file_name\n"
   ]
  },
  {
   "cell_type": "code",
   "execution_count": null,
   "id": "58fe1701",
   "metadata": {},
   "outputs": [],
   "source": []
  },
  {
   "cell_type": "code",
   "execution_count": 3,
   "id": "79fa8882",
   "metadata": {},
   "outputs": [
    {
     "name": "stdout",
     "output_type": "stream",
     "text": [
      "검색할 이미지 키워드 입력하세요 : 아이\n"
     ]
    },
    {
     "ename": "AttributeError",
     "evalue": "'NoneType' object has no attribute 'attrs'",
     "output_type": "error",
     "traceback": [
      "\u001b[1;31m---------------------------------------------------------------------------\u001b[0m",
      "\u001b[1;31mAttributeError\u001b[0m                            Traceback (most recent call last)",
      "\u001b[1;32m<ipython-input-3-6d9d1ea1bdf6>\u001b[0m in \u001b[0;36m<module>\u001b[1;34m\u001b[0m\n\u001b[0;32m     13\u001b[0m \u001b[1;33m\u001b[0m\u001b[0m\n\u001b[0;32m     14\u001b[0m \u001b[1;32mfor\u001b[0m \u001b[0mtemp\u001b[0m \u001b[1;32min\u001b[0m \u001b[0mdata1\u001b[0m\u001b[1;33m:\u001b[0m\u001b[1;33m\u001b[0m\u001b[1;33m\u001b[0m\u001b[0m\n\u001b[1;32m---> 15\u001b[1;33m     \u001b[0murl\u001b[0m\u001b[1;33m.\u001b[0m\u001b[0mappend\u001b[0m\u001b[1;33m(\u001b[0m\u001b[0mtemp\u001b[0m\u001b[1;33m.\u001b[0m\u001b[0mfind\u001b[0m\u001b[1;33m(\u001b[0m\u001b[1;34m'img'\u001b[0m\u001b[1;33m)\u001b[0m\u001b[1;33m.\u001b[0m\u001b[0mattrs\u001b[0m\u001b[1;33m[\u001b[0m\u001b[1;34m'src'\u001b[0m\u001b[1;33m]\u001b[0m\u001b[1;33m)\u001b[0m\u001b[1;33m\u001b[0m\u001b[1;33m\u001b[0m\u001b[0m\n\u001b[0m\u001b[0;32m     16\u001b[0m \u001b[1;33m\u001b[0m\u001b[0m\n\u001b[0;32m     17\u001b[0m \u001b[0mprint\u001b[0m\u001b[1;33m(\u001b[0m\u001b[0murl\u001b[0m\u001b[1;33m)\u001b[0m\u001b[1;33m\u001b[0m\u001b[1;33m\u001b[0m\u001b[0m\n",
      "\u001b[1;31mAttributeError\u001b[0m: 'NoneType' object has no attribute 'attrs'"
     ]
    }
   ],
   "source": [
    "keyword = input('검색할 이미지 키워드 입력하세요 : ')\n",
    "keyword1 = urllib.parse.quote(keyword)\n",
    "headers = {'User-Agent' : 'mozilla/5.0', 'Accept-Encoding' : 'gzip,deflate', 'Accept' : '*/*', 'Connection':'keep-alive'}\n",
    "\n",
    "\n",
    "web = requests.get(f'https://search.naver.com/search.naver?where=nexearch&sm=top_hty&fbm=1&ie=utf8&query={keyword1}', headers = headers)\n",
    "    \n",
    "html = web.text\n",
    "soup = BeautifulSoup(html, 'lxml')\n",
    "data1 = soup.find('a', {'class':'link_thumb _imageBox _infoBox'})\n",
    "\n",
    "url = list()\n",
    "\n",
    "for temp in data1:\n",
    "    url.append(temp.find('img').attrs['src'])\n",
    "\n",
    "print(url)\n",
    "\n",
    "# for i in url:    \n",
    "#     urllib.request.urlretrieve(url[i], f'{keyword}{i}.jpg')    \n",
    "    \n"
   ]
  },
  {
   "cell_type": "code",
   "execution_count": 7,
   "id": "42035605",
   "metadata": {},
   "outputs": [],
   "source": [
    "import json"
   ]
  },
  {
   "cell_type": "markdown",
   "id": "a2a82fd7",
   "metadata": {},
   "source": [
    "json은 딕셔너리와 유사\n",
    "{key : value}"
   ]
  },
  {
   "cell_type": "code",
   "execution_count": 9,
   "id": "40974161",
   "metadata": {},
   "outputs": [
    {
     "data": {
      "text/plain": [
       "'홍길동'"
      ]
     },
     "execution_count": 9,
     "metadata": {},
     "output_type": "execute_result"
    }
   ],
   "source": [
    "result = ' {\"name\" : \"홍길동\", \"age\" : 29} '#json parsing을 위해선 문자열로 변경해줘야함\n",
    "jdata = json.loads(result)\n",
    "jdata['name']"
   ]
  },
  {
   "cell_type": "code",
   "execution_count": 46,
   "id": "d0ed073b",
   "metadata": {
    "scrolled": true
   },
   "outputs": [
    {
     "name": "stdout",
     "output_type": "stream",
     "text": [
      "네이버 쇼핑 검색어 : 비스포크\n"
     ]
    }
   ],
   "source": [
    "keyword = input('네이버 쇼핑 검색어 : ')\n",
    "keyword1 = urllib.parse.quote(keyword)\n",
    "\n",
    "for i in range(1, 11):\n",
    "    page = requests.get(f\"https://search.shopping.naver.com/search/all?frm=NVSHATC&origQuery={keyword1}&pagingIndex={i}&pagingSize=40&productSet=total&query={keyword1}&sort=rel&timestamp=&viewType=list\")\n",
    "\n",
    "    html = page.text\n",
    "    soup = BeautifulSoup(html, 'lxml')\n",
    "    jsonresult = soup.find('script', {'id' : '__NEXT_DATA__'})\n",
    "    jsondata = json.loads(jsonresult.string)\n",
    "    jdata = jsondata['props']['pageProps']['initialState']['products']['list']\n",
    "    \n",
    "    result = pd.DataFrame()\n",
    "    \n",
    "    A = []\n",
    "    B = []\n",
    "    \n",
    "    for j in jdata:\n",
    "        A.append(j['item']['productTitle'])\n",
    "        B.append(j['item']['lowPrice'])\n",
    "\n",
    "    result['제목'] = A\n",
    "    result['내용'] = B\n",
    "    \n",
    "    if i == 1:\n",
    "        result.to_csv('data/{0}쇼핑정보.txt'.format(keyword), mode='a', header=True, index=False)\n",
    "    else:\n",
    "        result.to_csv('data/{0}쇼핑정보.txt'.format(keyword), mode='a', header=False, index=False)"
   ]
  },
  {
   "cell_type": "code",
   "execution_count": null,
   "id": "8fd3c50b",
   "metadata": {},
   "outputs": [],
   "source": []
  }
 ],
 "metadata": {
  "kernelspec": {
   "display_name": "Python 3",
   "language": "python",
   "name": "python3"
  },
  "language_info": {
   "codemirror_mode": {
    "name": "ipython",
    "version": 3
   },
   "file_extension": ".py",
   "mimetype": "text/x-python",
   "name": "python",
   "nbconvert_exporter": "python",
   "pygments_lexer": "ipython3",
   "version": "3.8.8"
  }
 },
 "nbformat": 4,
 "nbformat_minor": 5
}
