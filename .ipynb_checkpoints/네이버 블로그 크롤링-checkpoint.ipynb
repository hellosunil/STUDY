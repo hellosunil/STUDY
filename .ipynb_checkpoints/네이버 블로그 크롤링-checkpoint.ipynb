{
 "cells": [
  {
   "cell_type": "code",
   "execution_count": 10,
   "id": "d1ed0c03",
   "metadata": {},
   "outputs": [],
   "source": [
    "import urllib.request\n",
    "import requests\n",
    "from bs4 import BeautifulSoup\n",
    "import pandas as pd\n",
    "import time\n",
    "import urllib\n",
    "import json\n",
    "import re"
   ]
  },
  {
   "cell_type": "code",
   "execution_count": 39,
   "id": "d94fed17",
   "metadata": {},
   "outputs": [
    {
     "name": "stdout",
     "output_type": "stream",
     "text": [
      "['아름다웠던 속초 카페 리스트', '며칠 전 친구들과 강원도 여행을 가서 미리 알아보았던 속초 카페에 다녀왔어요.카페 분위기가 너무 안락하고 오션뷰가 너무 이뻤던 곳이어서 인상깊어 소개해드려요. 1. 카페우디카페 우디강원도 속초시 영랑해안길 163 주소  강원 속초시 영랑해안길 163전화번호  010-2564-5935영업시간  매일 1000 - 2200 이날 방문한 카페우디는 영랑해안길을 따라 차로 5분 정도 거리에 있었어요.외관은 카페이름과 걸맞게 우드톤의 목재로 되어있고 커피 이외에도 다양한 음료를 팔고있어 만족스러웠던 곳이에요. 입구에는 귀여운 나무 그림이 그려진 간판이 자리하고 있었는데요.카페의 컨셉이 확실한 듯 보여서 과연 어떤 매력을 발산할지 기대가 마구 높아졌어요.  테이크아웃 하는 손님을 위해 특별히 20% 할인을 시켜준다 하더라고요.잠깐 들렀다 가야하는 손님들을 생각하는 사장님의 후한 인심을 느낄 수 있었죠. 속초 카페 안쪽으로 들어서니 깔끔하면서도 모던한 느낌이 눈에 확 들어왔어요.화이트와 우드를 조화롭게 섞어서 그런지 한눈에 봐도 쾌적함이 느껴지더라고요. 가족단위 손님이 자주오는 관광지다보니 어린이의자가 따로 준비되어 있었어요.짧은 동선으로 편하게 가져다 쓰실 수 있으니 가족단위 손님에게 유용하게 쓰이고 있더라고요. 유리 안으로 전시되어 있는 베이커리는 하나같이 영롱한 자태를 보이고 있었어요.평소 쉽게 접하지 못하는 재료들로 만들어진 베이커리들이라 맛에 대한 궁금증이 높아지더라고요. 다양한 메뉴 가운데 시원한 맥주도 포함되어 있어 눈길이 가더라고요.저는 차량을 가지고 와서 마시진 못했지만 오션뷰와 함께 즐기는 맥주를 상상하니 저도 모르게 미소가 지어졌답니다. 부착된 메뉴판을 쭉 살펴보니 음료 종류가 굉장히 다향했어요.이곳의 시그니쳐인 라떼 종류는 물론 커피와 에이드까지 맛깔난 음료들이 정말 많더라고요. 예쁜 가게를 쭉 구경하고 있는데 파릇파릇한 화분들이 모여있는 공간에 시선이 머물렀어요.아기자기하면서도 싱그러운 화분이 프레쉬함을 선사해줘 은근 기분이 좋았답니다. 위로 올라가보니 아늑한 분위기를 뽐내는 공간이 존재하더라고요.통창으로 햇살이 따사롭게 내려와 조용히 힐링하기 딱 좋은 곳이었어요. 분위기를 한껏 살려주는 무드등도 곳곳에 배치되어 있어서 눈에 띄었어요.속초 카페는 공간마다 테이블도 다르고 컨셉도 조금씩 달라서 취향에 맞게 선택하기 좋았답니다. 창만 바깥으로 푸른 바다가 펼쳐져 그야말로 장관이었어요.커피 한잔 즐기며 바다멍때리기를 하니 이것만큼 행복한 일이 없더라고요. 이뿐만 아니라 밖으로 나가게 되면 야외테라스 테이블이 존재했어요.인생샷을 건질 수 있을 정도로 오션뷰가 아름다워서 뇌리에 깊게 남은 공간이었어요. 가게 곳곳을 만끽하는 사이 주문한 음료와 베이커리가 나왔는데요.나무 트레이에 올라오는 정갈한 플레이팅이 너무 예뻐서 사진을 안 찍곤 못배기겠더라고요. 주문한 속초 카페의 라떼와 아인슈페너는 한눈에 봐도 퀼티가 남달랐어요.함께 나온 치즈케이크 역시 매끈한 윤기를 자랑해 침이 꼴깍 넘어갔답니다. 야외 테라스로 자리를 옮겨 오션뷰와 함께 즐겨봤는데요.아름다운 바다와 품격있는 음료를 만끽하니 그야말로 무릉도원이 따로 없었어요. 고소한 맛이 일품이었던 흑임자라떼의 모습인데요.달달한 라떼 뒤에 느껴지는 흑임자의 담백함이 은근 중독성이 강해 쉬지 않고 마셨답니다. 이번에는 치즈가 겹겹이 쌓여져 있던 치즈케이크로 눈길을 돌려봤어요.치즈의 풍미가 굉장히 깊었고, 입안에서 살살 녹는 부드러움이 완전 대박이었어요.다음으로 시선을 사로잡은건 기대가 컸던 베이커리들이었는데요.흑임자 마들렌부터 코코넛 휘낭시에, 바닐라빈 까눌레까지 구성이 알차고 풍족했어요.먼저속 코코넛 휘낭시에의 맛을 음미해 보았어요.포근한 촉감과 함께 느껴지는 코코넛의 단향이 제 입맛에 딱이라 속초 카페에 오길 잘했다는 생각이 들더라고요. 마치 조개처럼 생겼던 흑임자 마들렌도 퀄리티가 남달랐는데요.기분 좋은 달달함이 입속을 가득 코팅해 물릴틈 없이 즐길 수 있었어요.그 옆에 자리한 바닐라빈 까눌레는 속이 굉장치 촉촉해서 목넘김이 좋더라고요.깊은 풍미 역시 대박이라 만족스런 한입이었어요. 뒤이어 주문한 말차라떼와 케이크도 속초 카페의 클라스를 느끼게 해줬어요.테이블 위에 올라오자마자 퍼지는 말차 특유의 향긋함이 매력발산 제대로 하더라고요. 녹색빛의 말차라떼와 케이크를 화분 앞에 둔 뒤 한컷 찍어봤는데요.음료와 디저트는 물론 가게 소품들이 예뻐서 어디에 둬도 그림같은 풍격이 완성되었답니다. 새하얀 크림이 흘러넘치게 올라간 케이크는 모두가 감탄을 내뱉을 정도로 맛잇었어요.말차케이크 사이사이 스며든 크림이 부드러움의 끝을 보여주더라고요. 레몬에이드와 믹스베리, 바질에이드와 같이 카페인이 들어가지 않은 음료도 마음에 쏙 들었는데요.형형색색의 색감이 영롱함을 선사해 또다른 먹는 재미를 선사해줬어요. 이렇게 믹스베리를 들고 바다를 배경으로 삼아 쭉 들이켜봤어요.아름다운 오션뷰와 함께 믹스베리를 즐기니 더더욱 상쾌한 기분이 들었답니다.  이처럼 속초 카페는 맛과 멋을 모두 충족시킬 수 있는 곳이었어요.푸른 바다를 배경으로 남다른 퀄리티의 음료, 베이커리를 즐길 수 있는 곳이라 무조건 재방문할 예정이에요. 2. 형제반점짜장  5,000원 형제반점강원도 속초시 중앙로 290-1 주소  강원 속초시 중앙로 290-1전화번호  033-631-0407영업시간  매일 1100 - 2030 다음으로 들린 형제반점은 짜장면이 정말 기가막힌 곳중 하나였어요.짜장을 수타로 만들어서 그런지 면빨도 굉장히 탱탱하고 잘끊어저 먹기에도 정말 좋았어요.짬뽕국물도 얼큰하고 해물이 많이 들어가있어 만족스러웠어요. 3. 만석닭강정본점후라이드  15,000원 만석닭강정본점강원도 속초시 청초호반로 72 주소  강원 속초시 청초호반로 72전화번호  1577-9042영업시간  매일 1000 - 2000 다음으로 방문한 만석닭강정본점은 현지에서도 정말 잘 알려진 닭강정 집중 하나인데요.닭강정 자체가 굉장히 담백하고 고소해서 꿀맛이었죠 4. 와이에이티아메리카노  5,000원 와이에이티강원도 속초시 설악산로 470-4 주소  강원 속초시 설악산로 470-4전화번호  010-3805-4633영업시간  매일 1000 - 1800 식사를 마치고 방문한 곳은 와이에이티라는 카페에요.카페분위기도 안락하고 너무 좋고 커피자체도 진해서 굉장히 인상깊었어요. 사장님도 친절해서 기분이 굉장히 좋았어요.  5. 솔밭가든막국수막국수  8,000원 솔밭가든막국수강원도 속초시 부월1길 17 주소  강원 속초시 먹거리4길 21전화번호  033-631-1418영업시간  매일 0900 - 1430 주소  강원 속초시 부월1길 17전화번호  033-631-2918영업시간  매일 1000 - 2000 마지막으로 방문한 솔밭가든막국수는 기가막힌 막국수를 파는 곳이었어요.막국수 자체가 굉장히 시원하고 밑반찬들의 입맛에 맞어서 취향저격했던 곳이었어요.   ']\n"
     ]
    }
   ],
   "source": [
    "page = requests.get(\"https://m.blog.naver.com/p1ayme/222451547696\")\n",
    "\n",
    "html = page.text\n",
    "soup = BeautifulSoup(html, 'lxml')\n",
    "data1 = soup.find_all('div', {'class':'se-component-content'})\n",
    "title = soup.find('span', {'class':'se-fs-fs32 se-ff-nanumsquare'}).text\n",
    "data3 = soup.find('div', {'class':'se-main-container'}).text\n",
    "contents = re.sub('[^A-Za-z0-9가-힣- -.]', '', data3)\n",
    "contents = contents.replace('\\r', ' ')\n",
    "\n",
    "\n",
    "naverblog = [title, contents]\n",
    "print(naverblog)"
   ]
  },
  {
   "cell_type": "code",
   "execution_count": null,
   "id": "460adb4c",
   "metadata": {},
   "outputs": [],
   "source": [
    "jsonresult = soup.find('script', {'id' : '__NEXT_DATA__'})\n",
    "jsondata = json.loads(jsonresult.string)\n",
    "jdata = jsondata['props']['pageProps']['initialState']['products']['list']\n",
    "\n",
    "result = pd.DataFrame()\n",
    "\n",
    "A = []\n",
    "B = []\n",
    "\n",
    "for j in jdata:\n",
    "    A.append(j['item']['productTitle'])\n",
    "    B.append(j['item']['lowPrice'])\n",
    "\n",
    "result['제목'] = A\n",
    "result['내용'] = B\n",
    "\n",
    "if i == 1:\n",
    "    result.to_csv('data/{0}쇼핑정보.txt'.format(keyword), mode='a', header=True, index=False)\n",
    "else:\n",
    "    result.to_csv('data/{0}쇼핑정보.txt'.format(keyword), mode='a', header=False, index=False)"
   ]
  },
  {
   "cell_type": "code",
   "execution_count": 51,
   "id": "029fd2fe",
   "metadata": {},
   "outputs": [
    {
     "name": "stdout",
     "output_type": "stream",
     "text": [
      "네이버 쇼핑 검색어 : 커피\n"
     ]
    },
    {
     "ename": "AttributeError",
     "evalue": "'NoneType' object has no attribute 'attrs'",
     "output_type": "error",
     "traceback": [
      "\u001b[1;31m---------------------------------------------------------------------------\u001b[0m",
      "\u001b[1;31mAttributeError\u001b[0m                            Traceback (most recent call last)",
      "\u001b[1;32m<ipython-input-51-2aaebfc88808>\u001b[0m in \u001b[0;36m<module>\u001b[1;34m\u001b[0m\n\u001b[0;32m      5\u001b[0m \u001b[0mkeyword1\u001b[0m \u001b[1;33m=\u001b[0m \u001b[0murllib\u001b[0m\u001b[1;33m.\u001b[0m\u001b[0mparse\u001b[0m\u001b[1;33m.\u001b[0m\u001b[0mquote\u001b[0m\u001b[1;33m(\u001b[0m\u001b[0madress\u001b[0m\u001b[1;33m)\u001b[0m\u001b[1;33m\u001b[0m\u001b[1;33m\u001b[0m\u001b[0m\n\u001b[0;32m      6\u001b[0m \u001b[0mpage\u001b[0m \u001b[1;33m=\u001b[0m \u001b[0mrequests\u001b[0m\u001b[1;33m.\u001b[0m\u001b[0mget\u001b[0m\u001b[1;33m(\u001b[0m\u001b[1;34m\"https://section.blog.naver.com/Search/Post.naver?pageNo=1&rangeType=ALL&orderBy=sim&keyword={keyword1}\"\u001b[0m\u001b[1;33m)\u001b[0m\u001b[1;33m\u001b[0m\u001b[1;33m\u001b[0m\u001b[0m\n\u001b[1;32m----> 7\u001b[1;33m \u001b[0mpage_list\u001b[0m \u001b[1;33m=\u001b[0m \u001b[0msoup\u001b[0m\u001b[1;33m.\u001b[0m\u001b[0mfind\u001b[0m\u001b[1;33m(\u001b[0m\u001b[1;34m'a'\u001b[0m\u001b[1;33m,\u001b[0m \u001b[1;33m{\u001b[0m\u001b[1;34m'class'\u001b[0m\u001b[1;33m:\u001b[0m\u001b[1;34m'text'\u001b[0m\u001b[1;33m}\u001b[0m\u001b[1;33m)\u001b[0m\u001b[1;33m.\u001b[0m\u001b[0mattrs\u001b[0m\u001b[1;33m[\u001b[0m\u001b[1;34m'href'\u001b[0m\u001b[1;33m]\u001b[0m\u001b[1;33m\u001b[0m\u001b[1;33m\u001b[0m\u001b[0m\n\u001b[0m\u001b[0;32m      8\u001b[0m \u001b[0mprint\u001b[0m\u001b[1;33m(\u001b[0m\u001b[0mpage_list\u001b[0m\u001b[1;33m)\u001b[0m\u001b[1;33m\u001b[0m\u001b[1;33m\u001b[0m\u001b[0m\n\u001b[0;32m      9\u001b[0m \u001b[1;33m\u001b[0m\u001b[0m\n",
      "\u001b[1;31mAttributeError\u001b[0m: 'NoneType' object has no attribute 'attrs'"
     ]
    }
   ],
   "source": [
    "adress = input('네이버 쇼핑 검색어 : ')\n",
    "\n",
    "#def nblog(adress):\n",
    "    \n",
    "keyword1 = urllib.parse.quote(adress)\n",
    "page = requests.get(\"https://section.blog.naver.com/Search/Post.naver?pageNo=1&rangeType=ALL&orderBy=sim&keyword={keyword1}\")\n",
    "blog = soup.find('div', {'class':'desc'})\n",
    "blog_adress = blog.find\n",
    "print(page_list)\n",
    "\n",
    "\n",
    "# html = page.text\n",
    "# soup = BeautifulSoup(html, 'lxml')\n",
    "# data1 = soup.find_all('div', {'class':'se-component-content'})\n",
    "# title = soup.find('span', {'class':'se-fs-fs32 se-ff-nanumsquare'}).text\n",
    "# data3 = soup.find('div', {'class':'se-main-container'}).text\n",
    "# contents = re.sub('[^A-Za-z0-9가-힣- ]', '', data3)\n",
    "\n",
    "# naverblog = [title, contents]\n",
    "# print(naverblog)"
   ]
  },
  {
   "cell_type": "code",
   "execution_count": null,
   "id": "bd0b5abc",
   "metadata": {},
   "outputs": [],
   "source": [
    "import os\n",
    "import sys\n",
    "import urllib.request\n",
    "client_id = \"YOUR_CLIENT_ID\"\n",
    "client_secret = \"YOUR_CLIENT_SECRET\"\n",
    "encText = urllib.parse.quote(\"검색할 단어\")\n",
    "url = \"https://openapi.naver.com/v1/search/blog?query=\" + encText # json 결과\n",
    "# url = \"https://openapi.naver.com/v1/search/blog.xml?query=\" + encText # xml 결과\n",
    "request = urllib.request.Request(url)\n",
    "request.add_header(\"X-Naver-Client-Id\",client_id)\n",
    "request.add_header(\"X-Naver-Client-Secret\",client_secret)\n",
    "response = urllib.request.urlopen(request)\n",
    "rescode = response.getcode()\n",
    "if(rescode==200):\n",
    "    response_body = response.read()\n",
    "    print(response_body.decode('utf-8'))\n",
    "else:\n",
    "    print(\"Error Code:\" + rescode)"
   ]
  }
 ],
 "metadata": {
  "kernelspec": {
   "display_name": "Python 3",
   "language": "python",
   "name": "python3"
  },
  "language_info": {
   "codemirror_mode": {
    "name": "ipython",
    "version": 3
   },
   "file_extension": ".py",
   "mimetype": "text/x-python",
   "name": "python",
   "nbconvert_exporter": "python",
   "pygments_lexer": "ipython3",
   "version": "3.8.8"
  }
 },
 "nbformat": 4,
 "nbformat_minor": 5
}
