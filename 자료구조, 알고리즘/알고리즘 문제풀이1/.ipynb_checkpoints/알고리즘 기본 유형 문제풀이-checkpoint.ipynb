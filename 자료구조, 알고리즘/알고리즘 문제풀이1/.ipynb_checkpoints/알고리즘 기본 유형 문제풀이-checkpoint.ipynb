{
 "cells": [
  {
   "cell_type": "markdown",
   "id": "1fd40829",
   "metadata": {},
   "source": [
    "# 1. 기본 자료구조"
   ]
  },
  {
   "cell_type": "markdown",
   "id": "d3dbc3ca",
   "metadata": {},
   "source": [
    "음계 백준 2920번, (권장시간 :15분) (소요시간 : 5분)\n",
    "\n",
    "문제\n",
    "다장조는 c d e f g a b C, 총 8개 음으로 이루어져있다. 이 문제에서 8개 음은 다음과 같이 숫자로 바꾸어 표현한다. c는 1로, d는 2로, ..., C를 8로 바꾼다.\n",
    "\n",
    "1부터 8까지 차례대로 연주한다면 ascending, 8부터 1까지 차례대로 연주한다면 descending, 둘 다 아니라면 mixed 이다.\n",
    "\n",
    "연주한 순서가 주어졌을 때, 이것이 ascending인지, descending인지, 아니면 mixed인지 판별하는 프로그램을 작성하시오.\n",
    "\n",
    "입력\n",
    "첫째 줄에 8개 숫자가 주어진다. 이 숫자는 문제 설명에서 설명한 음이며, 1부터 8까지 숫자가 한 번씩 등장한다.\n",
    "\n",
    "출력\n",
    "첫째 줄에 ascending, descending, mixed 중 하나를 출력한다."
   ]
  },
  {
   "cell_type": "code",
   "execution_count": 9,
   "id": "51df058b",
   "metadata": {},
   "outputs": [
    {
     "name": "stdout",
     "output_type": "stream",
     "text": [
      "\n",
      "mixed\n"
     ]
    }
   ],
   "source": [
    "b = list(map(int, input().split()))\n",
    "\n",
    "if b == sorted(b):\n",
    "    print('ascending')\n",
    "\n",
    "elif b == sorted(b, reverse=True):\n",
    "    print('descending')\n",
    "\n",
    "else:\n",
    "    print('mixed')"
   ]
  },
  {
   "cell_type": "code",
   "execution_count": 10,
   "id": "016080dd",
   "metadata": {},
   "outputs": [
    {
     "name": "stdout",
     "output_type": "stream",
     "text": [
      "1 2 3 4 5 6 7 8\n",
      "ascending\n"
     ]
    }
   ],
   "source": [
    "a = list(map(int, input().split()))\n",
    "\n",
    "ascending = True\n",
    "descending = True\n",
    "\n",
    "for i in range(1, 8):\n",
    "    if a[i] > a[i - 1]:\n",
    "        descending = False\n",
    "    elif a[i] < a[i - 1]:\n",
    "        ascending = False\n",
    "\n",
    "if ascending:\n",
    "    print('ascending')\n",
    "elif descending:\n",
    "    print('decending')\n",
    "else:\n",
    "    print('mixed')"
   ]
  },
  {
   "cell_type": "markdown",
   "id": "c72ad6f2",
   "metadata": {},
   "source": [
    "블랙잭 백준(2798번) 권장시간:20분, 소요시간:25분 \\\n",
    "카지노에서 제일 인기 있는 게임 블랙잭의 규칙은 상당히 쉽다. 카드의 합이 21을 넘지 않는 한도 내에서, 카드의 합을 최대한 크게 만드는 게임이다. 블랙잭은 카지노마다 다양한 규정이 있다.\n",
    "\n",
    "한국 최고의 블랙잭 고수 김정인은 새로운 블랙잭 규칙을 만들어 상근, 창영이와 게임하려고 한다.\n",
    "\n",
    "김정인 버전의 블랙잭에서 각 카드에는 양의 정수가 쓰여 있다. 그 다음, 딜러는 N장의 카드를 모두 숫자가 보이도록 바닥에 놓는다. 그런 후에 딜러는 숫자 M을 크게 외친다.\n",
    "\n",
    "이제 플레이어는 제한된 시간 안에 N장의 카드 중에서 3장의 카드를 골라야 한다. 블랙잭 변형 게임이기 때문에, 플레이어가 고른 카드의 합은 M을 넘지 않으면서 M과 최대한 가깝게 만들어야 한다.\n",
    "\n",
    "N장의 카드에 써져 있는 숫자가 주어졌을 때, M을 넘지 않으면서 M에 최대한 가까운 카드 3장의 합을 구해 출력하시오.\n",
    "\n",
    "입력\n",
    "첫째 줄에 카드의 개수 N(3 ≤ N ≤ 100)과 M(10 ≤ M ≤ 300,000)이 주어진다. 둘째 줄에는 카드에 쓰여 있는 수가 주어지며, 이 값은 100,000을 넘지 않는 양의 정수이다.\n",
    "\n",
    "합이 M을 넘지 않는 카드 3장을 찾을 수 있는 경우만 입력으로 주어진다.\n",
    "\n",
    "출력\n",
    "첫째 줄에 M을 넘지 않으면서 M에 최대한 가까운 카드 3장의 합을 출력한다.\n",
    "\n",
    "예제 입력 1  \\\n",
    "5 21  \\\n",
    "5 6 7 8 9  \\\n",
    "예제 출력 1  \\\n",
    "21  \\\n",
    "예제 입력 2  \\ \n",
    "10 500  \\\n",
    "93 181 245 214 315 36 185 138 216 295  \\\n",
    "예제 출력 2  \\\n",
    "497  \\"
   ]
  },
  {
   "cell_type": "code",
   "execution_count": 38,
   "id": "f0eb548a",
   "metadata": {},
   "outputs": [
    {
     "name": "stdout",
     "output_type": "stream",
     "text": [
      "5 21\n",
      "5 6 7 8 9\n",
      "21\n"
     ]
    }
   ],
   "source": [
    "N, M = map(int, input().split())\n",
    "Num = map(int, input().split())\n",
    "Num = list(Num)\n",
    "count = list()\n",
    "for i in Num:\n",
    "    for j in Num:\n",
    "        for k in Num:\n",
    "            if i != j and j != k and k != i:\n",
    "                count1 = i + j + k\n",
    "                if count1 <= M:\n",
    "                    count.append(count1)\n",
    "print(max(count))"
   ]
  },
  {
   "cell_type": "markdown",
   "id": "728ef65e",
   "metadata": {},
   "source": [
    "스택 수열 백준(1874번) 권장시간 :30분, 소요시간 :  \\\n",
    "스택 (stack)은 기본적인 자료구조 중 하나로, 컴퓨터 프로그램을 작성할 때 자주 이용되는 개념이다. 스택은 자료를 넣는 (push) 입구와 자료를 뽑는 (pop) 입구가 같아 제일 나중에 들어간 자료가 제일 먼저 나오는 (LIFO, Last in First out) 특성을 가지고 있다.  \\\n",
    "\n",
    "1부터 n까지의 수를 스택에 넣었다가 뽑아 늘어놓음으로써, 하나의 수열을 만들 수 있다. 이때, 스택에 push하는 순서는 반드시 오름차순을 지키도록 한다고 하자. 임의의 수열이 주어졌을 때 스택을 이용해 그 수열을 만들 수 있는지 없는지, 있다면 어떤 순서로 push와 pop 연산을 수행해야 하는지를 알아낼 수 있다. 이를 계산하는 프로그램을 작성하라.  \\\n",
    "\n",
    "입력  \\\n",
    "첫 줄에 n (1 ≤ n ≤ 100,000)이 주어진다. 둘째 줄부터 n개의 줄에는 수열을 이루는 1이상 n이하의 정수가 하나씩 순서대로 주어진다. 물론 같은 정수가 두 번 나오는 일은 없다.  \\\n",
    "\n",
    "출력  \\\n",
    "입력된 수열을 만들기 위해 필요한 연산을 한 줄에 한 개씩 출력한다. push연산은 +로, pop 연산은 -로 표현하도록 한다. 불가능한 경우 NO를 출력한다.  \\\n",
    "\n",
    "예제 입력 1  \\ \n",
    "8  \\\n",
    "4  \\\n",
    "3  \\\n",
    "6  \\\n",
    "8  \\\n",
    "7  \\\n",
    "5  \\\n",
    "2  \\\n",
    "1  \\\n",
    "예제 출력 1  \\ \n",
    "+\n",
    "+\n",
    "+\n",
    "+\n",
    "-\n",
    "-\n",
    "+\n",
    "+\n",
    "-\n",
    "+\n",
    "+\n",
    "-\n",
    "-\n",
    "-\n",
    "-\n",
    "-\n",
    "예제 입력 2  \\ \n",
    "5  \\\n",
    "1  \\\n",
    "2  \\\n",
    "5  \\\n",
    "3  \\\n",
    "4  \\\n",
    "예제 출력 2  \\ \n",
    "NO  \\\n",
    "힌트  \\\n",
    "1부터 n까지에 수에 대해 차례로 [push, push, push, push, pop, pop, push, push, pop, push, push, pop, pop, pop, pop, pop] 연산을 수행하면 수열 [4, 3, 6, 8, 7, 5, 2, 1]을 얻을 수 있다.  \\"
   ]
  },
  {
   "cell_type": "code",
   "execution_count": 1,
   "id": "b0d8c318",
   "metadata": {},
   "outputs": [
    {
     "name": "stdout",
     "output_type": "stream",
     "text": [
      "8 4 3 6 8 7 5 2 1\n",
      "No\n"
     ]
    }
   ],
   "source": [
    "n = list(map(int, input().split(' ')))\n",
    "stack = []\n",
    "result = []\n",
    "sign = []\n",
    "\n",
    "for i in range(n[0]-1):\n",
    "    if i == 0:\n",
    "        for t in range(n[1]):\n",
    "            stack.append(i)\n",
    "            sign.append('+')\n",
    "        result.append(stack.pop)\n",
    "        sign.append('-')\n",
    "    else:\n",
    "        if n[i] > n[i+1]:\n",
    "            for j in range(n[i]-n[i+1]): \n",
    "                stack.pop\n",
    "                sign.append('+')\n",
    "            result.append(stack.pop)\n",
    "            sign.append('-')\n",
    "        elif n[i] < n[i+1]:\n",
    "            for k in range(n[i+1]-n[i]-2):\n",
    "                stack.append\n",
    "                sign.append('+')\n",
    "            result.append(stack.pop)\n",
    "            sign.append('-')\n",
    "\n",
    "if result == n[1:]:\n",
    "    for i in sign:\n",
    "        print(i)\n",
    "\n",
    "if result != n[1:]:\n",
    "    print('No')\n"
   ]
  },
  {
   "cell_type": "code",
   "execution_count": 1,
   "id": "0e18c0a4",
   "metadata": {},
   "outputs": [
    {
     "name": "stdout",
     "output_type": "stream",
     "text": [
      "5\n",
      "1\n",
      "2\n",
      "5\n",
      "3\n",
      "NO\n",
      "4\n",
      "+\n",
      "-\n",
      "+\n",
      "-\n",
      "+\n",
      "+\n",
      "+\n",
      "-\n",
      "-\n"
     ]
    }
   ],
   "source": [
    "n = int(input())\n",
    "\n",
    "count = 1\n",
    "stack = []\n",
    "result = []\n",
    "\n",
    "for i in range(1, n+1): #데이터 개수만큼 반복\n",
    "    data = int(input())\n",
    "    while count <= data: #입력 받은 데이터에 도달할 때까지 삽입\n",
    "        stack.append(count)\n",
    "        count += 1\n",
    "        result.append('+')\n",
    "    if stack[-1] == data:\n",
    "        stack.pop()\n",
    "        result.append('-')\n",
    "    else:\n",
    "        print('NO')\n",
    "        exit()\n",
    "print('\\n'.join(result))"
   ]
  },
  {
   "cell_type": "code",
   "execution_count": null,
   "id": "adcf175c",
   "metadata": {},
   "outputs": [],
   "source": []
  }
 ],
 "metadata": {
  "kernelspec": {
   "display_name": "Python 3",
   "language": "python",
   "name": "python3"
  },
  "language_info": {
   "codemirror_mode": {
    "name": "ipython",
    "version": 3
   },
   "file_extension": ".py",
   "mimetype": "text/x-python",
   "name": "python",
   "nbconvert_exporter": "python",
   "pygments_lexer": "ipython3",
   "version": "3.8.8"
  }
 },
 "nbformat": 4,
 "nbformat_minor": 5
}
