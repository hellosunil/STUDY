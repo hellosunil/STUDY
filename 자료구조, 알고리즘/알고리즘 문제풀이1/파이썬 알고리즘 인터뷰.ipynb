{
 "cells": [
  {
   "cell_type": "markdown",
   "id": "3bd4369e",
   "metadata": {},
   "source": [
    "## 펠린드롬(회문 판별)\n",
    "#### 펠린드롬인지 확인하라. 대소문자를 구분하지 않으며, 영문자와 숫자만을 대상으로 한다"
   ]
  },
  {
   "cell_type": "code",
   "execution_count": 16,
   "id": "76cf17ff",
   "metadata": {},
   "outputs": [
    {
     "name": "stdout",
     "output_type": "stream",
     "text": [
      "True\n",
      "True\n",
      "True\n",
      "didklasjkflksdajf\n"
     ]
    }
   ],
   "source": [
    "# 영문자, 숫자 여부를 판별하는 함수 $ isalpha = 문자만 판별 ## 특수문자를 제외할 때 사용\n",
    "print('aa'.isalnum())\n",
    "print('0'.isalnum())\n",
    "print('가나'.isalpha())\n",
    "\n",
    "# 만약 문자열 중 특수문자, 숫자 없이 문자열만을 뽑아와야 한다면\n",
    "a = 'didklasjkflksdajf123123123123!@#!@$!@#!@#!@#'\n",
    "b = ''\n",
    "for i in a:\n",
    "    if i.isalpha():\n",
    "        b += i       \n",
    "print(b)"
   ]
  },
  {
   "cell_type": "code",
   "execution_count": 20,
   "id": "69c88485",
   "metadata": {},
   "outputs": [
    {
     "data": {
      "text/plain": [
       "True"
      ]
     },
     "execution_count": 20,
     "metadata": {},
     "output_type": "execute_result"
    }
   ],
   "source": [
    "# 데크 활용\n",
    "import collections\n",
    "def isPalin(s:str) -> bool: # s에 str이 온다는 표현, bool 결과값을 반환한다는 명시적 표현\n",
    "    # 자료형 데크로 선언\n",
    "    strs: Deque = collections.deque()\n",
    "    \n",
    "    for char in s:\n",
    "        if char.isalnum():\n",
    "            strs.append(char.lower)\n",
    "    while len(strs) > 1:\n",
    "        if strs.popleft() != strs.pop():\n",
    "            return False\n",
    "    return True\n",
    "\n",
    "a= 'rumur'\n",
    "isPalin(a)\n",
    "\n",
    "# pop(0)이 O(n)인데 반해, deque의 popleft()는 O(1)이기 때문"
   ]
  },
  {
   "cell_type": "code",
   "execution_count": 27,
   "id": "dd6202f8",
   "metadata": {
    "scrolled": true
   },
   "outputs": [
    {
     "data": {
      "text/plain": [
       "False"
      ]
     },
     "execution_count": 27,
     "metadata": {},
     "output_type": "execute_result"
    }
   ],
   "source": [
    "#슬라이싱활용\n",
    "import re\n",
    "def check_palin(s):\n",
    "    s = s.lower()\n",
    "    s = re.sub('[^a-z0-9]', '', s)\n",
    "    return s == s[::-1]\n",
    "    \n",
    "check_palin('rumurd')"
   ]
  },
  {
   "cell_type": "markdown",
   "id": "af5e068f",
   "metadata": {},
   "source": [
    "## 문자열 뒤집기\n",
    "#### 입력값은 문자 배열, 리턴 없이 리스트 내부를 직접 조작하라"
   ]
  },
  {
   "cell_type": "code",
   "execution_count": 28,
   "id": "0616aec4",
   "metadata": {},
   "outputs": [
    {
     "name": "stdout",
     "output_type": "stream",
     "text": [
      "['o', 'l', 'l', 'e', 'h']\n"
     ]
    }
   ],
   "source": [
    "A = ['h','e','l','l','o']\n",
    "\n",
    "def S_reverse(x):\n",
    "    x = x[::-1]\n",
    "    print(x)\n",
    "    \n",
    "S_reverse(A)"
   ]
  },
  {
   "cell_type": "code",
   "execution_count": 36,
   "id": "bde8f1ce",
   "metadata": {},
   "outputs": [
    {
     "name": "stdout",
     "output_type": "stream",
     "text": [
      "['o', 'l', 'l', 'e', 'h']\n"
     ]
    }
   ],
   "source": [
    "# 투포인터\n",
    "A = ['h','e','l','l','o']\n",
    "def reverse_string(s: list) -> None:\n",
    "    left, right = 0, len(s) -1\n",
    "    while left < right:\n",
    "        s[left], s[right] = s[right], s[left]\n",
    "        left += 1\n",
    "        right -= 1\n",
    "reverse_string(A)\n",
    "print(A)"
   ]
  },
  {
   "cell_type": "code",
   "execution_count": null,
   "id": "71b7eddb",
   "metadata": {},
   "outputs": [],
   "source": [
    "# pythonic\n",
    "\n",
    "def reverse_string(s:list) -> None:\n",
    "    s.reverse() # reverse함수는 list에만 적용 가능"
   ]
  },
  {
   "cell_type": "markdown",
   "id": "21959261",
   "metadata": {},
   "source": [
    "## 로그를 재정렬\n",
    "#### 로그의 가장 앞 부분은 식별자다\n",
    "#### 문자로 구성된 로그가 숫자 로그보다 앞에 온다\n",
    "#### 식별자는 순서에 영향을 끼치지 않지만, 문자가 동일한 경우 식별자 순으로 한다\n",
    "#### 숫자 로그는 입력 순서대로 한다"
   ]
  },
  {
   "cell_type": "code",
   "execution_count": 58,
   "id": "63629ecd",
   "metadata": {},
   "outputs": [
    {
     "data": {
      "text/plain": [
       "['left1 art can',\n",
       " 'let3 art zero',\n",
       " 'let2 own kit dig',\n",
       " 'dig1 8 1 5 1',\n",
       " 'dig2 3 6']"
      ]
     },
     "execution_count": 58,
     "metadata": {},
     "output_type": "execute_result"
    }
   ],
   "source": [
    "log = ['dig1 8 1 5 1', 'left1 art can', 'dig2 3 6', 'let2 own kit dig', 'let3 art zero']\n",
    "\n",
    "def sortlog(s:list) -> list:\n",
    "    alpha = []\n",
    "    digit = []\n",
    "    for i in s:\n",
    "        if i.split()[1].isalpha():\n",
    "            alpha.append(i)\n",
    "        else: digit.append(i)\n",
    "    alpha.sort(key = lambda x: (x.split()[1:], x.split()[0]))\n",
    "    return alpha + digit\n",
    "sortlog(log)"
   ]
  },
  {
   "cell_type": "markdown",
   "id": "e88c3a0e",
   "metadata": {},
   "source": [
    "## 가장 흔한 단어\n",
    "#### 금지된 단어를 제외한 가장 흔하게 등장하는 단어를 출력하라.\n",
    "#### 대소문자 구분을 하지 않으며, 구두점(마침표, 쉼표) 또한 무시한다"
   ]
  },
  {
   "cell_type": "code",
   "execution_count": 94,
   "id": "153a360e",
   "metadata": {},
   "outputs": [],
   "source": [
    "para = 'Bob hit a ball, the hit BALL flew far after it was hit.'\n",
    "banned = ['hit']"
   ]
  },
  {
   "cell_type": "code",
   "execution_count": 96,
   "id": "342637ac",
   "metadata": {},
   "outputs": [
    {
     "data": {
      "text/plain": [
       "'ball'"
      ]
     },
     "execution_count": 96,
     "metadata": {},
     "output_type": "execute_result"
    }
   ],
   "source": [
    "import collections, re\n",
    "def common_str(x: str) -> str:\n",
    "    x = x.lower()\n",
    "    x = re.sub('[^a-z ]', '', x)\n",
    "    x = [i for i in x.split() if i not in banned]\n",
    "    return collections.Counter(x).most_common(1)[0][0]\n",
    "common_str(para)"
   ]
  },
  {
   "cell_type": "markdown",
   "id": "ee8f26ee",
   "metadata": {},
   "source": [
    "## 그룹 애너그램\n",
    "#### 문자열 배열을 받아 애너그램 단위로 그루핑하라.\n",
    "#### 애너그램 : 문자를 재배열하여 다른 뜻을 가진 단어로 바꾸는 것 예) 문전박대 -> 대박전문"
   ]
  },
  {
   "cell_type": "code",
   "execution_count": 97,
   "id": "8b7b0b16",
   "metadata": {},
   "outputs": [],
   "source": [
    "inp = ['eat','tea','tan','ate','nat','bat']"
   ]
  },
  {
   "cell_type": "code",
   "execution_count": 125,
   "id": "b9a532f0",
   "metadata": {},
   "outputs": [
    {
     "data": {
      "text/plain": [
       "[['eat', 'tea', 'ate'], ['tan', 'nat'], ['bat']]"
      ]
     },
     "execution_count": 125,
     "metadata": {},
     "output_type": "execute_result"
    }
   ],
   "source": [
    "def grouping_anagram(x:list) -> list:\n",
    "    # dic = {} 그냥 dict로 할 경우, 존재하지 않는 키를 삽입할 때 에러 발생!!\n",
    "    dic = collections.defaultdict(list)\n",
    "    for i in x:\n",
    "        dic[''.join(sorted(i))].append(i)\n",
    "    return list(dic.values())\n",
    "\n",
    "grouping_anagram(inp)"
   ]
  },
  {
   "cell_type": "markdown",
   "id": "497a5d3f",
   "metadata": {},
   "source": [
    "## 가장 긴 팰린드롬 부분 문자열\n",
    "#### 가장 긴 팰린드롬 부분 문자열을 출력하라"
   ]
  },
  {
   "cell_type": "code",
   "execution_count": 135,
   "id": "dfb25a10",
   "metadata": {},
   "outputs": [],
   "source": [
    "inp = 'babad'"
   ]
  },
  {
   "cell_type": "code",
   "execution_count": 142,
   "id": "a23ab7af",
   "metadata": {},
   "outputs": [
    {
     "data": {
      "text/plain": [
       "'bad'"
      ]
     },
     "execution_count": 142,
     "metadata": {},
     "output_type": "execute_result"
    }
   ],
   "source": [
    "def long_pel(x:str) -> str:\n",
    "    # 짝수, 홀수인 포인터 사용\n",
    "    def expand(left: int, right: int) -> str:\n",
    "        while left >= 0 and right < len(x) and x[left] == x[right]:\n",
    "            left += 1\n",
    "            right -= 1\n",
    "        return x[left : right+1]\n",
    "    \n",
    "    if len(x) < 2 or x==x[::-1]:\n",
    "        return x\n",
    "    \n",
    "    result = ''\n",
    "    for i in range(len(x)-1):\n",
    "        result = max(result, expand(i, i+1), expand(i, i+2), key=len)\n",
    "    return result\n",
    "\n",
    "long_pel(inp)"
   ]
  },
  {
   "cell_type": "code",
   "execution_count": null,
   "id": "a82667aa",
   "metadata": {},
   "outputs": [],
   "source": []
  }
 ],
 "metadata": {
  "kernelspec": {
   "display_name": "Python 3 (ipykernel)",
   "language": "python",
   "name": "python3"
  },
  "language_info": {
   "codemirror_mode": {
    "name": "ipython",
    "version": 3
   },
   "file_extension": ".py",
   "mimetype": "text/x-python",
   "name": "python",
   "nbconvert_exporter": "python",
   "pygments_lexer": "ipython3",
   "version": "3.8.12"
  }
 },
 "nbformat": 4,
 "nbformat_minor": 5
}
