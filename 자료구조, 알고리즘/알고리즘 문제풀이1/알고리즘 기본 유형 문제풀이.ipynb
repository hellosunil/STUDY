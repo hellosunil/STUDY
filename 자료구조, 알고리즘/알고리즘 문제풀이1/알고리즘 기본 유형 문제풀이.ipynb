{
 "cells": [
  {
   "cell_type": "markdown",
   "id": "1fd40829",
   "metadata": {},
   "source": [
    "# 1. 기본 자료구조"
   ]
  },
  {
   "cell_type": "markdown",
   "id": "d3dbc3ca",
   "metadata": {},
   "source": [
    "음계 백준 2920번, (권장시간 :15분) (소요시간 : 5분)\n",
    "\n",
    "문제\n",
    "다장조는 c d e f g a b C, 총 8개 음으로 이루어져있다. 이 문제에서 8개 음은 다음과 같이 숫자로 바꾸어 표현한다. c는 1로, d는 2로, ..., C를 8로 바꾼다.\n",
    "\n",
    "1부터 8까지 차례대로 연주한다면 ascending, 8부터 1까지 차례대로 연주한다면 descending, 둘 다 아니라면 mixed 이다.\n",
    "\n",
    "연주한 순서가 주어졌을 때, 이것이 ascending인지, descending인지, 아니면 mixed인지 판별하는 프로그램을 작성하시오.\n",
    "\n",
    "입력\n",
    "첫째 줄에 8개 숫자가 주어진다. 이 숫자는 문제 설명에서 설명한 음이며, 1부터 8까지 숫자가 한 번씩 등장한다.\n",
    "\n",
    "출력\n",
    "첫째 줄에 ascending, descending, mixed 중 하나를 출력한다."
   ]
  },
  {
   "cell_type": "code",
   "execution_count": 9,
   "id": "51df058b",
   "metadata": {},
   "outputs": [
    {
     "name": "stdout",
     "output_type": "stream",
     "text": [
      "\n",
      "mixed\n"
     ]
    }
   ],
   "source": [
    "# 내 문제풀이\n",
    "b = list(map(int, input().split()))\n",
    "\n",
    "if b == sorted(b):\n",
    "    print('ascending')\n",
    "\n",
    "elif b == sorted(b, reverse=True):\n",
    "    print('descending')\n",
    "\n",
    "else:\n",
    "    print('mixed')"
   ]
  },
  {
   "cell_type": "code",
   "execution_count": 10,
   "id": "016080dd",
   "metadata": {},
   "outputs": [
    {
     "name": "stdout",
     "output_type": "stream",
     "text": [
      "1 2 3 4 5 6 7 8\n",
      "ascending\n"
     ]
    }
   ],
   "source": [
    "# 강사님 답안\n",
    "a = list(map(int, input().split()))\n",
    "\n",
    "ascending = True\n",
    "descending = True\n",
    "\n",
    "for i in range(1, 8):\n",
    "    if a[i] > a[i - 1]:\n",
    "        descending = False\n",
    "    elif a[i] < a[i - 1]:\n",
    "        ascending = False\n",
    "\n",
    "if ascending:\n",
    "    print('ascending')\n",
    "elif descending:\n",
    "    print('decending')\n",
    "else:\n",
    "    print('mixed')"
   ]
  },
  {
   "cell_type": "markdown",
   "id": "c72ad6f2",
   "metadata": {},
   "source": [
    "블랙잭 백준(2798번) 권장시간:20분, 소요시간:25분 \\\n",
    "카지노에서 제일 인기 있는 게임 블랙잭의 규칙은 상당히 쉽다. 카드의 합이 21을 넘지 않는 한도 내에서, 카드의 합을 최대한 크게 만드는 게임이다. 블랙잭은 카지노마다 다양한 규정이 있다.\n",
    "\n",
    "한국 최고의 블랙잭 고수 김정인은 새로운 블랙잭 규칙을 만들어 상근, 창영이와 게임하려고 한다.\n",
    "\n",
    "김정인 버전의 블랙잭에서 각 카드에는 양의 정수가 쓰여 있다. 그 다음, 딜러는 N장의 카드를 모두 숫자가 보이도록 바닥에 놓는다. 그런 후에 딜러는 숫자 M을 크게 외친다.\n",
    "\n",
    "이제 플레이어는 제한된 시간 안에 N장의 카드 중에서 3장의 카드를 골라야 한다. 블랙잭 변형 게임이기 때문에, 플레이어가 고른 카드의 합은 M을 넘지 않으면서 M과 최대한 가깝게 만들어야 한다.\n",
    "\n",
    "N장의 카드에 써져 있는 숫자가 주어졌을 때, M을 넘지 않으면서 M에 최대한 가까운 카드 3장의 합을 구해 출력하시오.\n",
    "\n",
    "입력\n",
    "첫째 줄에 카드의 개수 N(3 ≤ N ≤ 100)과 M(10 ≤ M ≤ 300,000)이 주어진다. 둘째 줄에는 카드에 쓰여 있는 수가 주어지며, 이 값은 100,000을 넘지 않는 양의 정수이다.\n",
    "\n",
    "합이 M을 넘지 않는 카드 3장을 찾을 수 있는 경우만 입력으로 주어진다.\n",
    "\n",
    "출력\n",
    "첫째 줄에 M을 넘지 않으면서 M에 최대한 가까운 카드 3장의 합을 출력한다.\n",
    "\n",
    "예제 입력 1  \\\n",
    "5 21  \\\n",
    "5 6 7 8 9  \\\n",
    "예제 출력 1  \\\n",
    "21  \\\n",
    "예제 입력 2  \\ \n",
    "10 500  \\\n",
    "93 181 245 214 315 36 185 138 216 295  \\\n",
    "예제 출력 2  \\\n",
    "497  \\"
   ]
  },
  {
   "cell_type": "code",
   "execution_count": 38,
   "id": "f0eb548a",
   "metadata": {},
   "outputs": [
    {
     "name": "stdout",
     "output_type": "stream",
     "text": [
      "5 21\n",
      "5 6 7 8 9\n",
      "21\n"
     ]
    }
   ],
   "source": [
    "N, M = map(int, input().split())\n",
    "Num = map(int, input().split())\n",
    "Num = list(Num)\n",
    "count = list()\n",
    "for i in Num:\n",
    "    for j in Num:\n",
    "        for k in Num:\n",
    "            if i != j and j != k and k != i:\n",
    "                count1 = i + j + k\n",
    "                if count1 <= M:\n",
    "                    count.append(count1)\n",
    "print(max(count))"
   ]
  },
  {
   "cell_type": "markdown",
   "id": "728ef65e",
   "metadata": {},
   "source": [
    "스택 수열 백준(1874번) 권장시간 :30분, 소요시간 :  \\\n",
    "스택 (stack)은 기본적인 자료구조 중 하나로, 컴퓨터 프로그램을 작성할 때 자주 이용되는 개념이다. 스택은 자료를 넣는 (push) 입구와 자료를 뽑는 (pop) 입구가 같아 제일 나중에 들어간 자료가 제일 먼저 나오는 (LIFO, Last in First out) 특성을 가지고 있다.  \\\n",
    "\n",
    "1부터 n까지의 수를 스택에 넣었다가 뽑아 늘어놓음으로써, 하나의 수열을 만들 수 있다. 이때, 스택에 push하는 순서는 반드시 오름차순을 지키도록 한다고 하자. 임의의 수열이 주어졌을 때 스택을 이용해 그 수열을 만들 수 있는지 없는지, 있다면 어떤 순서로 push와 pop 연산을 수행해야 하는지를 알아낼 수 있다. 이를 계산하는 프로그램을 작성하라.  \\\n",
    "\n",
    "입력  \\\n",
    "첫 줄에 n (1 ≤ n ≤ 100,000)이 주어진다. 둘째 줄부터 n개의 줄에는 수열을 이루는 1이상 n이하의 정수가 하나씩 순서대로 주어진다. 물론 같은 정수가 두 번 나오는 일은 없다.  \\\n",
    "\n",
    "출력  \\\n",
    "입력된 수열을 만들기 위해 필요한 연산을 한 줄에 한 개씩 출력한다. push연산은 +로, pop 연산은 -로 표현하도록 한다. 불가능한 경우 NO를 출력한다.  \\\n",
    "\n",
    "예제 입력 1  \\ \n",
    "8  \\\n",
    "4  \\\n",
    "3  \\\n",
    "6  \\\n",
    "8  \\\n",
    "7  \\\n",
    "5  \\\n",
    "2  \\\n",
    "1  \\\n",
    "예제 출력 1  \\ \n",
    "+\n",
    "+\n",
    "+\n",
    "+\n",
    "-\n",
    "-\n",
    "+\n",
    "+\n",
    "-\n",
    "+\n",
    "+\n",
    "-\n",
    "-\n",
    "-\n",
    "-\n",
    "-\n",
    "예제 입력 2  \\ \n",
    "5  \\\n",
    "1  \\\n",
    "2  \\\n",
    "5  \\\n",
    "3  \\\n",
    "4  \\\n",
    "예제 출력 2  \\ \n",
    "NO  \\\n",
    "힌트  \\\n",
    "1부터 n까지에 수에 대해 차례로 [push, push, push, push, pop, pop, push, push, pop, push, push, pop, pop, pop, pop, pop] 연산을 수행하면 수열 [4, 3, 6, 8, 7, 5, 2, 1]을 얻을 수 있다.  \\"
   ]
  },
  {
   "cell_type": "code",
   "execution_count": 1,
   "id": "b0d8c318",
   "metadata": {},
   "outputs": [
    {
     "name": "stdout",
     "output_type": "stream",
     "text": [
      "8 4 3 6 8 7 5 2 1\n",
      "No\n"
     ]
    }
   ],
   "source": [
    "n = list(map(int, input().split(' ')))\n",
    "stack = []\n",
    "result = []\n",
    "sign = []\n",
    "\n",
    "for i in range(n[0]-1):\n",
    "    if i == 0:\n",
    "        for t in range(n[1]):\n",
    "            stack.append(i)\n",
    "            sign.append('+')\n",
    "        result.append(stack.pop)\n",
    "        sign.append('-')\n",
    "    else:\n",
    "        if n[i] > n[i+1]:\n",
    "            for j in range(n[i]-n[i+1]): \n",
    "                stack.pop\n",
    "                sign.append('+')\n",
    "            result.append(stack.pop)\n",
    "            sign.append('-')\n",
    "        elif n[i] < n[i+1]:\n",
    "            for k in range(n[i+1]-n[i]-2):\n",
    "                stack.append\n",
    "                sign.append('+')\n",
    "            result.append(stack.pop)\n",
    "            sign.append('-')\n",
    "\n",
    "if result == n[1:]:\n",
    "    for i in sign:\n",
    "        print(i)\n",
    "\n",
    "if result != n[1:]:\n",
    "    print('No')\n"
   ]
  },
  {
   "cell_type": "code",
   "execution_count": 1,
   "id": "0e18c0a4",
   "metadata": {},
   "outputs": [
    {
     "name": "stdout",
     "output_type": "stream",
     "text": [
      "5\n",
      "1\n",
      "2\n",
      "5\n",
      "3\n",
      "NO\n",
      "4\n",
      "+\n",
      "-\n",
      "+\n",
      "-\n",
      "+\n",
      "+\n",
      "+\n",
      "-\n",
      "-\n"
     ]
    }
   ],
   "source": [
    "n = int(input())\n",
    "\n",
    "count = 1\n",
    "stack = []\n",
    "result = []\n",
    "\n",
    "for i in range(1, n+1): #데이터 개수만큼 반복\n",
    "    data = int(input())\n",
    "    while count <= data: #입력 받은 데이터에 도달할 때까지 삽입\n",
    "        stack.append(count)\n",
    "        count += 1\n",
    "        result.append('+')\n",
    "    if stack[-1] == data:\n",
    "        stack.pop()\n",
    "        result.append('-')\n",
    "    else:\n",
    "        print('NO')\n",
    "        exit()\n",
    "print('\\n'.join(result))"
   ]
  },
  {
   "cell_type": "code",
   "execution_count": 2,
   "id": "a36455b0",
   "metadata": {},
   "outputs": [
    {
     "data": {
      "text/plain": [
       "'문제\\n여러분도 알다시피 여러분의 프린터 기기는 여러분이 인쇄하고자 하는 문서를 인쇄 명령을 받은 ‘순서대로’, 즉 먼저 요청된 것을 먼저 인쇄한다. 여러 개의 문서가 쌓인다면 Queue 자료구조에 쌓여서 FIFO - First In First Out - 에 따라 인쇄가 되게 된다. 하지만 상근이는 새로운 프린터기 내부 소프트웨어를 개발하였는데, 이 프린터기는 다음과 같은 조건에 따라 인쇄를 하게 된다.\\n\\n현재 Queue의 가장 앞에 있는 문서의 ‘중요도’를 확인한다.\\n나머지 문서들 중 현재 문서보다 중요도가 높은 문서가 하나라도 있다면, 이 문서를 인쇄하지 않고 Queue의 가장 뒤에 재배치 한다. 그렇지 않다면 바로 인쇄를 한다.\\n예를 들어 Queue에 4개의 문서(A B C D)가 있고, 중요도가 2 1 4 3 라면 C를 인쇄하고, 다음으로 D를 인쇄하고 A, B를 인쇄하게 된다.\\n\\n여러분이 할 일은, 현재 Queue에 있는 문서의 수와 중요도가 주어졌을 때, 어떤 한 문서가 몇 번째로 인쇄되는지 알아내는 것이다. 예를 들어 위의 예에서 C문서는 1번째로, A문서는 3번째로 인쇄되게 된다.\\n\\n입력\\n첫 줄에 테스트케이스의 수가 주어진다. 각 테스트케이스는 두 줄로 이루어져 있다.\\n\\n테스트케이스의 첫 번째 줄에는 문서의 개수 N(1 ≤ N ≤ 100)과, 몇 번째로 인쇄되었는지 궁금한 문서가 현재 Queue에서 몇 번째에 놓여 있는지를 나타내는 정수 M(0 ≤ M < N)이 주어진다. 이때 맨 왼쪽은 0번째라고 하자. 두 번째 줄에는 N개 문서의 중요도가 차례대로 주어진다. 중요도는 1 이상 9 이하의 정수이고, 중요도가 같은 문서가 여러 개 있을 수도 있다.\\n\\n출력\\n각 테스트 케이스에 대해 문서가 몇 번째로 인쇄되는지 출력한다.'"
      ]
     },
     "execution_count": 2,
     "metadata": {},
     "output_type": "execute_result"
    }
   ],
   "source": [
    "'''문제\n",
    "여러분도 알다시피 여러분의 프린터 기기는 여러분이 인쇄하고자 하는 문서를 인쇄 명령을 받은 ‘순서대로’, 즉 먼저 요청된 것을 먼저 인쇄한다.\n",
    "여러 개의 문서가 쌓인다면 Queue 자료구조에 쌓여서 FIFO - First In First Out - 에 따라 인쇄가 되게 된다. \n",
    "하지만 상근이는 새로운 프린터기 내부 소프트웨어를 개발하였는데, 이 프린터기는 다음과 같은 조건에 따라 인쇄를 하게 된다.\n",
    "\n",
    "현재 Queue의 가장 앞에 있는 문서의 ‘중요도’를 확인한다.\n",
    "나머지 문서들 중 현재 문서보다 중요도가 높은 문서가 하나라도 있다면, 이 문서를 인쇄하지 않고 Queue의 가장 뒤에 재배치 한다.\n",
    "그렇지 않다면 바로 인쇄를 한다.\n",
    "예를 들어 Queue에 4개의 문서(A B C D)가 있고, 중요도가 2 1 4 3 라면 C를 인쇄하고, 다음으로 D를 인쇄하고 A, B를 인쇄하게 된다.\n",
    "\n",
    "여러분이 할 일은, 현재 Queue에 있는 문서의 수와 중요도가 주어졌을 때, 어떤 한 문서가 몇 번째로 인쇄되는지 알아내는 것이다. \n",
    "예를 들어 위의 예에서 C문서는 1번째로, A문서는 3번째로 인쇄되게 된다.\n",
    "\n",
    "입력\n",
    "첫 줄에 테스트케이스의 수가 주어진다. 각 테스트케이스는 두 줄로 이루어져 있다.\n",
    "\n",
    "테스트케이스의 첫 번째 줄에는 문서의 개수 N(1 ≤ N ≤ 100)과, 몇 번째로 인쇄되었는지 궁금한 문서가 현재 Queue에서 몇 번째에 놓여 있는지를\n",
    "나타내는 정수 M(0 ≤ M < N)이 주어진다. 이때 맨 왼쪽은 0번째라고 하자.\n",
    "두 번째 줄에는 N개 문서의 중요도가 차례대로 주어진다. 중요도는 1 이상 9 이하의 정수이고,중요도가 같은 문서가 여러 개 있을 수도 있다.\n",
    "\n",
    "출력\n",
    "각 테스트 케이스에 대해 문서가 몇 번째로 인쇄되는지 출력한다.'''\n"
   ]
  },
  {
   "cell_type": "code",
   "execution_count": null,
   "id": "fc027676",
   "metadata": {},
   "outputs": [],
   "source": [
    "[입력]\n",
    "3\n",
    "\n",
    "1 0\n",
    "5\n",
    "\n",
    "4 2\n",
    "1 2 3 4\n",
    "\n",
    "6 0\n",
    "1 1 9 1 1 1"
   ]
  },
  {
   "cell_type": "code",
   "execution_count": null,
   "id": "e7d612b4",
   "metadata": {},
   "outputs": [],
   "source": [
    "[출력]\n",
    "1\n",
    "2\n",
    "5\n",
    "\n",
    "ABCD\n",
    "2143\n",
    "\n",
    "CDAB"
   ]
  },
  {
   "cell_type": "code",
   "execution_count": 3,
   "id": "9888ebe7",
   "metadata": {
    "scrolled": true
   },
   "outputs": [
    {
     "name": "stdout",
     "output_type": "stream",
     "text": [
      "3\n",
      "1 0\n",
      "5\n",
      "1\n",
      "4 2\n",
      "1 2 3 4\n",
      "2\n",
      "6 0\n",
      "1 1 9 1 1 1\n",
      "2\n"
     ]
    }
   ],
   "source": [
    "N  = int(input())\n",
    "\n",
    "for j in range(1, N+1):\n",
    "    n, m = map(int, input().split(' '))\n",
    "    # n = 갯수, m = 궁금한 인덱스 값\n",
    "    count = 1\n",
    "    important = list(map(int, input().split(' '))) #중요도의 순서\n",
    "    list1 = [i for i in range(n)] #처음에 담긴 순서    \n",
    "    A = {key:value for key, value in zip(list1, important)}\n",
    "    B = A.items()\n",
    "\n",
    "    for k in range(n):\n",
    "        b = max(B, key=lambda x : x[1])\n",
    "        if b[0] == m:\n",
    "            print(count)\n",
    "            break\n",
    "        else:\n",
    "            A.pop(b[0])\n",
    "            count += 1\n",
    "            \n",
    "# 이건 딕셔너리로 풀 수 없는 문제임\n",
    "# key값을 important로 두면, 중요도가 같을 때 문제 발생\n",
    "# key값을 인덱스 값으로 두면, 중요도가 같을 때, 맨 처음 인덱스 값을 뽑아오게 됨(입력 3번 케이스)\n",
    "# 딕셔너리는 순서를 관리하지 않기 때문에."
   ]
  },
  {
   "cell_type": "code",
   "execution_count": 10,
   "id": "e72adce9",
   "metadata": {},
   "outputs": [
    {
     "name": "stdout",
     "output_type": "stream",
     "text": [
      "3\n",
      "1 0\n",
      "5\n",
      "1\n",
      "4 2\n",
      "1 2 3 4\n",
      "2\n",
      "6 0\n",
      "1 1 9 1 1 1\n",
      "5\n"
     ]
    }
   ],
   "source": [
    "test_case = int(input())\n",
    "\n",
    "for _ in range(test_case):\n",
    "    n, m = list(map(int, input().split(' ')))\n",
    "    queue = list(map(int, input().split(' ')))\n",
    "    queue = [(i, idx) for idx, i in enumerate(queue)]\n",
    "    \n",
    "    count = 0\n",
    "    while True: #무한 반복\n",
    "        if queue[0][0] == max(queue, key=lambda x: x[0])[0]:\n",
    "            count += 1\n",
    "            if queue[0][1] == m:\n",
    "                print(count)\n",
    "                break\n",
    "            else:\n",
    "                queue.pop(0)\n",
    "        else:\n",
    "            queue.append(queue.pop(0))#뽑아서 뒤로 삽입하겠다        "
   ]
  },
  {
   "cell_type": "code",
   "execution_count": null,
   "id": "e5d05811",
   "metadata": {},
   "outputs": [],
   "source": [
    "문제\n",
    "창영이는 강산이의 비밀번호를 훔치기 위해서 강산이가 사용하는 컴퓨터에 키로거를 설치했다. \n",
    "며칠을 기다린 끝에 창영이는 강산이가 비밀번호 창에 입력하는 글자를 얻어냈다.\n",
    "\n",
    "키로거는 사용자가 키보드를 누른 명령을 모두 기록한다. 따라서, 강산이가 비밀번호를 입력할 때,\n",
    "화살표나 백스페이스를 입력해도 정확한 비밀번호를 알아낼 수 있다. \n",
    "\n",
    "강산이가 비밀번호 창에서 입력한 키가 주어졌을 때, 강산이의 비밀번호를 알아내는 프로그램을 작성하시오.\n",
    "강산이는 키보드로 입력한 키는 알파벳 대문자, 소문자, 숫자, 백스페이스, 화살표이다.\n",
    "\n",
    "입력\n",
    "첫째 줄에 테스트 케이스의 개수가 주어진다. 각 테스트 케이스는 한줄로 이루어져 있고, \n",
    "강산이가 입력한 순서대로 길이가 L인 문자열이 주어진다. \n",
    "(1 ≤ L ≤ 1,000,000) 강산이가 백스페이스를 입력했다면, '-'가 주어진다. \n",
    "이때 커서의 바로 앞에 글자가 존재한다면, 그 글자를 지운다. 화살표의 입력은 '<'와 '>'로 주어진다. \n",
    "이때는 커서의 위치를 움직일 수 있다면, 왼쪽 또는 오른쪽으로 1만큼 움직인다. \n",
    "나머지 문자는 비밀번호의 일부이다. 물론, 나중에 백스페이스를 통해서 지울 수는 있다.\n",
    "만약 커서의 위치가 줄의 마지막이 아니라면,\n",
    "커서 및 커서 오른쪽에 있는 모든 문자는 오른쪽으로 한 칸 이동한다.\n",
    "\n",
    "\n",
    "출력\n",
    "각 테스트 케이스에 대해서, 강산이의 비밀번호를 출력한다. 비밀번호의 길이는 항상 0보다 크다.\n",
    "\n",
    "예제 입력\n",
    "2\n",
    "<<BP<A>>Cd-\n",
    "ThIsIsS3Cr3t\n",
    "\n",
    "\n",
    "예제 출력 \n",
    "BAPC\n",
    "ThIsIsS3Cr3t"
   ]
  },
  {
   "cell_type": "code",
   "execution_count": 107,
   "id": "4b37ad21",
   "metadata": {},
   "outputs": [
    {
     "name": "stdout",
     "output_type": "stream",
     "text": [
      "2\n",
      "<<BP<A>>Cd-\n",
      "ThIsIsS3Cr3t\n",
      "BAPC\n",
      "ThIsIsS3Cr3t\n"
     ]
    }
   ],
   "source": [
    "# 문제이름 : 키로거\n",
    "#1 화살표(커서의 위치)\n",
    "#2 백스페이스\n",
    "#3 알파벳 대문자, 소문자, 숫자\n",
    "# 리스트로 구현한다면, 커서의 위치가 중간일 때 \n",
    "# 즉, append로 구현할 수 없을 때 어떻게 할 것인가.\n",
    "#1 커서의 위치가 왼쪽일 때\n",
    "#2 커서의 위치가 중간일 때\n",
    "#3 커서의 위치가 오른쪽일 때 : 그냥 append, pop해주면 됨 del(ddd[-1])\n",
    "# insert(a, b)는 리스트의 a번째 위치에 b를 삽입하는 함수\n",
    "\n",
    "n = int(input())\n",
    "RESULT = []\n",
    "for i in range(n):\n",
    "    INPUT = input()\n",
    "    index = 0\n",
    "    result = []\n",
    "    for j, k in enumerate(INPUT):\n",
    "        if k == '<':\n",
    "            if index != 0:\n",
    "                index -= 1\n",
    "        elif k == '>':\n",
    "            if index == len(result)-1:\n",
    "                index += 1\n",
    "        elif k =='-':\n",
    "            del result[-1]\n",
    "        else:\n",
    "            result.insert(index, k)\n",
    "            index += 1\n",
    "    RESULT.append(result)\n",
    "    print(''.join(temp))\n",
    "\n",
    "### 런타임 에러!!!!!!!"
   ]
  },
  {
   "cell_type": "code",
   "execution_count": 108,
   "id": "aa7bdc6d",
   "metadata": {},
   "outputs": [
    {
     "name": "stdout",
     "output_type": "stream",
     "text": [
      "2\n",
      "<<BP<A>>Cd-\n",
      "BAPC\n",
      "ThIsIsS3Cr3t\n",
      "ThIsIsS3Cr3t\n"
     ]
    }
   ],
   "source": [
    "n = int(input())\n",
    "\n",
    "for i in range(n):\n",
    "    left_stack = []\n",
    "    right_stack = []\n",
    "    INPUT = input()\n",
    "    for j in INPUT:\n",
    "        if j == '-':\n",
    "            if left_stack:\n",
    "                left_stack.pop()\n",
    "        elif j =='<':\n",
    "            if left_stack:\n",
    "                right_stack.append(left_stack.pop())\n",
    "        elif j == '>':\n",
    "            if right_stack:\n",
    "                left_stack.append(right_stack.pop())\n",
    "        else:\n",
    "            left_stack.append(j)\n",
    "    left_stack.extend(reversed(right_stack))\n",
    "    print(''.join(left_stack))"
   ]
  },
  {
   "cell_type": "markdown",
   "id": "e782bb82",
   "metadata": {},
   "source": [
    "# 이게 왜 시간복잡도가 다른거지?"
   ]
  },
  {
   "cell_type": "code",
   "execution_count": 2,
   "id": "6db9517d",
   "metadata": {},
   "outputs": [
    {
     "name": "stdout",
     "output_type": "stream",
     "text": [
      "Baekjoon\n",
      "9944e1862efbb2a4e2486392dc6701896416b251eccdecb8332deb7f4cf2a857\n"
     ]
    }
   ],
   "source": [
    "# 문제이름 SHA-256\n",
    "\n",
    "import hashlib\n",
    "str1 = input()\n",
    "result = hashlib.sha256(str1.encode())\n",
    "print(result.hexdigest())"
   ]
  },
  {
   "cell_type": "markdown",
   "id": "be3e2ce2",
   "metadata": {},
   "source": [
    "문제이름 : 수 찾기\n",
    "\n",
    "N개의 정수 A[1], A[2], …, A[N]이 주어져 있을 때, 이 안에 X라는 정수가 존재하는지 알아내는 프로그램을 작성하시오.\n",
    "\n",
    "입력\n",
    "첫째 줄에 자연수 N(1 ≤ N ≤ 100,000)이 주어진다. 다음 줄에는 N개의 정수 A[1], A[2], …, A[N]이 주어진다. \n",
    "다음 줄에는 M(1 ≤ M ≤ 100,000)이 주어진다. 다음 줄에는 M개의 수들이 주어지는데, 이 수들이 A안에 존재하는지 알아내면 된다.\n",
    "모든 정수의 범위는 -231 보다 크거나 같고 231보다 작다.\n",
    "\n",
    "출력\n",
    "M개의 줄에 답을 출력한다. 존재하면 1을, 존재하지 않으면 0을 출력한다."
   ]
  },
  {
   "attachments": {
    "image.png": {
     "image/png": "[encoded data removed]"
    }
   },
   "cell_type": "markdown",
   "id": "d743a750",
   "metadata": {},
   "source": [
    "![image.png](attachment:image.png)"
   ]
  },
  {
   "cell_type": "code",
   "execution_count": 5,
   "id": "b2480f11",
   "metadata": {},
   "outputs": [
    {
     "name": "stdout",
     "output_type": "stream",
     "text": [
      "5\n",
      "4 1 5 2 3\n",
      "5\n",
      "1 3 7 9 5\n"
     ]
    }
   ],
   "source": [
    "N = int(input())\n",
    "Num1 = list(map(int, input().split()))\n",
    "M = int(input())\n",
    "Num2 = list(map(int, input().split()))\n",
    "# M 숫자들이 N 안에 있는지 확인하라\n",
    "for i in Num2:\n",
    "    if i in Num1:\n",
    "        print('1')\n",
    "    else:\n",
    "        print('0')\n",
    "\n"
   ]
  },
  {
   "cell_type": "code",
   "execution_count": 13,
   "id": "775cc282",
   "metadata": {},
   "outputs": [
    {
     "name": "stdout",
     "output_type": "stream",
     "text": [
      "5\n",
      "4 1 5 2 3\n",
      "5\n",
      "1 3 7 9 5\n",
      "1\n",
      "1\n",
      "0\n",
      "0\n",
      "1\n"
     ]
    }
   ],
   "source": [
    "N = int(input())\n",
    "Num1 = set(map(int, input().split()))\n",
    "M = int(input())\n",
    "Num2 = list(map(int, input().split()))\n",
    "\n",
    "for i in Num2:\n",
    "    if i in Num1:\n",
    "        print('1')\n",
    "    else:\n",
    "        print('0')"
   ]
  },
  {
   "cell_type": "markdown",
   "id": "2685c7fa",
   "metadata": {},
   "source": [
    "문제 이름 : 친구 네트워크\n",
    "민혁이는 소셜 네트워크 사이트에서 친구를 만드는 것을 좋아하는 친구이다.\n",
    "우표를 모으는 취미가 있듯이, 민혁이는 소셜 네트워크 사이트에서 친구를 모으는 것이 취미이다.\n",
    "\n",
    "어떤 사이트의 친구 관계가 생긴 순서대로 주어졌을 때, \n",
    "두 사람의 친구 네트워크에 몇 명이 있는지 구하는 프로그램을 작성하시오.\n",
    "\n",
    "친구 네트워크란 친구 관계만으로 이동할 수 있는 사이를 말한다.\n",
    "\n",
    "입력\n",
    "첫째 줄에 테스트 케이스의 개수가 주어진다. \n",
    "각 테스트 케이스의 첫째 줄에는 친구 관계의 수 F가 주어지며, \n",
    "이 값은 100,000을 넘지 않는다. \n",
    "다음 F개의 줄에는 친구 관계가 생긴 순서대로 주어진다. \n",
    "친구 관계는 두 사용자의 아이디로 이루어져 있으며, \n",
    "알파벳 대문자 또는 소문자로만 이루어진 길이 20 이하의 문자열이다.\n",
    "\n",
    "출력\n",
    "친구 관계가 생길 때마다, \n",
    "두 사람의 친구 네트워크에 몇 명이 있는지 구하는 프로그램을 작성하시오."
   ]
  },
  {
   "attachments": {
    "image-2.png": {
     "image/png": "[encoded data removed]"
    },
    "image-3.png": {
     "image/png": "[encoded data removed]"
    }
   },
   "cell_type": "markdown",
   "id": "367acbc8",
   "metadata": {},
   "source": [
    "![image-2.png](attachment:image-2.png) ![image-3.png](attachment:image-3.png)"
   ]
  },
  {
   "cell_type": "code",
   "execution_count": null,
   "id": "59c06d3e",
   "metadata": {},
   "outputs": [
    {
     "name": "stdout",
     "output_type": "stream",
     "text": [
      "1\n",
      "3\n",
      "Fred Barney\n"
     ]
    }
   ],
   "source": [
    "testcase = int(input())\n",
    "# 친구 관계 수 <= 100,000\n",
    "\n",
    "# 집합 개념으로 넣으면 친구 네트워크 수가 나올 것 같은데\n",
    "for j in range(testcase):\n",
    "    F = int(input())\n",
    "    friend_set = set()\n",
    "    friend_list = list()\n",
    "# friend set가 F개 만큼 존재해야 함 => 2차원 리스트를 세트로 만들면?\n",
    "    for i in range(F):\n",
    "        friend = list(map(str, input().split()))\n",
    "        friend_list.append(friend)\n",
    "# 2차원 리스트로 friend_list 만듦 \n",
    "        for k in friend_list:\n",
    "            if len(friend_set) == 0:\n",
    "                friend_set.update(friend)\n",
    "                print(len(friend_set))\n",
    "            elif len(friend_set & set(k)) != 0:\n",
    "                friend_set.update(friend)\n",
    "                print(len(friend_set))\n",
    "            else:\n",
    "                print(len(friend_set))\n",
    "# 문제점\n",
    "# i가 2번일 때 k도 2번으로 시작할 수는 없을까?"
   ]
  },
  {
   "cell_type": "code",
   "execution_count": null,
   "id": "69ab633f",
   "metadata": {},
   "outputs": [],
   "source": [
    "list1 = [1,2]\n",
    "set(list1)"
   ]
  },
  {
   "cell_type": "code",
   "execution_count": null,
   "id": "b59da3d8",
   "metadata": {},
   "outputs": [],
   "source": []
  }
 ],
 "metadata": {
  "kernelspec": {
   "display_name": "Python 3",
   "language": "python",
   "name": "python3"
  },
  "language_info": {
   "codemirror_mode": {
    "name": "ipython",
    "version": 3
   },
   "file_extension": ".py",
   "mimetype": "text/x-python",
   "name": "python",
   "nbconvert_exporter": "python",
   "pygments_lexer": "ipython3",
   "version": "3.8.8"
  }
 },
 "nbformat": 4,
 "nbformat_minor": 5
}
