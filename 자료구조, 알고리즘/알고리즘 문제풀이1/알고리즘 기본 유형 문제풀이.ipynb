{
 "cells": [
  {
   "cell_type": "markdown",
   "id": "1fd40829",
   "metadata": {},
   "source": [
    "# 1. 기본 자료구조"
   ]
  },
  {
   "cell_type": "markdown",
   "id": "d3dbc3ca",
   "metadata": {},
   "source": [
    "음계 백준 2920번, (권장시간 :15분) (소요시간 : 5분)\n",
    "\n",
    "문제\n",
    "다장조는 c d e f g a b C, 총 8개 음으로 이루어져있다. 이 문제에서 8개 음은 다음과 같이 숫자로 바꾸어 표현한다. c는 1로, d는 2로, ..., C를 8로 바꾼다.\n",
    "\n",
    "1부터 8까지 차례대로 연주한다면 ascending, 8부터 1까지 차례대로 연주한다면 descending, 둘 다 아니라면 mixed 이다.\n",
    "\n",
    "연주한 순서가 주어졌을 때, 이것이 ascending인지, descending인지, 아니면 mixed인지 판별하는 프로그램을 작성하시오.\n",
    "\n",
    "입력\n",
    "첫째 줄에 8개 숫자가 주어진다. 이 숫자는 문제 설명에서 설명한 음이며, 1부터 8까지 숫자가 한 번씩 등장한다.\n",
    "\n",
    "출력\n",
    "첫째 줄에 ascending, descending, mixed 중 하나를 출력한다."
   ]
  },
  {
   "cell_type": "code",
   "execution_count": 9,
   "id": "51df058b",
   "metadata": {},
   "outputs": [
    {
     "name": "stdout",
     "output_type": "stream",
     "text": [
      "\n",
      "mixed\n"
     ]
    }
   ],
   "source": [
    "b = list(map(int, input().split()))\n",
    "\n",
    "if b == sorted(b):\n",
    "    print('ascending')\n",
    "\n",
    "elif b == sorted(b, reverse=True):\n",
    "    print('descending')\n",
    "\n",
    "else:\n",
    "    print('mixed')"
   ]
  },
  {
   "cell_type": "code",
   "execution_count": 10,
   "id": "016080dd",
   "metadata": {},
   "outputs": [
    {
     "name": "stdout",
     "output_type": "stream",
     "text": [
      "1 2 3 4 5 6 7 8\n",
      "ascending\n"
     ]
    }
   ],
   "source": [
    "a = list(map(int, input().split()))\n",
    "\n",
    "ascending = True\n",
    "descending = True\n",
    "\n",
    "for i in range(1, 8):\n",
    "    if a[i] > a[i - 1]:\n",
    "        descending = False\n",
    "    elif a[i] < a[i - 1]:\n",
    "        ascending = False\n",
    "\n",
    "if ascending:\n",
    "    print('ascending')\n",
    "elif descending:\n",
    "    print('decending')\n",
    "else:\n",
    "    print('mixed')"
   ]
  },
  {
   "cell_type": "markdown",
   "id": "c72ad6f2",
   "metadata": {},
   "source": [
    "블랙잭 백준(2798번) 권장시간:20분, 소요시간:25분 \\\n",
    "카지노에서 제일 인기 있는 게임 블랙잭의 규칙은 상당히 쉽다. 카드의 합이 21을 넘지 않는 한도 내에서, 카드의 합을 최대한 크게 만드는 게임이다. 블랙잭은 카지노마다 다양한 규정이 있다.\n",
    "\n",
    "한국 최고의 블랙잭 고수 김정인은 새로운 블랙잭 규칙을 만들어 상근, 창영이와 게임하려고 한다.\n",
    "\n",
    "김정인 버전의 블랙잭에서 각 카드에는 양의 정수가 쓰여 있다. 그 다음, 딜러는 N장의 카드를 모두 숫자가 보이도록 바닥에 놓는다. 그런 후에 딜러는 숫자 M을 크게 외친다.\n",
    "\n",
    "이제 플레이어는 제한된 시간 안에 N장의 카드 중에서 3장의 카드를 골라야 한다. 블랙잭 변형 게임이기 때문에, 플레이어가 고른 카드의 합은 M을 넘지 않으면서 M과 최대한 가깝게 만들어야 한다.\n",
    "\n",
    "N장의 카드에 써져 있는 숫자가 주어졌을 때, M을 넘지 않으면서 M에 최대한 가까운 카드 3장의 합을 구해 출력하시오.\n",
    "\n",
    "입력\n",
    "첫째 줄에 카드의 개수 N(3 ≤ N ≤ 100)과 M(10 ≤ M ≤ 300,000)이 주어진다. 둘째 줄에는 카드에 쓰여 있는 수가 주어지며, 이 값은 100,000을 넘지 않는 양의 정수이다.\n",
    "\n",
    "합이 M을 넘지 않는 카드 3장을 찾을 수 있는 경우만 입력으로 주어진다.\n",
    "\n",
    "출력\n",
    "첫째 줄에 M을 넘지 않으면서 M에 최대한 가까운 카드 3장의 합을 출력한다.\n",
    "\n",
    "예제 입력 1  \\\n",
    "5 21  \\\n",
    "5 6 7 8 9  \\\n",
    "예제 출력 1  \\\n",
    "21  \\\n",
    "예제 입력 2  \\ \n",
    "10 500  \\\n",
    "93 181 245 214 315 36 185 138 216 295  \\\n",
    "예제 출력 2  \\\n",
    "497  \\"
   ]
  },
  {
   "cell_type": "code",
   "execution_count": 38,
   "id": "f0eb548a",
   "metadata": {},
   "outputs": [
    {
     "name": "stdout",
     "output_type": "stream",
     "text": [
      "5 21\n",
      "5 6 7 8 9\n",
      "21\n"
     ]
    }
   ],
   "source": [
    "N, M = map(int, input().split())\n",
    "Num = map(int, input().split())\n",
    "Num = list(Num)\n",
    "count = list()\n",
    "for i in Num:\n",
    "    for j in Num:\n",
    "        for k in Num:\n",
    "            if i != j and j != k and k != i:\n",
    "                count1 = i + j + k\n",
    "                if count1 <= M:\n",
    "                    count.append(count1)\n",
    "print(max(count))"
   ]
  },
  {
   "cell_type": "markdown",
   "id": "728ef65e",
   "metadata": {},
   "source": [
    "스택 수열 백준(1874번) 권장시간 :30분, 소요시간 :  \\\n",
    "스택 (stack)은 기본적인 자료구조 중 하나로, 컴퓨터 프로그램을 작성할 때 자주 이용되는 개념이다. 스택은 자료를 넣는 (push) 입구와 자료를 뽑는 (pop) 입구가 같아 제일 나중에 들어간 자료가 제일 먼저 나오는 (LIFO, Last in First out) 특성을 가지고 있다.  \\\n",
    "\n",
    "1부터 n까지의 수를 스택에 넣었다가 뽑아 늘어놓음으로써, 하나의 수열을 만들 수 있다. 이때, 스택에 push하는 순서는 반드시 오름차순을 지키도록 한다고 하자. 임의의 수열이 주어졌을 때 스택을 이용해 그 수열을 만들 수 있는지 없는지, 있다면 어떤 순서로 push와 pop 연산을 수행해야 하는지를 알아낼 수 있다. 이를 계산하는 프로그램을 작성하라.  \\\n",
    "\n",
    "입력  \\\n",
    "첫 줄에 n (1 ≤ n ≤ 100,000)이 주어진다. 둘째 줄부터 n개의 줄에는 수열을 이루는 1이상 n이하의 정수가 하나씩 순서대로 주어진다. 물론 같은 정수가 두 번 나오는 일은 없다.  \\\n",
    "\n",
    "출력  \\\n",
    "입력된 수열을 만들기 위해 필요한 연산을 한 줄에 한 개씩 출력한다. push연산은 +로, pop 연산은 -로 표현하도록 한다. 불가능한 경우 NO를 출력한다.  \\\n",
    "\n",
    "예제 입력 1  \\ \n",
    "8  \\\n",
    "4  \\\n",
    "3  \\\n",
    "6  \\\n",
    "8  \\\n",
    "7  \\\n",
    "5  \\\n",
    "2  \\\n",
    "1  \\\n",
    "예제 출력 1  \\ \n",
    "+\n",
    "+\n",
    "+\n",
    "+\n",
    "-\n",
    "-\n",
    "+\n",
    "+\n",
    "-\n",
    "+\n",
    "+\n",
    "-\n",
    "-\n",
    "-\n",
    "-\n",
    "-\n",
    "예제 입력 2  \\ \n",
    "5  \\\n",
    "1  \\\n",
    "2  \\\n",
    "5  \\\n",
    "3  \\\n",
    "4  \\\n",
    "예제 출력 2  \\ \n",
    "NO  \\\n",
    "힌트  \\\n",
    "1부터 n까지에 수에 대해 차례로 [push, push, push, push, pop, pop, push, push, pop, push, push, pop, pop, pop, pop, pop] 연산을 수행하면 수열 [4, 3, 6, 8, 7, 5, 2, 1]을 얻을 수 있다.  \\"
   ]
  },
  {
   "cell_type": "code",
   "execution_count": 1,
   "id": "b0d8c318",
   "metadata": {},
   "outputs": [
    {
     "name": "stdout",
     "output_type": "stream",
     "text": [
      "8 4 3 6 8 7 5 2 1\n",
      "No\n"
     ]
    }
   ],
   "source": [
    "n = list(map(int, input().split(' ')))\n",
    "stack = []\n",
    "result = []\n",
    "sign = []\n",
    "\n",
    "for i in range(n[0]-1):\n",
    "    if i == 0:\n",
    "        for t in range(n[1]):\n",
    "            stack.append(i)\n",
    "            sign.append('+')\n",
    "        result.append(stack.pop)\n",
    "        sign.append('-')\n",
    "    else:\n",
    "        if n[i] > n[i+1]:\n",
    "            for j in range(n[i]-n[i+1]): \n",
    "                stack.pop\n",
    "                sign.append('+')\n",
    "            result.append(stack.pop)\n",
    "            sign.append('-')\n",
    "        elif n[i] < n[i+1]:\n",
    "            for k in range(n[i+1]-n[i]-2):\n",
    "                stack.append\n",
    "                sign.append('+')\n",
    "            result.append(stack.pop)\n",
    "            sign.append('-')\n",
    "\n",
    "if result == n[1:]:\n",
    "    for i in sign:\n",
    "        print(i)\n",
    "\n",
    "if result != n[1:]:\n",
    "    print('No')\n"
   ]
  },
  {
   "cell_type": "code",
   "execution_count": 1,
   "id": "0e18c0a4",
   "metadata": {},
   "outputs": [
    {
     "name": "stdout",
     "output_type": "stream",
     "text": [
      "5\n",
      "1\n",
      "2\n",
      "5\n",
      "3\n",
      "NO\n",
      "4\n",
      "+\n",
      "-\n",
      "+\n",
      "-\n",
      "+\n",
      "+\n",
      "+\n",
      "-\n",
      "-\n"
     ]
    }
   ],
   "source": [
    "n = int(input())\n",
    "\n",
    "count = 1\n",
    "stack = []\n",
    "result = []\n",
    "\n",
    "for i in range(1, n+1): #데이터 개수만큼 반복\n",
    "    data = int(input())\n",
    "    while count <= data: #입력 받은 데이터에 도달할 때까지 삽입\n",
    "        stack.append(count)\n",
    "        count += 1\n",
    "        result.append('+')\n",
    "    if stack[-1] == data:\n",
    "        stack.pop()\n",
    "        result.append('-')\n",
    "    else:\n",
    "        print('NO')\n",
    "        exit()\n",
    "print('\\n'.join(result))"
   ]
  },
  {
   "cell_type": "code",
   "execution_count": 2,
   "id": "a36455b0",
   "metadata": {},
   "outputs": [
    {
     "data": {
      "text/plain": [
       "'문제\\n여러분도 알다시피 여러분의 프린터 기기는 여러분이 인쇄하고자 하는 문서를 인쇄 명령을 받은 ‘순서대로’, 즉 먼저 요청된 것을 먼저 인쇄한다. 여러 개의 문서가 쌓인다면 Queue 자료구조에 쌓여서 FIFO - First In First Out - 에 따라 인쇄가 되게 된다. 하지만 상근이는 새로운 프린터기 내부 소프트웨어를 개발하였는데, 이 프린터기는 다음과 같은 조건에 따라 인쇄를 하게 된다.\\n\\n현재 Queue의 가장 앞에 있는 문서의 ‘중요도’를 확인한다.\\n나머지 문서들 중 현재 문서보다 중요도가 높은 문서가 하나라도 있다면, 이 문서를 인쇄하지 않고 Queue의 가장 뒤에 재배치 한다. 그렇지 않다면 바로 인쇄를 한다.\\n예를 들어 Queue에 4개의 문서(A B C D)가 있고, 중요도가 2 1 4 3 라면 C를 인쇄하고, 다음으로 D를 인쇄하고 A, B를 인쇄하게 된다.\\n\\n여러분이 할 일은, 현재 Queue에 있는 문서의 수와 중요도가 주어졌을 때, 어떤 한 문서가 몇 번째로 인쇄되는지 알아내는 것이다. 예를 들어 위의 예에서 C문서는 1번째로, A문서는 3번째로 인쇄되게 된다.\\n\\n입력\\n첫 줄에 테스트케이스의 수가 주어진다. 각 테스트케이스는 두 줄로 이루어져 있다.\\n\\n테스트케이스의 첫 번째 줄에는 문서의 개수 N(1 ≤ N ≤ 100)과, 몇 번째로 인쇄되었는지 궁금한 문서가 현재 Queue에서 몇 번째에 놓여 있는지를 나타내는 정수 M(0 ≤ M < N)이 주어진다. 이때 맨 왼쪽은 0번째라고 하자. 두 번째 줄에는 N개 문서의 중요도가 차례대로 주어진다. 중요도는 1 이상 9 이하의 정수이고, 중요도가 같은 문서가 여러 개 있을 수도 있다.\\n\\n출력\\n각 테스트 케이스에 대해 문서가 몇 번째로 인쇄되는지 출력한다.'"
      ]
     },
     "execution_count": 2,
     "metadata": {},
     "output_type": "execute_result"
    }
   ],
   "source": [
    "'''문제\n",
    "여러분도 알다시피 여러분의 프린터 기기는 여러분이 인쇄하고자 하는 문서를 인쇄 명령을 받은 ‘순서대로’, 즉 먼저 요청된 것을 먼저 인쇄한다.\n",
    "여러 개의 문서가 쌓인다면 Queue 자료구조에 쌓여서 FIFO - First In First Out - 에 따라 인쇄가 되게 된다. \n",
    "하지만 상근이는 새로운 프린터기 내부 소프트웨어를 개발하였는데, 이 프린터기는 다음과 같은 조건에 따라 인쇄를 하게 된다.\n",
    "\n",
    "현재 Queue의 가장 앞에 있는 문서의 ‘중요도’를 확인한다.\n",
    "나머지 문서들 중 현재 문서보다 중요도가 높은 문서가 하나라도 있다면, 이 문서를 인쇄하지 않고 Queue의 가장 뒤에 재배치 한다.\n",
    "그렇지 않다면 바로 인쇄를 한다.\n",
    "예를 들어 Queue에 4개의 문서(A B C D)가 있고, 중요도가 2 1 4 3 라면 C를 인쇄하고, 다음으로 D를 인쇄하고 A, B를 인쇄하게 된다.\n",
    "\n",
    "여러분이 할 일은, 현재 Queue에 있는 문서의 수와 중요도가 주어졌을 때, 어떤 한 문서가 몇 번째로 인쇄되는지 알아내는 것이다. \n",
    "예를 들어 위의 예에서 C문서는 1번째로, A문서는 3번째로 인쇄되게 된다.\n",
    "\n",
    "입력\n",
    "첫 줄에 테스트케이스의 수가 주어진다. 각 테스트케이스는 두 줄로 이루어져 있다.\n",
    "\n",
    "테스트케이스의 첫 번째 줄에는 문서의 개수 N(1 ≤ N ≤ 100)과, 몇 번째로 인쇄되었는지 궁금한 문서가 현재 Queue에서 몇 번째에 놓여 있는지를\n",
    "나타내는 정수 M(0 ≤ M < N)이 주어진다. 이때 맨 왼쪽은 0번째라고 하자.\n",
    "두 번째 줄에는 N개 문서의 중요도가 차례대로 주어진다. 중요도는 1 이상 9 이하의 정수이고,중요도가 같은 문서가 여러 개 있을 수도 있다.\n",
    "\n",
    "출력\n",
    "각 테스트 케이스에 대해 문서가 몇 번째로 인쇄되는지 출력한다.'''\n"
   ]
  },
  {
   "cell_type": "code",
   "execution_count": null,
   "id": "fc027676",
   "metadata": {},
   "outputs": [],
   "source": [
    "[입력]\n",
    "3\n",
    "\n",
    "1 0\n",
    "5\n",
    "\n",
    "4 2\n",
    "1 2 3 4\n",
    "\n",
    "6 0\n",
    "1 1 9 1 1 1"
   ]
  },
  {
   "cell_type": "code",
   "execution_count": null,
   "id": "e7d612b4",
   "metadata": {},
   "outputs": [],
   "source": [
    "[출력]\n",
    "1\n",
    "2\n",
    "5\n",
    "\n",
    "ABCD\n",
    "2143\n",
    "\n",
    "CDAB"
   ]
  },
  {
   "cell_type": "code",
   "execution_count": 3,
   "id": "9888ebe7",
   "metadata": {
    "scrolled": true
   },
   "outputs": [
    {
     "name": "stdout",
     "output_type": "stream",
     "text": [
      "3\n",
      "1 0\n",
      "5\n",
      "1\n",
      "4 2\n",
      "1 2 3 4\n",
      "2\n",
      "6 0\n",
      "1 1 9 1 1 1\n",
      "2\n"
     ]
    }
   ],
   "source": [
    "N  = int(input())\n",
    "\n",
    "for j in range(1, N+1):\n",
    "    n, m = map(int, input().split(' '))\n",
    "    # n = 갯수, m = 궁금한 인덱스 값\n",
    "    count = 1\n",
    "    important = list(map(int, input().split(' '))) #중요도의 순서\n",
    "    list1 = [i for i in range(n)] #처음에 담긴 순서    \n",
    "    A = {key:value for key, value in zip(list1, important)}\n",
    "    B = A.items()\n",
    "\n",
    "    for k in range(n):\n",
    "        b = max(B, key=lambda x : x[1])\n",
    "        if b[0] == m:\n",
    "            print(count)\n",
    "            break\n",
    "        else:\n",
    "            A.pop(b[0])\n",
    "            count += 1\n",
    "            \n",
    "# 이건 딕셔너리로 풀 수 없는 문제임\n",
    "# key값을 important로 두면, 중요도가 같을 때 문제 발생\n",
    "# key값을 인덱스 값으로 두면, 중요도가 같을 때, 맨 처음 인덱스 값을 뽑아오게 됨(입력 3번 케이스)\n",
    "# 딕셔너리는 순서를 관리하지 않기 때문에."
   ]
  },
  {
   "cell_type": "code",
   "execution_count": 10,
   "id": "e72adce9",
   "metadata": {},
   "outputs": [
    {
     "name": "stdout",
     "output_type": "stream",
     "text": [
      "3\n",
      "1 0\n",
      "5\n",
      "1\n",
      "4 2\n",
      "1 2 3 4\n",
      "2\n",
      "6 0\n",
      "1 1 9 1 1 1\n",
      "5\n"
     ]
    }
   ],
   "source": [
    "test_case = int(input())\n",
    "\n",
    "for _ in range(test_case):\n",
    "    n, m = list(map(int, input().split(' ')))\n",
    "    queue = list(map(int, input().split(' ')))\n",
    "    queue = [(i, idx) for idx, i in enumerate(queue)]\n",
    "    \n",
    "    count = 0\n",
    "    while True: #무한 반복\n",
    "        if queue[0][0] == max(queue, key=lambda x: x[0])[0]:\n",
    "            count += 1\n",
    "            if queue[0][1] == m:\n",
    "                print(count)\n",
    "                break\n",
    "            else:\n",
    "                queue.pop(0)\n",
    "        else:\n",
    "            queue.append(queue.pop(0))#뽑아서 뒤로 삽입하겠다        "
   ]
  },
  {
   "cell_type": "code",
   "execution_count": null,
   "id": "e5d05811",
   "metadata": {},
   "outputs": [],
   "source": []
  }
 ],
 "metadata": {
  "kernelspec": {
   "display_name": "Python 3",
   "language": "python",
   "name": "python3"
  },
  "language_info": {
   "codemirror_mode": {
    "name": "ipython",
    "version": 3
   },
   "file_extension": ".py",
   "mimetype": "text/x-python",
   "name": "python",
   "nbconvert_exporter": "python",
   "pygments_lexer": "ipython3",
   "version": "3.8.8"
  }
 },
 "nbformat": 4,
 "nbformat_minor": 5
}
