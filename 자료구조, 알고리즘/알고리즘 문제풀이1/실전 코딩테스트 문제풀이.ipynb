{
 "cells": [
  {
   "cell_type": "markdown",
   "id": "919a11e1",
   "metadata": {},
   "source": [
    "# 02.자료형의 기본 활용과 TIP"
   ]
  },
  {
   "cell_type": "markdown",
   "id": "501a1a90",
   "metadata": {},
   "source": [
    "# integer"
   ]
  },
  {
   "cell_type": "code",
   "execution_count": 1,
   "id": "f1885d25",
   "metadata": {},
   "outputs": [
    {
     "name": "stdout",
     "output_type": "stream",
     "text": [
      "1\n"
     ]
    }
   ],
   "source": [
    "a = 1\n",
    "print(a)"
   ]
  },
  {
   "cell_type": "code",
   "execution_count": 7,
   "id": "c191c632",
   "metadata": {},
   "outputs": [
    {
     "name": "stdout",
     "output_type": "stream",
     "text": [
      "10715086071862673209484250490600018105614048117055336074437503883703510511249361224931983788156958581275946729175531468251871452856923140435984577574698574803934567774824230985421074605062371141877954182153046474983581941267398767559165543946077062914571196477686542167660429831652624386837205668069376\n"
     ]
    }
   ],
   "source": [
    "# 수의 크기에 제한이 없음\n",
    "print(2**1000)"
   ]
  },
  {
   "cell_type": "code",
   "execution_count": 8,
   "id": "69ab0fef",
   "metadata": {},
   "outputs": [
    {
     "name": "stdout",
     "output_type": "stream",
     "text": [
      "123\n"
     ]
    }
   ],
   "source": [
    "# str()로 쉬운 형변환\n",
    "print(str(123))"
   ]
  },
  {
   "cell_type": "code",
   "execution_count": 9,
   "id": "256f6f21",
   "metadata": {
    "scrolled": true
   },
   "outputs": [
    {
     "data": {
      "text/plain": [
       "float"
      ]
     },
     "execution_count": 9,
     "metadata": {},
     "output_type": "execute_result"
    }
   ],
   "source": [
    "# 연산, 함수 사용 시, float로 변환되는 경우를 주의해야함\n",
    "# 나눗셈은 /가 아닌 //로 안전하게 나누자 혹은 divmod 사용\n",
    "type(3/3)"
   ]
  },
  {
   "cell_type": "code",
   "execution_count": 11,
   "id": "3db88a5f",
   "metadata": {},
   "outputs": [
    {
     "data": {
      "text/plain": [
       "int"
      ]
     },
     "execution_count": 11,
     "metadata": {},
     "output_type": "execute_result"
    }
   ],
   "source": [
    "type(3//3)"
   ]
  },
  {
   "cell_type": "code",
   "execution_count": 10,
   "id": "c855aa91",
   "metadata": {},
   "outputs": [
    {
     "data": {
      "text/plain": [
       "(2, 1)"
      ]
     },
     "execution_count": 10,
     "metadata": {},
     "output_type": "execute_result"
    }
   ],
   "source": [
    "divmod(7,3)"
   ]
  },
  {
   "cell_type": "markdown",
   "id": "3d697edb",
   "metadata": {},
   "source": [
    "# float"
   ]
  },
  {
   "cell_type": "code",
   "execution_count": 13,
   "id": "3393030f",
   "metadata": {},
   "outputs": [
    {
     "data": {
      "text/plain": [
       "False"
      ]
     },
     "execution_count": 13,
     "metadata": {},
     "output_type": "execute_result"
    }
   ],
   "source": [
    "# 일단 연산에서는 쓰지 말자\n",
    "0.1 * 3 == 0.3"
   ]
  },
  {
   "cell_type": "code",
   "execution_count": 14,
   "id": "f024e2b3",
   "metadata": {},
   "outputs": [
    {
     "data": {
      "text/plain": [
       "0.3333333333333333"
      ]
     },
     "execution_count": 14,
     "metadata": {},
     "output_type": "execute_result"
    }
   ],
   "source": [
    "# 유리수 연산은?\n",
    "# 될 수 있다면 tuple 등으로 분자/분모를 따로 처리하자\n",
    "\n",
    "1/3"
   ]
  },
  {
   "cell_type": "code",
   "execution_count": 15,
   "id": "b4a52f2b",
   "metadata": {},
   "outputs": [
    {
     "data": {
      "text/plain": [
       "((1, 3), (2, 3))"
      ]
     },
     "execution_count": 15,
     "metadata": {},
     "output_type": "execute_result"
    }
   ],
   "source": [
    "(1, 3), (2,3)"
   ]
  },
  {
   "cell_type": "markdown",
   "id": "b1fcf4b0",
   "metadata": {},
   "source": [
    "# string"
   ]
  },
  {
   "cell_type": "code",
   "execution_count": 16,
   "id": "5f0e26e9",
   "metadata": {},
   "outputs": [
    {
     "name": "stdout",
     "output_type": "stream",
     "text": [
      "an subin\n"
     ]
    }
   ],
   "source": [
    "# immutable 변수 (변경이 불가능한)\n",
    "# => List로 변환하여 사용하기\n",
    "s = 'an subin'\n",
    "for i in s:\n",
    "    i = 'c'\n",
    "print(s) # 변하지 않음"
   ]
  },
  {
   "cell_type": "code",
   "execution_count": 18,
   "id": "7ff0de17",
   "metadata": {
    "scrolled": true
   },
   "outputs": [
    {
     "name": "stdout",
     "output_type": "stream",
     "text": [
      "abcedf\n",
      "abcabcabc\n"
     ]
    }
   ],
   "source": [
    "s = 'abc'\n",
    "b = 'edf'\n",
    "print(s + b)\n",
    "print(s*3)"
   ]
  },
  {
   "cell_type": "code",
   "execution_count": 28,
   "id": "29809564",
   "metadata": {},
   "outputs": [],
   "source": [
    "# string은 +-*/ 연산자 사용을 조심해야함\n",
    "# join() method 활용하기"
   ]
  },
  {
   "cell_type": "code",
   "execution_count": 29,
   "id": "393324dd",
   "metadata": {},
   "outputs": [
    {
     "name": "stdout",
     "output_type": "stream",
     "text": [
      "time 0.03803515434265137\n"
     ]
    }
   ],
   "source": [
    "import time\n",
    "start = time.time()\n",
    "s = ''\n",
    "\n",
    "for i in range(100000):\n",
    "    s = s + str(i)\n",
    "end = time.time()\n",
    "print('time', end - start)"
   ]
  },
  {
   "cell_type": "code",
   "execution_count": 30,
   "id": "d34b9904",
   "metadata": {},
   "outputs": [
    {
     "name": "stdout",
     "output_type": "stream",
     "text": [
      "time 0.019079923629760742\n"
     ]
    }
   ],
   "source": [
    "import time\n",
    "start = time.time()\n",
    "\n",
    "s = ''\n",
    "\n",
    "s = s.join([str(i) for i in range(100000)])\n",
    "end = time.time()\n",
    "print('time', end - start)"
   ]
  },
  {
   "cell_type": "code",
   "execution_count": 31,
   "id": "a3b0ce53",
   "metadata": {},
   "outputs": [
    {
     "data": {
      "text/plain": [
       "'a'"
      ]
     },
     "execution_count": 31,
     "metadata": {},
     "output_type": "execute_result"
    }
   ],
   "source": [
    "# split(), replace() 등 다양한 method 활용이 초점\n",
    "# sliceing을 자유롭게 활용하는 것이 중요\n",
    "\n",
    "s = 'abcd'\n",
    "s[:1]"
   ]
  },
  {
   "cell_type": "code",
   "execution_count": 34,
   "id": "cb2980c6",
   "metadata": {},
   "outputs": [
    {
     "name": "stdout",
     "output_type": "stream",
     "text": [
      "A\n",
      "65\n"
     ]
    }
   ],
   "source": [
    "# char를 ord와 chr로 다루기\n",
    "print(chr(65)) # 아스키 코드를 변환한 값\n",
    "print(ord('A'))"
   ]
  },
  {
   "cell_type": "markdown",
   "id": "17120332",
   "metadata": {},
   "source": [
    "# boolean"
   ]
  },
  {
   "cell_type": "code",
   "execution_count": 35,
   "id": "0f22320d",
   "metadata": {},
   "outputs": [],
   "source": [
    "# 논리 연산과 활용\n",
    "if 0 and 1//0: # runtime error 발생해야 함!\n",
    "    print('hello') # and연산자는 앞 연산이 거짓이므로 에러 발생X"
   ]
  },
  {
   "cell_type": "code",
   "execution_count": 37,
   "id": "c77ab943",
   "metadata": {},
   "outputs": [
    {
     "name": "stdout",
     "output_type": "stream",
     "text": [
      "hello\n"
     ]
    }
   ],
   "source": [
    "if 1 or 1//0:\n",
    "    print('hello') # or연산자 앞 연산이 참이므로 에러 발생X"
   ]
  },
  {
   "cell_type": "code",
   "execution_count": 39,
   "id": "7ea58ddf",
   "metadata": {},
   "outputs": [],
   "source": [
    "# Short Circuit을 잘 활용해야 함\n",
    "# or 연산에 앞 항이 참\n",
    "# and 연산에 앞 항이 거짓"
   ]
  },
  {
   "cell_type": "markdown",
   "id": "f6eb7897",
   "metadata": {},
   "source": [
    "# List"
   ]
  },
  {
   "cell_type": "code",
   "execution_count": 43,
   "id": "d3654a84",
   "metadata": {},
   "outputs": [
    {
     "name": "stdout",
     "output_type": "stream",
     "text": [
      "0.04601907730102539\n"
     ]
    }
   ],
   "source": [
    "# List Comprehension 사용하기\n",
    "# append보다 더 빠르기 때문에\n",
    "import time\n",
    "start = time.time()\n",
    "list_arr = [i for i in range(1000000)]\n",
    "end = time.time()\n",
    "print(end-start)"
   ]
  },
  {
   "cell_type": "code",
   "execution_count": 45,
   "id": "7cfa8c25",
   "metadata": {},
   "outputs": [
    {
     "name": "stdout",
     "output_type": "stream",
     "text": [
      "0.09712886810302734\n"
     ]
    }
   ],
   "source": [
    "import time\n",
    "start = time.time()\n",
    "list_arr2 = []\n",
    "for i in range(1000000):\n",
    "    list_arr2.append(i)\n",
    "end = time.time()\n",
    "print(end-start)"
   ]
  },
  {
   "cell_type": "code",
   "execution_count": 46,
   "id": "a38175f4",
   "metadata": {},
   "outputs": [],
   "source": [
    "# list comprehension 안에 조건식도 추가할 수 있기 때문에\n",
    "# 왠만하면 listcomprehension을 사용하는 것이 좋음\n",
    "list_arr = [i for i in range(1000000) if i%2 ==0]"
   ]
  },
  {
   "cell_type": "code",
   "execution_count": 55,
   "id": "83cd08ab",
   "metadata": {},
   "outputs": [
    {
     "name": "stdout",
     "output_type": "stream",
     "text": [
      "[2, 3, 5, 6, 9]\n",
      "[3, 5, 6, 9, 2]\n",
      "None\n",
      "[2, 3, 5, 6, 9]\n"
     ]
    }
   ],
   "source": [
    "# sort와 sorted 구분하기\n",
    "lst = [3, 5, 6, 9, 2]\n",
    "print(sorted(lst)) # lst를 정렬해서 반환\n",
    "print(lst)\n",
    "print(lst.sort()) # lst자체를 정렬값으로 변환\n",
    "print(lst)"
   ]
  },
  {
   "cell_type": "code",
   "execution_count": 51,
   "id": "51196bb3",
   "metadata": {},
   "outputs": [
    {
     "name": "stdout",
     "output_type": "stream",
     "text": [
      "5\n",
      "25\n",
      "2\n",
      "9\n"
     ]
    }
   ],
   "source": [
    "# len, sum, max, min 등 활용하기\n",
    "print(len(lst))\n",
    "print(sum(lst))\n",
    "print(min(lst))\n",
    "print(max(lst))"
   ]
  },
  {
   "cell_type": "code",
   "execution_count": 56,
   "id": "34b0281a",
   "metadata": {},
   "outputs": [
    {
     "data": {
      "text/plain": [
       "[2, 3, 5, 6, 9]"
      ]
     },
     "execution_count": 56,
     "metadata": {},
     "output_type": "execute_result"
    }
   ],
   "source": [
    "# slicing 활용하기\n",
    "lst"
   ]
  },
  {
   "cell_type": "code",
   "execution_count": 57,
   "id": "8b2e946c",
   "metadata": {},
   "outputs": [
    {
     "data": {
      "text/plain": [
       "[1, 2, 3, 5, 6, 9]"
      ]
     },
     "execution_count": 57,
     "metadata": {},
     "output_type": "execute_result"
    }
   ],
   "source": [
    "lst = [1] + lst\n",
    "lst"
   ]
  },
  {
   "cell_type": "code",
   "execution_count": 58,
   "id": "1e2ce646",
   "metadata": {},
   "outputs": [
    {
     "name": "stdout",
     "output_type": "stream",
     "text": [
      "[1, 1, 2, 3, 5, 6, 9]\n"
     ]
    }
   ],
   "source": [
    "lst[:0] = [1]\n",
    "print(lst)"
   ]
  },
  {
   "cell_type": "markdown",
   "id": "b6dc0112",
   "metadata": {},
   "source": [
    "# tuple"
   ]
  },
  {
   "cell_type": "code",
   "execution_count": 59,
   "id": "88546756",
   "metadata": {},
   "outputs": [
    {
     "name": "stdout",
     "output_type": "stream",
     "text": [
      "1\n",
      "2\n",
      "3\n"
     ]
    }
   ],
   "source": [
    "# 가장 큰 장점은 표현을 간결하게 할 수 있다는 것\n",
    "a, b, c = 1, 2, 3\n",
    "print(a)\n",
    "print(b)\n",
    "print(c)"
   ]
  },
  {
   "cell_type": "code",
   "execution_count": 60,
   "id": "eea31c63",
   "metadata": {},
   "outputs": [
    {
     "name": "stdout",
     "output_type": "stream",
     "text": [
      "3 7\n"
     ]
    }
   ],
   "source": [
    "# map과 함께 사용하여 입력 받기\n",
    "a, b = map(int, input().split())"
   ]
  },
  {
   "cell_type": "code",
   "execution_count": 61,
   "id": "16a9a929",
   "metadata": {},
   "outputs": [
    {
     "name": "stdout",
     "output_type": "stream",
     "text": [
      "3 7\n"
     ]
    }
   ],
   "source": [
    "print(a, b)"
   ]
  },
  {
   "cell_type": "code",
   "execution_count": 65,
   "id": "3dd326d1",
   "metadata": {},
   "outputs": [
    {
     "name": "stdout",
     "output_type": "stream",
     "text": [
      "3\n",
      "7\n"
     ]
    }
   ],
   "source": [
    "# 동시에 변해야하는 객체에 효율적으로 표현 가능\n",
    "a, b = 3, 7\n",
    "print(a)\n",
    "print(b)"
   ]
  },
  {
   "cell_type": "code",
   "execution_count": 63,
   "id": "f79c2d17",
   "metadata": {},
   "outputs": [
    {
     "name": "stdout",
     "output_type": "stream",
     "text": [
      "7 7\n"
     ]
    }
   ],
   "source": [
    "a = b\n",
    "b = a\n",
    "print(a, b)"
   ]
  },
  {
   "cell_type": "code",
   "execution_count": 66,
   "id": "0bb4ba20",
   "metadata": {},
   "outputs": [
    {
     "name": "stdout",
     "output_type": "stream",
     "text": [
      "7 3\n"
     ]
    }
   ],
   "source": [
    "tmp = a\n",
    "a = b\n",
    "b = tmp\n",
    "print(a, b)"
   ]
  },
  {
   "cell_type": "code",
   "execution_count": 67,
   "id": "bd9522ce",
   "metadata": {},
   "outputs": [
    {
     "name": "stdout",
     "output_type": "stream",
     "text": [
      "7 3\n"
     ]
    }
   ],
   "source": [
    "# tuple 사용 시\n",
    "a, b = 3, 7\n",
    "a, b = b, a\n",
    "print(a, b)"
   ]
  },
  {
   "cell_type": "markdown",
   "id": "c7b254ef",
   "metadata": {},
   "source": [
    "# Dictionary"
   ]
  },
  {
   "cell_type": "code",
   "execution_count": 68,
   "id": "fb22d22a",
   "metadata": {},
   "outputs": [
    {
     "name": "stdout",
     "output_type": "stream",
     "text": [
      "{1: 2, 2: 3, 'abc': 7}\n"
     ]
    }
   ],
   "source": [
    "# key나 values를 사용하여 효율적인 사용 가능\n",
    "dict_test = {1: 2, 2: 3, 'abc' : 7}\n",
    "print(dict_test)"
   ]
  },
  {
   "cell_type": "code",
   "execution_count": 69,
   "id": "1741333c",
   "metadata": {},
   "outputs": [
    {
     "data": {
      "text/plain": [
       "dict_values([2, 3, 7])"
      ]
     },
     "execution_count": 69,
     "metadata": {},
     "output_type": "execute_result"
    }
   ],
   "source": [
    "dict_test.values()"
   ]
  },
  {
   "cell_type": "code",
   "execution_count": 70,
   "id": "57a74375",
   "metadata": {},
   "outputs": [
    {
     "data": {
      "text/plain": [
       "dict_keys([1, 2, 'abc'])"
      ]
     },
     "execution_count": 70,
     "metadata": {},
     "output_type": "execute_result"
    }
   ],
   "source": [
    "dict_test.keys()"
   ]
  },
  {
   "cell_type": "code",
   "execution_count": 71,
   "id": "fd9d7b14",
   "metadata": {},
   "outputs": [],
   "source": [
    "import collections"
   ]
  },
  {
   "cell_type": "code",
   "execution_count": 72,
   "id": "6034ea9c",
   "metadata": {},
   "outputs": [
    {
     "data": {
      "text/plain": [
       "Counter({1: 2, 2: 3, 'abc': 7})"
      ]
     },
     "execution_count": 72,
     "metadata": {},
     "output_type": "execute_result"
    }
   ],
   "source": [
    "# collections.Counter() 등을 활용할 수 있음"
   ]
  },
  {
   "cell_type": "code",
   "execution_count": 74,
   "id": "9b5bcd0b",
   "metadata": {},
   "outputs": [
    {
     "name": "stdout",
     "output_type": "stream",
     "text": [
      "1 2\n",
      "2 3\n",
      "abc 7\n"
     ]
    }
   ],
   "source": [
    "# 반복문\n",
    "for a, b in dict_test.items():\n",
    "    print(a, b)"
   ]
  },
  {
   "cell_type": "markdown",
   "id": "0580e78c",
   "metadata": {},
   "source": [
    "# Set"
   ]
  },
  {
   "cell_type": "code",
   "execution_count": 76,
   "id": "673c297e",
   "metadata": {},
   "outputs": [
    {
     "data": {
      "text/plain": [
       "{1, 2, 3, 4, 5}"
      ]
     },
     "execution_count": 76,
     "metadata": {},
     "output_type": "execute_result"
    }
   ],
   "source": [
    "# 중복 체크\n",
    "st = set([1,2,3,4,5,1,2,3,4,5,1,2,3])\n",
    "st"
   ]
  },
  {
   "cell_type": "code",
   "execution_count": 77,
   "id": "01744195",
   "metadata": {},
   "outputs": [],
   "source": [
    "# 중복 체크 함수\n",
    "def isCheck(lst):\n",
    "    return len(lst) == len(set(lst))"
   ]
  },
  {
   "cell_type": "code",
   "execution_count": 78,
   "id": "08be7ee5",
   "metadata": {},
   "outputs": [],
   "source": [
    "# 합집합, 여집합, 차집합 등은 시간복잡도가 크니 사용 주의"
   ]
  },
  {
   "cell_type": "markdown",
   "id": "ef8bafa2",
   "metadata": {},
   "source": [
    "## 행복 15969번"
   ]
  },
  {
   "cell_type": "code",
   "execution_count": 6,
   "id": "b28c6591",
   "metadata": {},
   "outputs": [
    {
     "name": "stdout",
     "output_type": "stream",
     "text": [
      "5\n",
      "27 35 92 75 42\n",
      "65\n"
     ]
    }
   ],
   "source": [
    "N, score = int(input()), list(map(int, input().split()))\n",
    "print(max(score)-min(score))"
   ]
  },
  {
   "cell_type": "markdown",
   "id": "f24ef680",
   "metadata": {},
   "source": [
    "## 수빈이와 수열 10539번"
   ]
  },
  {
   "cell_type": "code",
   "execution_count": 25,
   "id": "35722c91",
   "metadata": {},
   "outputs": [
    {
     "name": "stdout",
     "output_type": "stream",
     "text": [
      "4\n",
      "3 2 3 5\n",
      "3 1 5 11\n"
     ]
    }
   ],
   "source": [
    "N, num = int(input()), list(map(int, input().split()))\n",
    "A = []\n",
    "for i in range(1, N + 1):\n",
    "    if i == 1:\n",
    "        A.append(str(num[i - 1] * i))\n",
    "    else:\n",
    "        A.append(str(num[i - 1] * i - num[i - 2] * (i - 1)))\n",
    "result = ' '.join(A)\n",
    "print(result)"
   ]
  },
  {
   "cell_type": "code",
   "execution_count": 30,
   "id": "79912eda",
   "metadata": {},
   "outputs": [
    {
     "name": "stdout",
     "output_type": "stream",
     "text": [
      "4\n",
      "3 2 3 5\n",
      "3 1 5 11 "
     ]
    }
   ],
   "source": [
    "# 미리 A를 선언하는 쪽이 더 빠름\n",
    "N, B = int(input()), list(map(int, input().split()))\n",
    "A = [0 for i in range(len(B))]\n",
    "A[0] = B[0]\n",
    "\n",
    "for i in range(1, N):\n",
    "    A[i] = B[i] * (i + 1) - sum(A)\n",
    "for j in A:\n",
    "    print(j, end=' ')"
   ]
  },
  {
   "cell_type": "markdown",
   "id": "8cccb129",
   "metadata": {},
   "source": [
    "## 이름궁합 테스트 17269번"
   ]
  },
  {
   "cell_type": "code",
   "execution_count": 83,
   "id": "73ca5405",
   "metadata": {},
   "outputs": [
    {
     "name": "stdout",
     "output_type": "stream",
     "text": [
      "8 14\n",
      "LEESIYUN MIYAWAKISAKURA\n",
      "27%\n"
     ]
    }
   ],
   "source": [
    "N, M = map(int, input().split())\n",
    "A, B = map(str, input().split())\n",
    "Nkeys = ['A','B','C','D','E','F','G','H','I','J','K','L','M','N','O','P','Q','R','S','T','U','V','W','X','Y','Z']\n",
    "Nvalues = [3,2,1,2,4,3,1,3,1,1,3,1,3,2,1,2,2,2,1,2,1,1,1,2,2,1]\n",
    "TransDict = dict(zip(Nkeys, Nvalues))\n",
    "\n",
    "def NamePlus(name1, name2):\n",
    "    NAME = []\n",
    "    for i in range(max(len(name1), len(name2))):\n",
    "        if i <= min(len(name1), len(name2)) - 1:\n",
    "            NAME.append(name1[i])\n",
    "            NAME.append(name2[i])\n",
    "        elif i > len(name1) - 1:\n",
    "            NAME.append(name2[i])\n",
    "        elif i > len(name2) - 1:\n",
    "            NAME.append(name1[i])\n",
    "    # NAME을 숫자로 바꾸기\n",
    "    NUM = []\n",
    "    for i in NAME:\n",
    "        NUM.append(TransDict[i])\n",
    "    return NUM\n",
    "\n",
    "def percentage(NUM):\n",
    "    # 숫자를 더하고 일의 자리만 남기기\n",
    "    result = []\n",
    "    for i in range(len(NUM) - 1):\n",
    "        result.append((NUM[i] + NUM[i+1]) % 10)\n",
    "    if len(result) > 2:\n",
    "        percentage(result)\n",
    "    if len(result) == 2:\n",
    "        print(str(result[0] * 10 + result[1]) + '%')\n",
    "NUM = NamePlus(A, B)\n",
    "percentage(NUM)\n",
    "        "
   ]
  },
  {
   "cell_type": "code",
   "execution_count": 92,
   "id": "96fbb290",
   "metadata": {},
   "outputs": [
    {
     "name": "stdout",
     "output_type": "stream",
     "text": [
      "8 14\n",
      "LEESIYUN MIYAWAKISAKURA\n",
      "27%\n"
     ]
    }
   ],
   "source": [
    "N, M = map(int, input().split())\n",
    "A, B = input().split()\n",
    "\n",
    "alp = [3,2,1,2,4,3,1,3,1,1,3,1,3,2,1,2,2,2,1,2,1,1,1,2,2,1]\n",
    "\n",
    "AB = ''\n",
    "min_len = min(N, M)\n",
    "for i in range(min_len):\n",
    "    AB += A[i] + B[i]\n",
    "AB  += A[min_len:] + B[min_len:]\n",
    "\n",
    "lst = [alp[ord(i) - ord('A')] for i in AB]\n",
    "\n",
    "for i in range(N+M-2):\n",
    "    for j in range(N+M-1-i):\n",
    "        lst[j] += lst[j+1]\n",
    "        # lst[j] %= 10\n",
    "        # 어차피 계속 더해도 일의 자리 숫자에는 지장이 없음\n",
    "        # 마지막 print()에서 처리해주면 됨\n",
    "print('{}%'.format(lst[0] % 10*10 + lst[1]%10))\n",
    "\n",
    "# 시간복잡도 = O(N^2)"
   ]
  },
  {
   "cell_type": "markdown",
   "id": "6a13d589",
   "metadata": {},
   "source": [
    "## 보너스 점수 17389번"
   ]
  },
  {
   "cell_type": "code",
   "execution_count": 104,
   "id": "af631261",
   "metadata": {},
   "outputs": [
    {
     "name": "stdout",
     "output_type": "stream",
     "text": [
      "8\n",
      "XOOOXOOX\n",
      "26\n"
     ]
    }
   ],
   "source": [
    "N = int(input())\n",
    "S = str(input())\n",
    "score, B = 0, 0\n",
    "for i in range(N):\n",
    "    if S[i] == 'O':\n",
    "        score += (i+1) + B\n",
    "        B += 1\n",
    "    else:\n",
    "        B = 0\n",
    "print(score)\n",
    "# 시간복잡도 = O(N)"
   ]
  },
  {
   "cell_type": "markdown",
   "id": "ee13a0c9",
   "metadata": {},
   "source": [
    "# 03.매개변수의 이해와 구조화"
   ]
  },
  {
   "cell_type": "markdown",
   "id": "2105c881",
   "metadata": {},
   "source": [
    "## 함수"
   ]
  },
  {
   "cell_type": "code",
   "execution_count": null,
   "id": "be2184e1",
   "metadata": {},
   "outputs": [],
   "source": [
    "# 함수의 이름과 역할\n",
    "\n",
    "# 문법에 틀리지 않은 표현이라면 OK\n",
    "# 단, 함수가 많아지거나 코드가 길어질 것 같으면 함수명 확실하게\n",
    "\n",
    "# 스네이크 표기법(연결부에 _ 모든 문자는 소문자)\n",
    "def money_sum(N, money_arr): \n",
    "\n",
    "# 카넬 표기법(연결부의 문자를 대문자로)\n",
    "def moneySum(N, moneyArr):\n",
    "\n",
    "# 파스칼표기법(모든문자의 첫글자를 대문자로)\n",
    "def MoneySum(N, MoneyArr):\n",
    "\n",
    "# 함수의 개수\n",
    "# 가장 좋은 것은 기능별로 나누는 것!\n",
    "\n",
    "init()\n",
    "process()\n",
    "output()\n",
    "\n",
    "# 스타일을 통일 시키는 것이 일관된 코드를 만든다\n",
    "\n",
    "# 함수 사용시, 반환 값을 미리 지정해주는 것이 좋음\n",
    "def moneySum(N, moneyArr):\n",
    "    ret = 0\n",
    "    # 내부 코드\n",
    "    return ret\n",
    "\n",
    "# 함수의 매개변수 -> 복잡한 내용은 주석 활용!\n",
    "# moneySum : 돈의 합을 출력\n",
    "# N : 사람수, moneyArr : 사람의 돈\n",
    "def moneySum(N, moneyArr):\n",
    "    ret = 0\n",
    "    for i in range(N): # N을 매개변수로 지정하지 않아도되지만,\n",
    "                       # 가독성 및 편하게 하려고 넘겨줌\n",
    "        ret += moneyArr[i]\n",
    "    return ret"
   ]
  },
  {
   "cell_type": "code",
   "execution_count": null,
   "id": "af6264fb",
   "metadata": {},
   "outputs": [],
   "source": [
    "# container의 역할\n",
    "# 함수와 마찬가지로 적절한 명명 필요!\n",
    "\n",
    "(x, y) = p # x좌표, y좌표\n",
    "set() # 중복이름제거\n",
    "A = [0 for i in range(100)] #A[i] = i번째 소녀의 키\n",
    "# dp[i][j] : i번째 사람이 j개를 먹는 가짓수\n",
    "\n",
    "\n",
    "# container의 분할\n",
    "A = [[0 for i in range(2)] for j in range(100)] # 100x2 배열\n",
    "# 1번째 값은 순서, 2번째 값은 값\n",
    "\n",
    "A[1000], V[1000]\n",
    "# 위에 것을 두개로 나누면, 코드 길이는 길어지지만,\n",
    "# 가독성을 높일 수 있음!"
   ]
  },
  {
   "cell_type": "markdown",
   "id": "dc822015",
   "metadata": {},
   "source": [
    "## 수 찾기 1920번"
   ]
  },
  {
   "cell_type": "code",
   "execution_count": 107,
   "id": "11eab761",
   "metadata": {},
   "outputs": [
    {
     "name": "stdout",
     "output_type": "stream",
     "text": [
      "5\n",
      "4 1 5 2 3\n",
      "5\n",
      "1 3 7 9 5\n",
      "1\n",
      "1\n",
      "0\n",
      "0\n",
      "1\n"
     ]
    }
   ],
   "source": [
    "N, Num1 = int(input()), set(map(int, input().split()))\n",
    "M, Num2 = int(input()), list(map(int, input().split()))\n",
    "\n",
    "for i in Num2:\n",
    "    if i in Num1:\n",
    "        print('1')\n",
    "    else:\n",
    "        print('0')"
   ]
  },
  {
   "cell_type": "code",
   "execution_count": 108,
   "id": "74f93bc9",
   "metadata": {},
   "outputs": [
    {
     "name": "stdout",
     "output_type": "stream",
     "text": [
      "5\n",
      "4 1 5 2 3\n",
      "5\n",
      "1 3 7 9 5\n",
      "1\n",
      "1\n",
      "0\n",
      "0\n",
      "1\n"
     ]
    }
   ],
   "source": [
    "# 미리 딕셔너리 value값에 1을 넣어서 1을 출력하도록\n",
    "N, A = int(input()), {i: 1 for i in map(int, input().split())}\n",
    "M = input()\n",
    "\n",
    "for i in list(map(int, input().split())):\n",
    "    print(A.get(i, 0))\n",
    "# A.get(key) = values 반환, A.get(key, 0) = 없을 경우 0 반환"
   ]
  },
  {
   "cell_type": "markdown",
   "id": "76d1a657",
   "metadata": {},
   "source": [
    "## 걸그룹 마스터 준석이 16165번"
   ]
  },
  {
   "cell_type": "code",
   "execution_count": 117,
   "id": "5d6122bb",
   "metadata": {},
   "outputs": [
    {
     "ename": "SyntaxError",
     "evalue": "invalid syntax (Temp/ipykernel_2624/2997700628.py, line 18)",
     "output_type": "error",
     "traceback": [
      "\u001b[1;36m  File \u001b[1;32m\"C:\\Users\\admin\\AppData\\Local\\Temp/ipykernel_2624/2997700628.py\"\u001b[1;36m, line \u001b[1;32m18\u001b[0m\n\u001b[1;33m    for j in girlGroupDict[name]\u001b[0m\n\u001b[1;37m                                ^\u001b[0m\n\u001b[1;31mSyntaxError\u001b[0m\u001b[1;31m:\u001b[0m invalid syntax\n"
     ]
    }
   ],
   "source": [
    "# N : 걸그룹 수,  M : 문제 수\n",
    "N, M = map(int, input().split())\n",
    "\n",
    "def makeGirlGroupList(N):\n",
    "    girlGroup = {}\n",
    "    for _ in range(N):\n",
    "        group = str(input())\n",
    "        for _ in range(int(input())):\n",
    "            girl = str(input())\n",
    "            girlGroup[group] = []\n",
    "            girlGroup[group].append(girl)\n",
    "    return girlGroup\n",
    "\n",
    "def solveProblem(M, girlGroupDict):\n",
    "    for i in range(M):\n",
    "        name, problem = str(input()), int(input())\n",
    "        if problem == 0:\n",
    "            for j in sorted(girlGroupDict[name]):\n",
    "                print(j)\n",
    "        else:\n",
    "            for key in girlGroupDict:\n",
    "                if name in girlGroupDict[key]:\n",
    "                    print(key)\n",
    "girlGroup = makeGirlGroupList(N)\n",
    "solveProblem(M, girlGroup)"
   ]
  },
  {
   "cell_type": "code",
   "execution_count": 128,
   "id": "36faf74e",
   "metadata": {},
   "outputs": [
    {
     "name": "stdout",
     "output_type": "stream",
     "text": [
      "{'name': 'gay', 'phone': '0119993323', 'birth': '1118'}\n"
     ]
    }
   ],
   "source": [
    "girl = [('name','pey'), ('name', 'gay'), ('phone', '0119993323'), ('birth', '1118')]\n",
    "girldict = dict(girl)\n",
    "print(girldict)\n",
    "\n",
    "# 위처럼 딕셔너리 하나로 진행할 시,\n",
    "# 딕셔너리 value값이 나중에 추가한 값만 반영되어\n",
    "# 답 출력할 수 없음!!\n",
    "# 하나씩 value 값에 append해줘야 함"
   ]
  },
  {
   "cell_type": "code",
   "execution_count": null,
   "id": "d6754f61",
   "metadata": {},
   "outputs": [],
   "source": [
    "# 딕셔너리를 두 개 만들어서 문제 풀이\n",
    "N, M = map(int, input().split())\n",
    "team_mem, mem_team = {}, {}\n",
    "\n",
    "for i in range(N):\n",
    "    team_name, mem_num = input(), int(input())\n",
    "    team_mem[team_name] = []\n",
    "    for j in range(mem_num):\n",
    "        name = input()\n",
    "        team_mem[team_name].append(name)\n",
    "        mem_team[name] = team_name\n",
    "\n",
    "for i in range(M):\n",
    "    name, q = input(), int(input())\n",
    "    if q:\n",
    "        print(mem_team[name])\n",
    "    else:\n",
    "        for mem in sorted(team_mem[name]):\n",
    "            print(mem)"
   ]
  },
  {
   "cell_type": "markdown",
   "id": "efebbe65",
   "metadata": {},
   "source": [
    "## APC는 왜 서브태스크 대회가 되었을까? 17224번"
   ]
  },
  {
   "cell_type": "code",
   "execution_count": 140,
   "id": "1885395f",
   "metadata": {},
   "outputs": [
    {
     "name": "stdout",
     "output_type": "stream",
     "text": [
      "8 7 5\n",
      "1 3\n",
      "2 5\n",
      "3 5\n",
      "4 8\n",
      "5 8\n",
      "6 9\n",
      "6 7\n",
      "7 10\n",
      "660\n"
     ]
    }
   ],
   "source": [
    "# N : 문제의 개수\n",
    "# L : 현정이의 역량\n",
    "# K : 현정이가 풀 수 있는 문제의 최대 개수\n",
    "# sub1 : 쉬운버전의 난이도, sub2 : 어려운 버전의 난이도\n",
    "N, L, K = map(int, input().split())\n",
    "easy, hard = 0, 0\n",
    "for i in range(N):\n",
    "    sub1, sub2 = map(int, input().split())\n",
    "    if L >= sub2:\n",
    "        hard += 1\n",
    "    elif L >= sub1 and L < sub2:\n",
    "        easy += 1\n",
    "    \n",
    "score = min(hard, K) * 140\n",
    "if hard < K:\n",
    "    score += min(K-hard, easy) * 100\n",
    "print(score)"
   ]
  },
  {
   "cell_type": "markdown",
   "id": "6f0ef71c",
   "metadata": {},
   "source": [
    "## The candy war 9037번"
   ]
  },
  {
   "cell_type": "code",
   "execution_count": 175,
   "id": "548a2cab",
   "metadata": {},
   "outputs": [
    {
     "name": "stdout",
     "output_type": "stream",
     "text": [
      "4\n",
      "5\n",
      "2 4 7 8 9\n",
      "6\n",
      "1\n",
      "9\n",
      "0\n",
      "6\n",
      "10 5 13 2 7 8\n",
      "4\n",
      "4\n",
      "3 4 4 3\n",
      "0\n"
     ]
    }
   ],
   "source": [
    "T = int(input()) # Test Case\n",
    "for _ in range(T):\n",
    "    N = int(input()) # Child Number\n",
    "    C = list(map(int, input().split())) # Candy Number\n",
    "    for i in range(N):\n",
    "        if C[i] % 2 == 1:\n",
    "            C[i] += 1   \n",
    "    count = 0\n",
    "    while len(set(C)) != 1: \n",
    "        sumList = []\n",
    "        sumList.append(C[-1]//2)\n",
    "        for i in range(N-1): # 1순환       \n",
    "            sumList.append(C[i] // 2)\n",
    "        for k in range(N):\n",
    "            C[k] = C[k] //2\n",
    "        count += 1\n",
    "        Circle = [x+y for x,y in zip(sumList, C)]\n",
    "        for j in range(N):\n",
    "            if Circle[j] % 2 == 1:\n",
    "                Circle[j] += 1\n",
    "        C = Circle\n",
    "\n",
    "    print(count)"
   ]
  },
  {
   "cell_type": "code",
   "execution_count": 178,
   "id": "e297be58",
   "metadata": {},
   "outputs": [
    {
     "name": "stdout",
     "output_type": "stream",
     "text": [
      "4\n",
      "5\n",
      "2 4 7 8 9\n",
      "6\n",
      "1\n",
      "9\n",
      "0\n",
      "6\n",
      "10 5 13 2 7 8\n",
      "3\n",
      "4\n",
      "3 4 4 3\n",
      "0\n"
     ]
    }
   ],
   "source": [
    "# 지금 뭔가 오류가 있음! 3번째 case 정답 오류\n",
    "\n",
    "def process():\n",
    "    N, candy = int(input()), list(map(int, input().split()))\n",
    "    count = 0\n",
    "    while not check(N, candy):\n",
    "        count += 1\n",
    "        candy = teacher(N, candy)\n",
    "    print(count)\n",
    "    \n",
    "def check(N, candy):\n",
    "    for i in range(N):\n",
    "        if candy[i] % 2 == 1:\n",
    "            candy[i] += 1\n",
    "    return len(set(candy)) == 1\n",
    "\n",
    "def teacher(N, candy):\n",
    "    tmp_lst = [0 for i in range(N)]\n",
    "    for idx in range(N):\n",
    "        if candy[idx] % 2: # cd % 2 == 1:\n",
    "            candy[idx] += 1\n",
    "        candy[idx] //= 2\n",
    "        tmp_lst[(idx+1) % N] = candy[idx] // 2 # 마지막 값을 첫번째 값에 넣을 때, 이런 식으로 활용할 수 있음!\n",
    "    for idx in range(N):\n",
    "        candy[idx] += tmp_lst[idx]\n",
    "    return candy\n",
    "\n",
    "for i in range(int(input())):\n",
    "    process()"
   ]
  },
  {
   "cell_type": "code",
   "execution_count": null,
   "id": "79532c00",
   "metadata": {},
   "outputs": [],
   "source": []
  }
 ],
 "metadata": {
  "kernelspec": {
   "display_name": "Python 3 (ipykernel)",
   "language": "python",
   "name": "python3"
  },
  "language_info": {
   "codemirror_mode": {
    "name": "ipython",
    "version": 3
   },
   "file_extension": ".py",
   "mimetype": "text/x-python",
   "name": "python",
   "nbconvert_exporter": "python",
   "pygments_lexer": "ipython3",
   "version": "3.8.12"
  }
 },
 "nbformat": 4,
 "nbformat_minor": 5
}
