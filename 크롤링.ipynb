{
 "cells": [
  {
   "cell_type": "code",
   "execution_count": 52,
   "id": "d5fcab17",
   "metadata": {},
   "outputs": [],
   "source": [
    "import requests\n",
    "from bs4 import BeautifulSoup\n",
    "import pandas as pd\n",
    "\n",
    "url = 'https://comic.naver.com/webtoon/genre'\n",
    "\n",
    "web = requests.get(url)\n",
    "soup = BeautifulSoup(web.content, 'html.parser')\n",
    "\n",
    "name = soup.select('dl > dt > a')\n",
    "\n",
    "result = []\n",
    "for i in range(180):\n",
    "    result.append(name[i].attrs['title'])\n",
    "    \n",
    "webtoon_list = pd.DataFrame(result)\n",
    "webtoon_list.to_csv('data/webtoon_list.txt')"
   ]
  },
  {
   "cell_type": "markdown",
   "id": "30503359",
   "metadata": {},
   "source": [
    "soup = BeautifulSoup(html, 'lxml')\n",
    "data1 = soup.find('div', {'class':list_area})\n",
    "data2 = data1.find_all\n",
    "for temp in data2:\n",
    "    print(temp.find('a.attrs['title']')"
   ]
  }
 ],
 "metadata": {
  "kernelspec": {
   "display_name": "Python 3",
   "language": "python",
   "name": "python3"
  },
  "language_info": {
   "codemirror_mode": {
    "name": "ipython",
    "version": 3
   },
   "file_extension": ".py",
   "mimetype": "text/x-python",
   "name": "python",
   "nbconvert_exporter": "python",
   "pygments_lexer": "ipython3",
   "version": "3.8.8"
  }
 },
 "nbformat": 4,
 "nbformat_minor": 5
}
