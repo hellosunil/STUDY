{
 "cells": [
  {
   "cell_type": "code",
   "execution_count": 1,
   "id": "928b84b4",
   "metadata": {},
   "outputs": [],
   "source": [
    "import matplotlib\n",
    "import matplotlib.pyplot as plt\n",
    "import numpy as np\n",
    "import pandas as pd"
   ]
  },
  {
   "cell_type": "markdown",
   "id": "6c68f7b3",
   "metadata": {},
   "source": [
    "## 4월 6일 코로나 발생 건수 꺽은 선 그래프"
   ]
  },
  {
   "cell_type": "code",
   "execution_count": 17,
   "id": "dbd8b77b",
   "metadata": {},
   "outputs": [],
   "source": [
    "plt.rc('font', family='Malgun Gothic')\n",
    "cnt, PNG, UNDERBAR = 0, '.png', '_'\n",
    "# cnt 이미지 파일 생성시 일련번호\n",
    "# PNG 확장자 명, UNDERBAR는 파일 이름 중간에 붙이는 언더바\n",
    "CHART_NAME = 'brokenLineExam'\n",
    "filename = 'data/data/주요발생국가주간동향(4월2째주).csv'"
   ]
  },
  {
   "cell_type": "code",
   "execution_count": 5,
   "id": "308b6855",
   "metadata": {},
   "outputs": [
    {
     "name": "stdout",
     "output_type": "stream",
     "text": [
      "Index(['4월06일', '4월07일', '4월08일', '4월09일', '4월10일', '4월11일', '4월12일'], dtype='object')\n"
     ]
    }
   ],
   "source": [
    "data = pd.read_csv(filename, index_col='국가')\n",
    "# index_col = 인덱스 열로 바꿀 열 설정\n",
    "print(data.columns)"
   ]
  },
  {
   "cell_type": "code",
   "execution_count": 6,
   "id": "afe1074b",
   "metadata": {
    "scrolled": false
   },
   "outputs": [
    {
     "data": {
      "text/html": [
       "<div>\n",
       "<style scoped>\n",
       "    .dataframe tbody tr th:only-of-type {\n",
       "        vertical-align: middle;\n",
       "    }\n",
       "\n",
       "    .dataframe tbody tr th {\n",
       "        vertical-align: top;\n",
       "    }\n",
       "\n",
       "    .dataframe thead th {\n",
       "        text-align: right;\n",
       "    }\n",
       "</style>\n",
       "<table border=\"1\" class=\"dataframe\">\n",
       "  <thead>\n",
       "    <tr style=\"text-align: right;\">\n",
       "      <th></th>\n",
       "      <th>4월06일</th>\n",
       "      <th>4월07일</th>\n",
       "      <th>4월08일</th>\n",
       "      <th>4월09일</th>\n",
       "      <th>4월10일</th>\n",
       "      <th>4월11일</th>\n",
       "      <th>4월12일</th>\n",
       "    </tr>\n",
       "    <tr>\n",
       "      <th>국가</th>\n",
       "      <th></th>\n",
       "      <th></th>\n",
       "      <th></th>\n",
       "      <th></th>\n",
       "      <th></th>\n",
       "      <th></th>\n",
       "      <th></th>\n",
       "    </tr>\n",
       "  </thead>\n",
       "  <tbody>\n",
       "    <tr>\n",
       "      <th>미국</th>\n",
       "      <td>335524</td>\n",
       "      <td>364723</td>\n",
       "      <td>387547</td>\n",
       "      <td>424945</td>\n",
       "      <td>461437</td>\n",
       "      <td>495535</td>\n",
       "      <td>524903</td>\n",
       "    </tr>\n",
       "    <tr>\n",
       "      <th>스페인</th>\n",
       "      <td>130709</td>\n",
       "      <td>135032</td>\n",
       "      <td>140510</td>\n",
       "      <td>146690</td>\n",
       "      <td>152446</td>\n",
       "      <td>157022</td>\n",
       "      <td>161852</td>\n",
       "    </tr>\n",
       "    <tr>\n",
       "      <th>이탈리아</th>\n",
       "      <td>128948</td>\n",
       "      <td>132547</td>\n",
       "      <td>135586</td>\n",
       "      <td>139422</td>\n",
       "      <td>143626</td>\n",
       "      <td>147577</td>\n",
       "      <td>152271</td>\n",
       "    </tr>\n",
       "    <tr>\n",
       "      <th>독일</th>\n",
       "      <td>100024</td>\n",
       "      <td>102453</td>\n",
       "      <td>107591</td>\n",
       "      <td>112113</td>\n",
       "      <td>118181</td>\n",
       "      <td>122171</td>\n",
       "      <td>124908</td>\n",
       "    </tr>\n",
       "    <tr>\n",
       "      <th>프랑스</th>\n",
       "      <td>70478</td>\n",
       "      <td>74390</td>\n",
       "      <td>78167</td>\n",
       "      <td>82048</td>\n",
       "      <td>86334</td>\n",
       "      <td>90276</td>\n",
       "      <td>93790</td>\n",
       "    </tr>\n",
       "    <tr>\n",
       "      <th>중국</th>\n",
       "      <td>81708</td>\n",
       "      <td>81740</td>\n",
       "      <td>81802</td>\n",
       "      <td>81865</td>\n",
       "      <td>81907</td>\n",
       "      <td>81953</td>\n",
       "      <td>82052</td>\n",
       "    </tr>\n",
       "    <tr>\n",
       "      <th>영국</th>\n",
       "      <td>47806</td>\n",
       "      <td>51608</td>\n",
       "      <td>55242</td>\n",
       "      <td>60733</td>\n",
       "      <td>65077</td>\n",
       "      <td>73758</td>\n",
       "      <td>78991</td>\n",
       "    </tr>\n",
       "    <tr>\n",
       "      <th>이란</th>\n",
       "      <td>58226</td>\n",
       "      <td>60500</td>\n",
       "      <td>62589</td>\n",
       "      <td>64586</td>\n",
       "      <td>66220</td>\n",
       "      <td>68192</td>\n",
       "      <td>70029</td>\n",
       "    </tr>\n",
       "    <tr>\n",
       "      <th>스위스</th>\n",
       "      <td>21104</td>\n",
       "      <td>21652</td>\n",
       "      <td>22241</td>\n",
       "      <td>22789</td>\n",
       "      <td>23574</td>\n",
       "      <td>24308</td>\n",
       "      <td>24900</td>\n",
       "    </tr>\n",
       "    <tr>\n",
       "      <th>한국</th>\n",
       "      <td>10284</td>\n",
       "      <td>10331</td>\n",
       "      <td>10384</td>\n",
       "      <td>10423</td>\n",
       "      <td>10450</td>\n",
       "      <td>10480</td>\n",
       "      <td>10512</td>\n",
       "    </tr>\n",
       "  </tbody>\n",
       "</table>\n",
       "</div>"
      ],
      "text/plain": [
       "       4월06일   4월07일   4월08일   4월09일   4월10일   4월11일   4월12일\n",
       "국가                                                          \n",
       "미국    335524  364723  387547  424945  461437  495535  524903\n",
       "스페인   130709  135032  140510  146690  152446  157022  161852\n",
       "이탈리아  128948  132547  135586  139422  143626  147577  152271\n",
       "독일    100024  102453  107591  112113  118181  122171  124908\n",
       "프랑스    70478   74390   78167   82048   86334   90276   93790\n",
       "중국     81708   81740   81802   81865   81907   81953   82052\n",
       "영국     47806   51608   55242   60733   65077   73758   78991\n",
       "이란     58226   60500   62589   64586   66220   68192   70029\n",
       "스위스    21104   21652   22241   22789   23574   24308   24900\n",
       "한국     10284   10331   10384   10423   10450   10480   10512"
      ]
     },
     "execution_count": 6,
     "metadata": {},
     "output_type": "execute_result"
    }
   ],
   "source": [
    "data"
   ]
  },
  {
   "cell_type": "code",
   "execution_count": 8,
   "id": "d40e8d19",
   "metadata": {},
   "outputs": [
    {
     "name": "stdout",
     "output_type": "stream",
     "text": [
      "국가\n",
      "미국      335524\n",
      "스페인     130709\n",
      "이탈리아    128948\n",
      "독일      100024\n",
      "프랑스      70478\n",
      "중국       81708\n",
      "영국       47806\n",
      "이란       58226\n",
      "스위스      21104\n",
      "한국       10284\n",
      "Name: 4월06일, dtype: int64\n"
     ]
    }
   ],
   "source": [
    "chartdata = data['4월06일']\n",
    "print(chartdata)"
   ]
  },
  {
   "cell_type": "code",
   "execution_count": 9,
   "id": "c54c3ed9",
   "metadata": {
    "scrolled": true
   },
   "outputs": [
    {
     "data": {
      "text/plain": [
       "[<matplotlib.lines.Line2D at 0x1f6598ad8e0>]"
      ]
     },
     "execution_count": 9,
     "metadata": {},
     "output_type": "execute_result"
    },
    {
     "data": {
      "image/png": "[encoded data removed]",
      "text/plain": [
       "<Figure size 432x288 with 1 Axes>"
      ]
     },
     "metadata": {
      "needs_background": "light"
     },
     "output_type": "display_data"
    }
   ],
   "source": [
    "plt.plot(chartdata, color='blue', linestyle='solid', marker='o')"
   ]
  },
  {
   "cell_type": "code",
   "execution_count": 14,
   "id": "45bda04a",
   "metadata": {
    "scrolled": true
   },
   "outputs": [
    {
     "data": {
      "text/plain": [
       "([<matplotlib.axis.YTick at 0x1f65a025820>,\n",
       "  <matplotlib.axis.YTick at 0x1f65a025400>,\n",
       "  <matplotlib.axis.YTick at 0x1f65a022250>,\n",
       "  <matplotlib.axis.YTick at 0x1f65a047790>,\n",
       "  <matplotlib.axis.YTick at 0x1f65a047ca0>,\n",
       "  <matplotlib.axis.YTick at 0x1f65a04e1f0>,\n",
       "  <matplotlib.axis.YTick at 0x1f65a04e700>,\n",
       "  <matplotlib.axis.YTick at 0x1f65a04ec10>,\n",
       "  <matplotlib.axis.YTick at 0x1f65a055160>,\n",
       "  <matplotlib.axis.YTick at 0x1f65a055670>],\n",
       " [Text(0, 0, '0'),\n",
       "  Text(0, 40000, '40,000'),\n",
       "  Text(0, 80000, '80,000'),\n",
       "  Text(0, 120000, '120,000'),\n",
       "  Text(0, 160000, '160,000'),\n",
       "  Text(0, 200000, '200,000'),\n",
       "  Text(0, 240000, '240,000'),\n",
       "  Text(0, 280000, '280,000'),\n",
       "  Text(0, 320000, '320,000'),\n",
       "  Text(0, 360000, '360,000')])"
      ]
     },
     "execution_count": 14,
     "metadata": {},
     "output_type": "execute_result"
    },
    {
     "data": {
      "image/png": "[encoded data removed]",
      "text/plain": [
       "<Figure size 432x288 with 1 Axes>"
      ]
     },
     "metadata": {
      "needs_background": "light"
     },
     "output_type": "display_data"
    }
   ],
   "source": [
    "# 눈금에 그려질 간격\n",
    "YTICKS_INTERVAL = 40000\n",
    "# 최대 눈금의 값\n",
    "maxlim = (int(chartdata.max() / YTICKS_INTERVAL) + 1) * YTICKS_INTERVAL\n",
    "\n",
    "values = np.arange(0, maxlim + 1, YTICKS_INTERVAL)\n",
    "plt.yticks(values, ['%s' %format(val, ',') for val in values])"
   ]
  },
  {
   "cell_type": "code",
   "execution_count": 17,
   "id": "cb639587",
   "metadata": {},
   "outputs": [
    {
     "name": "stdout",
     "output_type": "stream",
     "text": [
      "brokenLineExam_02.png파일이 저장되었습니다.\n"
     ]
    },
    {
     "data": {
      "image/png": "[encoded data removed]",
      "text/plain": [
       "<Figure size 432x288 with 1 Axes>"
      ]
     },
     "metadata": {
      "needs_background": "light"
     },
     "output_type": "display_data"
    }
   ],
   "source": [
    "# 차트에 눈금과 레이블 지정하기\n",
    "\n",
    "plt.grid(True)\n",
    "plt.xlabel('국가명')\n",
    "plt.ylabel('발생건수')\n",
    "plt.title('4월 6일 코로나 발생 건수')\n",
    "plt.plot(chartdata, color='blue', linestyle='solid', marker='o')\n",
    "cnt += 1\n",
    "savefile = CHART_NAME + UNDERBAR + str(cnt).zfill(2) + PNG\n",
    "plt.savefig(savefile, dpi=400)\n",
    "print(savefile + '파일이 저장되었습니다.')"
   ]
  },
  {
   "cell_type": "markdown",
   "id": "1204a63d",
   "metadata": {},
   "source": [
    "## 특정 국가의 특정 일자에 대한 꺽은 선 그래프"
   ]
  },
  {
   "cell_type": "code",
   "execution_count": 19,
   "id": "747b56ea",
   "metadata": {},
   "outputs": [
    {
     "name": "stdout",
     "output_type": "stream",
     "text": [
      "국가        스페인    프랑스      독일     중국     영국     이란\n",
      "4월06일  130709  70478  100024  81708  47806  58226\n",
      "4월07일  135032  74390  102453  81740  51608  60500\n",
      "4월08일  140510  78167  107591  81802  55242  62589\n",
      "4월09일  146690  82048  112113  81865  60733  64586\n",
      "4월10일  152446  86334  118181  81907  65077  66220\n"
     ]
    }
   ],
   "source": [
    "COUNTRY = ['스페인', '프랑스', '독일', '중국', '영국', '이란']\n",
    "WHEN = ['4월06일', '4월07일', '4월08일', '4월09일', '4월10일']\n",
    "chartdata = data.loc[COUNTRY, WHEN]\n",
    "print(chartdata.T)\n",
    "# data.T ==> 전치, 행과 열을 바꾸기"
   ]
  },
  {
   "cell_type": "code",
   "execution_count": 22,
   "id": "a26ec865",
   "metadata": {},
   "outputs": [
    {
     "data": {
      "text/plain": [
       "Text(0.5, 1.0, '일자별 국가명 꺽은 선')"
      ]
     },
     "execution_count": 22,
     "metadata": {},
     "output_type": "execute_result"
    },
    {
     "data": {
      "image/png": "[encoded data removed]",
      "text/plain": [
       "<Figure size 720x432 with 1 Axes>"
      ]
     },
     "metadata": {
      "needs_background": "light"
     },
     "output_type": "display_data"
    }
   ],
   "source": [
    "chartdata.T.plot(title='SomeTitle', figsize=(10, 6),\n",
    "               legend=True, marker='o', rot = 0)\n",
    "# rot ==> 문자 회전(0 ~ 360)\n",
    "\n",
    "plt.grid(True)\n",
    "plt.xlabel('일자')\n",
    "plt.ylabel('국가명')\n",
    "plt.title('일자별 국가명 꺽은 선')\n",
    "\n",
    "cnt += 1\n",
    "savefile = CHART_NAME + UNDERBAR + str(cnt).zfill(2) + PNG\n",
    "plt.savefig(savefile, dpi=400)\n",
    "print(savefile+'파일이 저장되었습니다.')"
   ]
  },
  {
   "cell_type": "markdown",
   "id": "cd9ecb19",
   "metadata": {},
   "source": [
    "## 이중 축 꺽은 선 그래프"
   ]
  },
  {
   "cell_type": "code",
   "execution_count": 26,
   "id": "d748430a",
   "metadata": {},
   "outputs": [],
   "source": [
    "myframe = pd.read_csv('data/data/tips.csv')"
   ]
  },
  {
   "cell_type": "code",
   "execution_count": 27,
   "id": "217b26ba",
   "metadata": {},
   "outputs": [
    {
     "name": "stdout",
     "output_type": "stream",
     "text": [
      "<class 'pandas.core.frame.DataFrame'>\n",
      "RangeIndex: 100 entries, 0 to 99\n",
      "Data columns (total 8 columns):\n",
      " #   Column      Non-Null Count  Dtype  \n",
      "---  ------      --------------  -----  \n",
      " 0   Unnamed: 0  100 non-null    int64  \n",
      " 1   total_bill  100 non-null    float64\n",
      " 2   tip         100 non-null    float64\n",
      " 3   sex         100 non-null    object \n",
      " 4   smoker      100 non-null    object \n",
      " 5   day         100 non-null    object \n",
      " 6   time        100 non-null    object \n",
      " 7   size        100 non-null    int64  \n",
      "dtypes: float64(2), int64(2), object(4)\n",
      "memory usage: 6.4+ KB\n"
     ]
    }
   ],
   "source": [
    "myframe = myframe.head(100)\n",
    "myframe.info()"
   ]
  },
  {
   "cell_type": "code",
   "execution_count": 28,
   "id": "f99de2ad",
   "metadata": {},
   "outputs": [
    {
     "data": {
      "text/html": [
       "<div>\n",
       "<style scoped>\n",
       "    .dataframe tbody tr th:only-of-type {\n",
       "        vertical-align: middle;\n",
       "    }\n",
       "\n",
       "    .dataframe tbody tr th {\n",
       "        vertical-align: top;\n",
       "    }\n",
       "\n",
       "    .dataframe thead th {\n",
       "        text-align: right;\n",
       "    }\n",
       "</style>\n",
       "<table border=\"1\" class=\"dataframe\">\n",
       "  <thead>\n",
       "    <tr style=\"text-align: right;\">\n",
       "      <th></th>\n",
       "      <th>Unnamed: 0</th>\n",
       "      <th>total_bill</th>\n",
       "      <th>tip</th>\n",
       "      <th>size</th>\n",
       "    </tr>\n",
       "  </thead>\n",
       "  <tbody>\n",
       "    <tr>\n",
       "      <th>count</th>\n",
       "      <td>100.000000</td>\n",
       "      <td>100.000000</td>\n",
       "      <td>100.000000</td>\n",
       "      <td>100.000000</td>\n",
       "    </tr>\n",
       "    <tr>\n",
       "      <th>mean</th>\n",
       "      <td>49.500000</td>\n",
       "      <td>19.616700</td>\n",
       "      <td>3.059000</td>\n",
       "      <td>2.520000</td>\n",
       "    </tr>\n",
       "    <tr>\n",
       "      <th>std</th>\n",
       "      <td>29.011492</td>\n",
       "      <td>7.917297</td>\n",
       "      <td>1.287689</td>\n",
       "      <td>0.822413</td>\n",
       "    </tr>\n",
       "    <tr>\n",
       "      <th>min</th>\n",
       "      <td>0.000000</td>\n",
       "      <td>3.070000</td>\n",
       "      <td>1.000000</td>\n",
       "      <td>1.000000</td>\n",
       "    </tr>\n",
       "    <tr>\n",
       "      <th>25%</th>\n",
       "      <td>24.750000</td>\n",
       "      <td>14.817500</td>\n",
       "      <td>2.007500</td>\n",
       "      <td>2.000000</td>\n",
       "    </tr>\n",
       "    <tr>\n",
       "      <th>50%</th>\n",
       "      <td>49.500000</td>\n",
       "      <td>18.160000</td>\n",
       "      <td>3.000000</td>\n",
       "      <td>2.000000</td>\n",
       "    </tr>\n",
       "    <tr>\n",
       "      <th>75%</th>\n",
       "      <td>74.250000</td>\n",
       "      <td>22.990000</td>\n",
       "      <td>3.602500</td>\n",
       "      <td>3.000000</td>\n",
       "    </tr>\n",
       "    <tr>\n",
       "      <th>max</th>\n",
       "      <td>99.000000</td>\n",
       "      <td>48.270000</td>\n",
       "      <td>7.580000</td>\n",
       "      <td>4.000000</td>\n",
       "    </tr>\n",
       "  </tbody>\n",
       "</table>\n",
       "</div>"
      ],
      "text/plain": [
       "       Unnamed: 0  total_bill         tip        size\n",
       "count  100.000000  100.000000  100.000000  100.000000\n",
       "mean    49.500000   19.616700    3.059000    2.520000\n",
       "std     29.011492    7.917297    1.287689    0.822413\n",
       "min      0.000000    3.070000    1.000000    1.000000\n",
       "25%     24.750000   14.817500    2.007500    2.000000\n",
       "50%     49.500000   18.160000    3.000000    2.000000\n",
       "75%     74.250000   22.990000    3.602500    3.000000\n",
       "max     99.000000   48.270000    7.580000    4.000000"
      ]
     },
     "execution_count": 28,
     "metadata": {},
     "output_type": "execute_result"
    }
   ],
   "source": [
    "myframe.describe()"
   ]
  },
  {
   "cell_type": "code",
   "execution_count": 29,
   "id": "0551af60",
   "metadata": {},
   "outputs": [],
   "source": [
    "xrange = range(len(myframe))\n",
    "data_bill = myframe.loc[:, ['total_bill']]\n",
    "data_tip = myframe.loc[:, ['tip']]"
   ]
  },
  {
   "cell_type": "code",
   "execution_count": 36,
   "id": "d169bb9a",
   "metadata": {},
   "outputs": [
    {
     "data": {
      "image/png": "[encoded data removed]",
      "text/plain": [
       "<Figure size 432x288 with 2 Axes>"
      ]
     },
     "metadata": {
      "needs_background": "light"
     },
     "output_type": "display_data"
    }
   ],
   "source": [
    "fig, ax1 = plt.subplots()\n",
    "ax1.set_title('결재 금액과 Tip(이중 축)')\n",
    "\n",
    "color = 'tab:red'\n",
    "\n",
    "ax1.set_ylabel('결재금액', color=color)\n",
    "ax1.plot(xrange, data_bill, color=color)\n",
    "ax1.tick_params(axis='y', labelcolor=color) # y축 색상 정하기\n",
    "\n",
    "ax2 = ax1.twinx() #두번 째 y축\n",
    "\n",
    "color = 'tab:blue'\n",
    "ax2.set_ylabel('팁(Tip)', color = color)\n",
    "ax2.plot(xrange, data_tip, color = color)\n",
    "ax2.tick_params(axis='y', labelcolor=color)\n",
    "\n",
    "fig.tight_layout()\n",
    "\n",
    "plt.savefig('이중축그래프.png', dpi=500)"
   ]
  },
  {
   "cell_type": "markdown",
   "id": "ed6e90f5",
   "metadata": {},
   "source": [
    "## 산점도 그래프"
   ]
  },
  {
   "cell_type": "code",
   "execution_count": 38,
   "id": "4226d06b",
   "metadata": {},
   "outputs": [
    {
     "name": "stdout",
     "output_type": "stream",
     "text": [
      "['Solarize_Light2', '_classic_test_patch', 'bmh', 'classic', 'dark_background', 'fast', 'fivethirtyeight', 'ggplot', 'grayscale', 'seaborn', 'seaborn-bright', 'seaborn-colorblind', 'seaborn-dark', 'seaborn-dark-palette', 'seaborn-darkgrid', 'seaborn-deep', 'seaborn-muted', 'seaborn-notebook', 'seaborn-paper', 'seaborn-pastel', 'seaborn-poster', 'seaborn-talk', 'seaborn-ticks', 'seaborn-white', 'seaborn-whitegrid', 'tableau-colorblind10']\n"
     ]
    }
   ],
   "source": [
    "# matplotlib의 스타일 활용하기\n",
    "plt.style.use('ggplot')\n",
    "print(plt.style.available)"
   ]
  },
  {
   "cell_type": "code",
   "execution_count": 39,
   "id": "04b1aa51",
   "metadata": {},
   "outputs": [],
   "source": [
    "mpg = pd.read_csv('data/data/mpg.csv')"
   ]
  },
  {
   "cell_type": "code",
   "execution_count": 40,
   "id": "745b5184",
   "metadata": {},
   "outputs": [
    {
     "data": {
      "text/html": [
       "<div>\n",
       "<style scoped>\n",
       "    .dataframe tbody tr th:only-of-type {\n",
       "        vertical-align: middle;\n",
       "    }\n",
       "\n",
       "    .dataframe tbody tr th {\n",
       "        vertical-align: top;\n",
       "    }\n",
       "\n",
       "    .dataframe thead th {\n",
       "        text-align: right;\n",
       "    }\n",
       "</style>\n",
       "<table border=\"1\" class=\"dataframe\">\n",
       "  <thead>\n",
       "    <tr style=\"text-align: right;\">\n",
       "      <th></th>\n",
       "      <th>manufacturer</th>\n",
       "      <th>model</th>\n",
       "      <th>displ</th>\n",
       "      <th>year</th>\n",
       "      <th>cyl</th>\n",
       "      <th>trans</th>\n",
       "      <th>drv</th>\n",
       "      <th>cty</th>\n",
       "      <th>hwy</th>\n",
       "      <th>fl</th>\n",
       "      <th>class</th>\n",
       "    </tr>\n",
       "  </thead>\n",
       "  <tbody>\n",
       "    <tr>\n",
       "      <th>0</th>\n",
       "      <td>audi</td>\n",
       "      <td>a4</td>\n",
       "      <td>1.8</td>\n",
       "      <td>1999</td>\n",
       "      <td>4</td>\n",
       "      <td>auto(l5)</td>\n",
       "      <td>f</td>\n",
       "      <td>18</td>\n",
       "      <td>29</td>\n",
       "      <td>p</td>\n",
       "      <td>compact</td>\n",
       "    </tr>\n",
       "    <tr>\n",
       "      <th>1</th>\n",
       "      <td>audi</td>\n",
       "      <td>a4</td>\n",
       "      <td>1.8</td>\n",
       "      <td>1999</td>\n",
       "      <td>4</td>\n",
       "      <td>manual(m5)</td>\n",
       "      <td>f</td>\n",
       "      <td>21</td>\n",
       "      <td>29</td>\n",
       "      <td>p</td>\n",
       "      <td>compact</td>\n",
       "    </tr>\n",
       "    <tr>\n",
       "      <th>2</th>\n",
       "      <td>audi</td>\n",
       "      <td>a4</td>\n",
       "      <td>2.0</td>\n",
       "      <td>2008</td>\n",
       "      <td>4</td>\n",
       "      <td>manual(m6)</td>\n",
       "      <td>f</td>\n",
       "      <td>20</td>\n",
       "      <td>31</td>\n",
       "      <td>p</td>\n",
       "      <td>compact</td>\n",
       "    </tr>\n",
       "    <tr>\n",
       "      <th>3</th>\n",
       "      <td>audi</td>\n",
       "      <td>a4</td>\n",
       "      <td>2.0</td>\n",
       "      <td>2008</td>\n",
       "      <td>4</td>\n",
       "      <td>auto(av)</td>\n",
       "      <td>f</td>\n",
       "      <td>21</td>\n",
       "      <td>30</td>\n",
       "      <td>p</td>\n",
       "      <td>compact</td>\n",
       "    </tr>\n",
       "    <tr>\n",
       "      <th>4</th>\n",
       "      <td>audi</td>\n",
       "      <td>a4</td>\n",
       "      <td>2.8</td>\n",
       "      <td>1999</td>\n",
       "      <td>6</td>\n",
       "      <td>auto(l5)</td>\n",
       "      <td>f</td>\n",
       "      <td>16</td>\n",
       "      <td>26</td>\n",
       "      <td>p</td>\n",
       "      <td>compact</td>\n",
       "    </tr>\n",
       "  </tbody>\n",
       "</table>\n",
       "</div>"
      ],
      "text/plain": [
       "  manufacturer model  displ  year  cyl       trans drv  cty  hwy fl    class\n",
       "0         audi    a4    1.8  1999    4    auto(l5)   f   18   29  p  compact\n",
       "1         audi    a4    1.8  1999    4  manual(m5)   f   21   29  p  compact\n",
       "2         audi    a4    2.0  2008    4  manual(m6)   f   20   31  p  compact\n",
       "3         audi    a4    2.0  2008    4    auto(av)   f   21   30  p  compact\n",
       "4         audi    a4    2.8  1999    6    auto(l5)   f   16   26  p  compact"
      ]
     },
     "execution_count": 40,
     "metadata": {},
     "output_type": "execute_result"
    }
   ],
   "source": [
    "mpg.head()"
   ]
  },
  {
   "cell_type": "code",
   "execution_count": 41,
   "id": "666b24fa",
   "metadata": {},
   "outputs": [
    {
     "name": "stdout",
     "output_type": "stream",
     "text": [
      "<class 'pandas.core.frame.DataFrame'>\n",
      "RangeIndex: 234 entries, 0 to 233\n",
      "Data columns (total 11 columns):\n",
      " #   Column        Non-Null Count  Dtype  \n",
      "---  ------        --------------  -----  \n",
      " 0   manufacturer  234 non-null    object \n",
      " 1   model         234 non-null    object \n",
      " 2   displ         234 non-null    float64\n",
      " 3   year          234 non-null    int64  \n",
      " 4   cyl           234 non-null    int64  \n",
      " 5   trans         234 non-null    object \n",
      " 6   drv           234 non-null    object \n",
      " 7   cty           234 non-null    int64  \n",
      " 8   hwy           234 non-null    int64  \n",
      " 9   fl            234 non-null    object \n",
      " 10  class         234 non-null    object \n",
      "dtypes: float64(1), int64(4), object(6)\n",
      "memory usage: 20.2+ KB\n"
     ]
    }
   ],
   "source": [
    "mpg.info()"
   ]
  },
  {
   "cell_type": "code",
   "execution_count": 44,
   "id": "4c70de42",
   "metadata": {},
   "outputs": [
    {
     "data": {
      "text/plain": [
       "[<matplotlib.lines.Line2D at 0x1f65a72ccd0>]"
      ]
     },
     "execution_count": 44,
     "metadata": {},
     "output_type": "execute_result"
    },
    {
     "data": {
      "image/png": "[encoded data removed]",
      "text/plain": [
       "<Figure size 432x288 with 1 Axes>"
      ]
     },
     "metadata": {},
     "output_type": "display_data"
    }
   ],
   "source": [
    "plt.figure()\n",
    "plt.plot(mpg['displ'], mpg['hwy'], marker='o', linestyle='None')\n",
    "# linestyle을 None으로 주면 간단하게 산점도 그래프를 그릴 수 있음"
   ]
  },
  {
   "cell_type": "code",
   "execution_count": 47,
   "id": "798fe956",
   "metadata": {},
   "outputs": [
    {
     "name": "stderr",
     "output_type": "stream",
     "text": [
      "No handles with labels found to put in legend.\n"
     ]
    },
    {
     "data": {
      "text/plain": [
       "<matplotlib.legend.Legend at 0x1f65a37c310>"
      ]
     },
     "execution_count": 47,
     "metadata": {},
     "output_type": "execute_result"
    },
    {
     "data": {
      "image/png": "[encoded data removed]",
      "text/plain": [
       "<Figure size 432x288 with 1 Axes>"
      ]
     },
     "metadata": {},
     "output_type": "display_data"
    }
   ],
   "source": [
    "mycolors = ['r', 'g', 'b']\n",
    "label_dict = {'f' : '전륜 구동', '4' : '사륜 구동', 'r' : '후륜 구동'}\n",
    "\n",
    "idx = 0\n",
    "labels = mpg['drv'].unique()\n",
    "\n",
    "for finditem in labels:\n",
    "    xdata = mpg.loc[mpg['drv'] == finditem, 'displ']\n",
    "    ydata = mpg.loc[mpg['drv'] == finditem, 'hwy']\n",
    "    plt.plot(xdata, ydata, color=mycolors[idx], marker='o', linestyle='None')\n",
    "    label = label_dict[finditem]\n",
    "    idx += 1\n",
    "\n",
    "plt.xlabel('엔진 크기')\n",
    "plt.ylabel('주행 마일수')\n",
    "plt.title('산점도 그래프')\n",
    "plt.grid(True)\n",
    "plt.legend()"
   ]
  },
  {
   "cell_type": "markdown",
   "id": "fcef534b",
   "metadata": {},
   "source": [
    "## 색다른 산점도 그래프"
   ]
  },
  {
   "cell_type": "code",
   "execution_count": 48,
   "id": "ed57112b",
   "metadata": {},
   "outputs": [],
   "source": [
    "diamonds = pd.read_csv('data/data/diamonds.csv')"
   ]
  },
  {
   "cell_type": "code",
   "execution_count": 49,
   "id": "9fa12cb6",
   "metadata": {},
   "outputs": [],
   "source": [
    "diamonds = diamonds.sample(frac=0.005)"
   ]
  },
  {
   "cell_type": "code",
   "execution_count": 50,
   "id": "550af3f0",
   "metadata": {
    "scrolled": true
   },
   "outputs": [
    {
     "data": {
      "text/html": [
       "<div>\n",
       "<style scoped>\n",
       "    .dataframe tbody tr th:only-of-type {\n",
       "        vertical-align: middle;\n",
       "    }\n",
       "\n",
       "    .dataframe tbody tr th {\n",
       "        vertical-align: top;\n",
       "    }\n",
       "\n",
       "    .dataframe thead th {\n",
       "        text-align: right;\n",
       "    }\n",
       "</style>\n",
       "<table border=\"1\" class=\"dataframe\">\n",
       "  <thead>\n",
       "    <tr style=\"text-align: right;\">\n",
       "      <th></th>\n",
       "      <th>carat</th>\n",
       "      <th>depth</th>\n",
       "      <th>table</th>\n",
       "      <th>price</th>\n",
       "      <th>x</th>\n",
       "      <th>y</th>\n",
       "      <th>z</th>\n",
       "    </tr>\n",
       "  </thead>\n",
       "  <tbody>\n",
       "    <tr>\n",
       "      <th>count</th>\n",
       "      <td>270.000000</td>\n",
       "      <td>270.000000</td>\n",
       "      <td>270.000000</td>\n",
       "      <td>270.000000</td>\n",
       "      <td>270.000000</td>\n",
       "      <td>270.000000</td>\n",
       "      <td>270.000000</td>\n",
       "    </tr>\n",
       "    <tr>\n",
       "      <th>mean</th>\n",
       "      <td>0.783963</td>\n",
       "      <td>61.625556</td>\n",
       "      <td>57.551111</td>\n",
       "      <td>3825.433333</td>\n",
       "      <td>5.726926</td>\n",
       "      <td>5.732481</td>\n",
       "      <td>3.529519</td>\n",
       "    </tr>\n",
       "    <tr>\n",
       "      <th>std</th>\n",
       "      <td>0.425715</td>\n",
       "      <td>1.599109</td>\n",
       "      <td>2.204924</td>\n",
       "      <td>3710.863520</td>\n",
       "      <td>1.058824</td>\n",
       "      <td>1.051470</td>\n",
       "      <td>0.648588</td>\n",
       "    </tr>\n",
       "    <tr>\n",
       "      <th>min</th>\n",
       "      <td>0.230000</td>\n",
       "      <td>54.200000</td>\n",
       "      <td>53.000000</td>\n",
       "      <td>327.000000</td>\n",
       "      <td>3.900000</td>\n",
       "      <td>3.930000</td>\n",
       "      <td>2.310000</td>\n",
       "    </tr>\n",
       "    <tr>\n",
       "      <th>25%</th>\n",
       "      <td>0.400000</td>\n",
       "      <td>60.900000</td>\n",
       "      <td>56.000000</td>\n",
       "      <td>984.750000</td>\n",
       "      <td>4.740000</td>\n",
       "      <td>4.760000</td>\n",
       "      <td>2.922500</td>\n",
       "    </tr>\n",
       "    <tr>\n",
       "      <th>50%</th>\n",
       "      <td>0.700000</td>\n",
       "      <td>61.800000</td>\n",
       "      <td>57.000000</td>\n",
       "      <td>2386.000000</td>\n",
       "      <td>5.700000</td>\n",
       "      <td>5.730000</td>\n",
       "      <td>3.540000</td>\n",
       "    </tr>\n",
       "    <tr>\n",
       "      <th>75%</th>\n",
       "      <td>1.047500</td>\n",
       "      <td>62.500000</td>\n",
       "      <td>59.000000</td>\n",
       "      <td>5221.500000</td>\n",
       "      <td>6.527500</td>\n",
       "      <td>6.527500</td>\n",
       "      <td>4.020000</td>\n",
       "    </tr>\n",
       "    <tr>\n",
       "      <th>max</th>\n",
       "      <td>2.100000</td>\n",
       "      <td>73.600000</td>\n",
       "      <td>65.000000</td>\n",
       "      <td>18124.000000</td>\n",
       "      <td>8.310000</td>\n",
       "      <td>8.250000</td>\n",
       "      <td>5.040000</td>\n",
       "    </tr>\n",
       "  </tbody>\n",
       "</table>\n",
       "</div>"
      ],
      "text/plain": [
       "            carat       depth       table         price           x  \\\n",
       "count  270.000000  270.000000  270.000000    270.000000  270.000000   \n",
       "mean     0.783963   61.625556   57.551111   3825.433333    5.726926   \n",
       "std      0.425715    1.599109    2.204924   3710.863520    1.058824   \n",
       "min      0.230000   54.200000   53.000000    327.000000    3.900000   \n",
       "25%      0.400000   60.900000   56.000000    984.750000    4.740000   \n",
       "50%      0.700000   61.800000   57.000000   2386.000000    5.700000   \n",
       "75%      1.047500   62.500000   59.000000   5221.500000    6.527500   \n",
       "max      2.100000   73.600000   65.000000  18124.000000    8.310000   \n",
       "\n",
       "                y           z  \n",
       "count  270.000000  270.000000  \n",
       "mean     5.732481    3.529519  \n",
       "std      1.051470    0.648588  \n",
       "min      3.930000    2.310000  \n",
       "25%      4.760000    2.922500  \n",
       "50%      5.730000    3.540000  \n",
       "75%      6.527500    4.020000  \n",
       "max      8.250000    5.040000  "
      ]
     },
     "execution_count": 50,
     "metadata": {},
     "output_type": "execute_result"
    }
   ],
   "source": [
    "diamonds.describe()"
   ]
  },
  {
   "cell_type": "code",
   "execution_count": 51,
   "id": "e7ec2123",
   "metadata": {},
   "outputs": [
    {
     "name": "stdout",
     "output_type": "stream",
     "text": [
      "65.0\n"
     ]
    }
   ],
   "source": [
    "xdata = diamonds['price']\n",
    "ydata = diamonds['depth']\n",
    "table = diamonds['table']\n",
    "print(table.max())"
   ]
  },
  {
   "cell_type": "code",
   "execution_count": 61,
   "id": "984c7995",
   "metadata": {},
   "outputs": [
    {
     "name": "stdout",
     "output_type": "stream",
     "text": [
      "['Ideal' 'Very Good' 'Premium' 'Fair' 'Good']\n"
     ]
    }
   ],
   "source": [
    "mycolor = ['r', 'b', 'g', 'y', 'm']\n",
    "cut_list = diamonds['cut'].unique()\n",
    "print(cut_list)"
   ]
  },
  {
   "cell_type": "code",
   "execution_count": 62,
   "id": "d9ee5afb",
   "metadata": {
    "scrolled": true
   },
   "outputs": [
    {
     "name": "stdout",
     "output_type": "stream",
     "text": [
      "{'Ideal': 'r', 'Very Good': 'b', 'Premium': 'g', 'Fair': 'y', 'Good': 'm'}\n"
     ]
    }
   ],
   "source": [
    "cut_dict = {cut_list[idx] : mycolor[idx] for idx in range(len(cut_list))}\n",
    "print(cut_dict)"
   ]
  },
  {
   "cell_type": "code",
   "execution_count": 63,
   "id": "1f6353ba",
   "metadata": {},
   "outputs": [],
   "source": [
    "def recode_cut(cut):\n",
    "    return cut_dict[cut]\n",
    "\n",
    "diamonds['newcut'] = diamonds['cut'].apply(recode_cut)\n",
    "newcut = diamonds['newcut']"
   ]
  },
  {
   "cell_type": "code",
   "execution_count": 64,
   "id": "f5d66443",
   "metadata": {},
   "outputs": [],
   "source": [
    "def recode_table(table):\n",
    "    if table >= 60:\n",
    "        return 100\n",
    "    elif table >= 58:\n",
    "        return 30\n",
    "    elif table >= 54:\n",
    "        return 5\n",
    "    else:\n",
    "        return 1\n",
    "    \n",
    "diamonds['newtable'] = diamonds['table'].apply(recode_table)\n",
    "newtable = diamonds['newtable']\n",
    "\n"
   ]
  },
  {
   "cell_type": "code",
   "execution_count": 65,
   "id": "b1496f8c",
   "metadata": {},
   "outputs": [
    {
     "data": {
      "text/plain": [
       "Text(0, 0.5, 'Depth')"
      ]
     },
     "execution_count": 65,
     "metadata": {},
     "output_type": "execute_result"
    },
    {
     "data": {
      "image/png": "[encoded data removed]",
      "text/plain": [
       "<Figure size 432x288 with 1 Axes>"
      ]
     },
     "metadata": {},
     "output_type": "display_data"
    }
   ],
   "source": [
    "scatter_plot = plt.figure()\n",
    "ax1 = scatter_plot.add_subplot(1,1,1)\n",
    "\n",
    "ax1.scatter(x=xdata, y=ydata, s=newtable, c=newcut, alpha=0.8)\n",
    "\n",
    "ax1.set_title('Price vs Depth Colored by Cut and Table')\n",
    "ax1.set_xlabel('Price')\n",
    "ax1.set_ylabel('Depth')"
   ]
  },
  {
   "cell_type": "markdown",
   "id": "360b3003",
   "metadata": {},
   "source": [
    "## 막대 그래프"
   ]
  },
  {
   "cell_type": "code",
   "execution_count": 66,
   "id": "b443b531",
   "metadata": {},
   "outputs": [],
   "source": [
    "# 특정 일자 일변량 막대 그래프\n",
    "\n",
    "data = pd.read_csv('data/data/주요발생국가주간동향(4월2째주).csv')"
   ]
  },
  {
   "cell_type": "code",
   "execution_count": 67,
   "id": "fc94a1df",
   "metadata": {},
   "outputs": [
    {
     "data": {
      "text/plain": [
       "Index(['국가', '4월06일', '4월07일', '4월08일', '4월09일', '4월10일', '4월11일', '4월12일'], dtype='object')"
      ]
     },
     "execution_count": 67,
     "metadata": {},
     "output_type": "execute_result"
    }
   ],
   "source": [
    "data.columns"
   ]
  },
  {
   "cell_type": "code",
   "execution_count": 68,
   "id": "881c8f50",
   "metadata": {},
   "outputs": [
    {
     "name": "stdout",
     "output_type": "stream",
     "text": [
      "0    335524\n",
      "1    130709\n",
      "2    128948\n",
      "3    100024\n",
      "4     70478\n",
      "5     81708\n",
      "6     47806\n",
      "7     58226\n",
      "8     21104\n",
      "9     10284\n",
      "Name: 4월06일, dtype: int64\n"
     ]
    }
   ],
   "source": [
    "chartdata = data['4월06일']\n",
    "print(chartdata)"
   ]
  },
  {
   "cell_type": "code",
   "execution_count": 77,
   "id": "407f8717",
   "metadata": {},
   "outputs": [],
   "source": [
    "# plt.bar 메소드를 사용한 막대 그래프\n",
    "\n",
    "def MakeBarChart01(x, y, color, xlabel, ylabel, title):\n",
    "    plt.figure()\n",
    "    plt.bar(x,y, color=color, alpha=0.7)\n",
    "    \n",
    "    plt.xlabel(xlabel)\n",
    "    plt.ylabel(ylabel)\n",
    "    plt.title(title)\n",
    "    #plt.grid(True)\n",
    "    \n",
    "    YTICKS_INTERVAL = 50000\n",
    "    \n",
    "    maxlim = (int(y.max()/YTICKS_INTERVAL) + 1) * YTICKS_INTERVAL\n",
    "    print(maxlim)\n",
    "    \n",
    "    values = np.arange(0, maxlim + 1, YTICKS_INTERVAL)\n",
    "    plt.yticks(values, ['%s' %format(val,',') for val in values])\n",
    "    \n",
    "    # 그래프 위에 건수와 비율 구하기\n",
    "    ratio = 100 * y / y.sum()\n",
    "    print(ratio)\n",
    "    print('-' * 40)\n",
    "    \n",
    "    plt.rc('font', size=6)\n",
    "    \n",
    "    for idx in range(y.size):\n",
    "        value = format(y[idx], ',') + '건'\n",
    "        ratioval = '%.1f%%' % (ratio[idx])\n",
    "        # 그래프 위에 건수 표시\n",
    "        plt.text(x=idx, y=y[idx] + 1, s=value, horizontalalignment='center')\n",
    "        # 그래프 중간에 비율 표시\n",
    "        plt.text(x=idx, y=y[idx] / 2, s = ratioval, horizontalalignment='center')\n",
    "        \n",
    "    # 평균값을 수평선으로 그리기\n",
    "    meanval = y.mean()\n",
    "    print(meanval)\n",
    "    print('-' * 40)\n",
    "    \n",
    "    average = '평균 : %d건' % meanval\n",
    "    plt.axhline(y = meanval, color ='r', linewidth = 1, linestyle = 'dashed')\n",
    "    plt.text(x = y.size - 1, y = meanval + 200, s = average, horizontalalignment = 'center')"
   ]
  },
  {
   "cell_type": "code",
   "execution_count": 78,
   "id": "87275e7f",
   "metadata": {},
   "outputs": [
    {
     "name": "stdout",
     "output_type": "stream",
     "text": [
      "350000\n",
      "0    34.069888\n",
      "1    13.272496\n",
      "2    13.093680\n",
      "3    10.156670\n",
      "4     7.156500\n",
      "5     8.296820\n",
      "6     4.854332\n",
      "7     5.912403\n",
      "8     2.142949\n",
      "9     1.044261\n",
      "Name: 4월06일, dtype: float64\n",
      "----------------------------------------\n",
      "98481.1\n",
      "----------------------------------------\n"
     ]
    },
    {
     "data": {
      "image/png": "[encoded data removed]",
      "text/plain": [
       "<Figure size 432x288 with 1 Axes>"
      ]
     },
     "metadata": {},
     "output_type": "display_data"
    }
   ],
   "source": [
    "colors = ['b', 'g', 'r', 'c', 'm', 'y', 'k']\n",
    "mycolor = colors[0:len(chartdata)]\n",
    "\n",
    "MakeBarChart01(x=chartdata.index, y=chartdata, color=mycolor, xlabel='국가명', ylabel='발생건수', title='국가별 코로나 발생 건수')"
   ]
  },
  {
   "cell_type": "code",
   "execution_count": 79,
   "id": "2f442b42",
   "metadata": {},
   "outputs": [
    {
     "data": {
      "text/plain": [
       "0    335524\n",
       "1    130709\n",
       "2    128948\n",
       "3    100024\n",
       "4     70478\n",
       "5     81708\n",
       "6     47806\n",
       "7     58226\n",
       "8     21104\n",
       "9     10284\n",
       "Name: 4월06일, dtype: int64"
      ]
     },
     "execution_count": 79,
     "metadata": {},
     "output_type": "execute_result"
    }
   ],
   "source": [
    "chartdata"
   ]
  },
  {
   "cell_type": "markdown",
   "id": "46f5a07c",
   "metadata": {},
   "source": [
    "## 특정 국가별 일별 다변량 막대 그래프"
   ]
  },
  {
   "cell_type": "code",
   "execution_count": 80,
   "id": "468ad7c1",
   "metadata": {},
   "outputs": [],
   "source": [
    "def MakeBarChart02(chartdata, rotation, title, ylim=None, stacked=False, yticks_interval = 10000):\n",
    "    plt.figure()\n",
    "    #범례에 제목을 넣으려면 plot() 매소드의 legend 옵션을 사용\n",
    "    chartdata.plot(kind='bar', rot=rotation, title=title, legend=True, stacked=stacked)\n",
    "    plt.legend(loc='best')\n",
    "    print('chartdata')\n",
    "    print(chartdata)\n",
    "    \n",
    "    if stacked == False:\n",
    "        # max(chartdata.max())는 항목들 값 중에서 최대값\n",
    "        maxlim = (int(max(chartdata.max()) / yticks_interval) + 1) * yticks_interval\n",
    "        print('maxlim :', maxlim)\n",
    "        values = np.arange(0, maxlim + 1, yticks_interval)\n",
    "        plt.yticks(values, ['%s' %format(val, ',') for val in values])\n",
    "    # y축의 상하한 값이 주어지는 경우에만 설정\n",
    "    if ylim != None:\n",
    "        plt.ylim(ylim)"
   ]
  },
  {
   "cell_type": "code",
   "execution_count": 84,
   "id": "4d29bd84",
   "metadata": {},
   "outputs": [
    {
     "name": "stdout",
     "output_type": "stream",
     "text": [
      "Index(['4월06일', '4월07일', '4월08일', '4월09일', '4월10일', '4월11일', '4월12일'], dtype='object')\n",
      "       4월06일   4월07일   4월08일   4월09일   4월10일   4월11일   4월12일\n",
      "국가                                                          \n",
      "미국    335524  364723  387547  424945  461437  495535  524903\n",
      "스페인   130709  135032  140510  146690  152446  157022  161852\n",
      "이탈리아  128948  132547  135586  139422  143626  147577  152271\n",
      "독일    100024  102453  107591  112113  118181  122171  124908\n",
      "프랑스    70478   74390   78167   82048   86334   90276   93790\n",
      "중국     81708   81740   81802   81865   81907   81953   82052\n",
      "영국     47806   51608   55242   60733   65077   73758   78991\n",
      "이란     58226   60500   62589   64586   66220   68192   70029\n",
      "스위스    21104   21652   22241   22789   23574   24308   24900\n",
      "한국     10284   10331   10384   10423   10450   10480   10512\n"
     ]
    }
   ],
   "source": [
    "data = pd.read_csv('data/data/주요발생국가주간동향(4월2째주).csv', index_col = '국가')\n",
    "print(data.columns)\n",
    "print(data)"
   ]
  },
  {
   "cell_type": "code",
   "execution_count": 85,
   "id": "cbc29d28",
   "metadata": {},
   "outputs": [
    {
     "name": "stdout",
     "output_type": "stream",
     "text": [
      "     4월06일  4월07일  4월08일\n",
      "국가                      \n",
      "프랑스  70478  74390  78167\n",
      "중국   81708  81740  81802\n",
      "영국   47806  51608  55242\n",
      "이란   58226  60500  62589\n"
     ]
    }
   ],
   "source": [
    "COUNTRY = ['프랑스', '중국', '영국', '이란']\n",
    "WHEN = ['4월06일', '4월07일', '4월08일']\n",
    "data = data.loc[COUNTRY, WHEN]\n",
    "print(data)"
   ]
  },
  {
   "cell_type": "code",
   "execution_count": 86,
   "id": "f45f117d",
   "metadata": {},
   "outputs": [
    {
     "name": "stdout",
     "output_type": "stream",
     "text": [
      "일자   4월06일  4월07일  4월08일\n",
      "국가명                     \n",
      "프랑스  70478  74390  78167\n",
      "중국   81708  81740  81802\n",
      "영국   47806  51608  55242\n",
      "이란   58226  60500  62589\n"
     ]
    }
   ],
   "source": [
    "data.index.name = '국가명'\n",
    "data.columns.name = '일자'\n",
    "print(data)"
   ]
  },
  {
   "cell_type": "code",
   "execution_count": 88,
   "id": "f35e2dc8",
   "metadata": {},
   "outputs": [
    {
     "name": "stdout",
     "output_type": "stream",
     "text": [
      "chartdata\n",
      "일자   4월06일  4월07일  4월08일\n",
      "국가명                     \n",
      "프랑스  70478  74390  78167\n",
      "중국   81708  81740  81802\n",
      "영국   47806  51608  55242\n",
      "이란   58226  60500  62589\n",
      "maxlim : 90000\n"
     ]
    },
    {
     "data": {
      "text/plain": [
       "<Figure size 432x288 with 0 Axes>"
      ]
     },
     "metadata": {},
     "output_type": "display_data"
    },
    {
     "data": {
      "image/png": "[encoded data removed]",
      "text/plain": [
       "<Figure size 432x288 with 1 Axes>"
      ]
     },
     "metadata": {},
     "output_type": "display_data"
    }
   ],
   "source": [
    "MakeBarChart02(chartdata=data, rotation = 0, title = '국가별 일별 발생 건수')"
   ]
  },
  {
   "cell_type": "markdown",
   "id": "66e67168",
   "metadata": {},
   "source": [
    "## 일별 국가별 다변량 막대 그래프"
   ]
  },
  {
   "cell_type": "code",
   "execution_count": 89,
   "id": "2d834bc0",
   "metadata": {},
   "outputs": [
    {
     "name": "stdout",
     "output_type": "stream",
     "text": [
      "국가명      프랑스     중국     영국     이란\n",
      "일자                               \n",
      "4월06일  70478  81708  47806  58226\n",
      "4월07일  74390  81740  51608  60500\n",
      "4월08일  78167  81802  55242  62589\n"
     ]
    }
   ],
   "source": [
    "dataT = data.T\n",
    "print(dataT)"
   ]
  },
  {
   "cell_type": "code",
   "execution_count": 90,
   "id": "df6a37a2",
   "metadata": {},
   "outputs": [
    {
     "name": "stdout",
     "output_type": "stream",
     "text": [
      "chartdata\n",
      "국가명      프랑스     중국     영국     이란\n",
      "일자                               \n",
      "4월06일  70478  81708  47806  58226\n",
      "4월07일  74390  81740  51608  60500\n",
      "4월08일  78167  81802  55242  62589\n",
      "maxlim : 90000\n"
     ]
    },
    {
     "data": {
      "text/plain": [
       "<Figure size 432x288 with 0 Axes>"
      ]
     },
     "metadata": {},
     "output_type": "display_data"
    },
    {
     "data": {
      "image/png": "[encoded data removed]",
      "text/plain": [
       "<Figure size 432x288 with 1 Axes>"
      ]
     },
     "metadata": {},
     "output_type": "display_data"
    }
   ],
   "source": [
    "MakeBarChart02(chartdata = dataT, rotation=0, title='일별 국가별 발생 건수')"
   ]
  },
  {
   "cell_type": "markdown",
   "id": "c069d83a",
   "metadata": {},
   "source": [
    "## 일별 국가별 누적 막대 그래프"
   ]
  },
  {
   "cell_type": "code",
   "execution_count": 91,
   "id": "98229b8a",
   "metadata": {},
   "outputs": [
    {
     "name": "stdout",
     "output_type": "stream",
     "text": [
      "chartdata\n",
      "일자   4월06일  4월07일  4월08일\n",
      "국가명                     \n",
      "프랑스  70478  74390  78167\n",
      "중국   81708  81740  81802\n",
      "영국   47806  51608  55242\n",
      "이란   58226  60500  62589\n"
     ]
    },
    {
     "data": {
      "text/plain": [
       "<Figure size 432x288 with 0 Axes>"
      ]
     },
     "metadata": {},
     "output_type": "display_data"
    },
    {
     "data": {
      "image/png": "[encoded data removed]",
      "text/plain": [
       "<Figure size 432x288 with 1 Axes>"
      ]
     },
     "metadata": {},
     "output_type": "display_data"
    }
   ],
   "source": [
    "ymax = dataT.sum(axis=1)\n",
    "ymaxlimit = ymax.max() + 10\n",
    "\n",
    "MakeBarChart02(chartdata = data, rotation = 0, title = '국가별 일별 발생 건수(누적)',\n",
    "              ylim=[0, ymaxlimit], stacked=True, yticks_interval = 50000)"
   ]
  },
  {
   "cell_type": "markdown",
   "id": "dc83a73c",
   "metadata": {},
   "source": [
    "## 국가별 일별 누적 가로 막대 그래프"
   ]
  },
  {
   "cell_type": "code",
   "execution_count": 4,
   "id": "5c883c4f",
   "metadata": {},
   "outputs": [],
   "source": [
    "data = pd.read_csv('data/data/주요발생국가주간동향(4월2째주).csv', index_col = '국가')"
   ]
  },
  {
   "cell_type": "code",
   "execution_count": 5,
   "id": "7c5194b3",
   "metadata": {},
   "outputs": [
    {
     "name": "stdout",
     "output_type": "stream",
     "text": [
      "['프랑스', '중국', '영국']\n"
     ]
    }
   ],
   "source": [
    "three = [item for item in data.index if item in ['프랑스', '영국', '중국']]\n",
    "print(three)"
   ]
  },
  {
   "cell_type": "code",
   "execution_count": 6,
   "id": "40baed79",
   "metadata": {},
   "outputs": [
    {
     "name": "stdout",
     "output_type": "stream",
     "text": [
      "     4월06일  4월07일  4월08일  4월09일  4월10일  4월11일  4월12일\n",
      "국가                                                  \n",
      "프랑스  70478  74390  78167  82048  86334  90276  93790\n",
      "중국   81708  81740  81802  81865  81907  81953  82052\n",
      "영국   47806  51608  55242  60733  65077  73758  78991\n"
     ]
    }
   ],
   "source": [
    "data = data.loc[three]\n",
    "print(data)"
   ]
  },
  {
   "cell_type": "code",
   "execution_count": 7,
   "id": "425d7318",
   "metadata": {},
   "outputs": [
    {
     "name": "stdout",
     "output_type": "stream",
     "text": [
      "['4월06일', '4월07일', '4월08일', '4월09일', '4월10일', '4월11일', '4월12일']\n"
     ]
    }
   ],
   "source": [
    "column_names = data.columns.tolist()\n",
    "print(column_names)"
   ]
  },
  {
   "cell_type": "code",
   "execution_count": 8,
   "id": "a6213786",
   "metadata": {},
   "outputs": [
    {
     "name": "stdout",
     "output_type": "stream",
     "text": [
      "{'프랑스': array([70478, 74390, 78167, 82048, 86334, 90276, 93790], dtype=int64), '중국': array([81708, 81740, 81802, 81865, 81907, 81953, 82052], dtype=int64), '영국': array([47806, 51608, 55242, 60733, 65077, 73758, 78991], dtype=int64)}\n"
     ]
    }
   ],
   "source": [
    "# 국가별 numpy 배열을 저장하고 있는 사전\n",
    "chartdata = {}\n",
    "for row in data.index:\n",
    "    chartdata[row] = data.loc[row].values\n",
    "print(chartdata)"
   ]
  },
  {
   "cell_type": "code",
   "execution_count": 15,
   "id": "0ffffdcf",
   "metadata": {},
   "outputs": [],
   "source": [
    "def MakeBarChart03(chartdata, column_names):\n",
    "    labels = list(chartdata.keys())\n",
    "    data_cum = data.cumsum(axis=1)\n",
    "    category_colors = plt.get_cmap('RdYlGn')(np.linspace(0.25, 0.85, data.shape[1]))\n",
    "    fig, ax = plt.subplots(figsize=(9.2, 5))\n",
    "    ax.invert_yaxis()\n",
    "    ax.xaxis.set_visible(False)\n",
    "    ax.set_xlim(0, np.sum(data, axis=1).max())\n",
    "    \n",
    "    for i, (colname, color) in enumerate(zip(column_names, category_colors)):\n",
    "        widths = data.iloc[:, i]\n",
    "        starts = data_cum.iloc[:, i] - widths\n",
    "        ax.barh(labels, widths, left=starts, height=0.5,label=colname, color=color)\n",
    "        xcenters = starts + widths / 2\n",
    "        r, g, b, _ = color\n",
    "        text_color = 'white' if r * g * b <0.5 else 'darkgrey'\n",
    "        for y, (x, c) in enumerate(zip(xcenters, widths)):\n",
    "            ax.text(x, y, str(int(c)), ha = 'center', va = 'center',\n",
    "                    color = text_color)\n",
    "    ax.legend(ncol=len(column_names), bbox_to_anchor=(0,1),\n",
    "             loc = 'lower left', fontsize='small')\n",
    "    "
   ]
  },
  {
   "cell_type": "code",
   "execution_count": 18,
   "id": "ab57ad96",
   "metadata": {},
   "outputs": [
    {
     "data": {
      "image/png": "[encoded data removed]",
      "text/plain": [
       "<Figure size 662.4x360 with 1 Axes>"
      ]
     },
     "metadata": {
      "needs_background": "light"
     },
     "output_type": "display_data"
    }
   ],
   "source": [
    "MakeBarChart03(chartdata, column_names)"
   ]
  },
  {
   "cell_type": "code",
   "execution_count": 19,
   "id": "6c30c2b4",
   "metadata": {},
   "outputs": [],
   "source": [
    "def MakeBarChart04(chartdata, suptitle):\n",
    "    fig, axes = plt.subplots(2, 1)\n",
    "    chartdata.plot(kind='bar', ax=axes[0], rot=0, alpha=0.7)\n",
    "    \n",
    "    chartdata.plot(kind='barh', ax=axes[1], color='m', alpha=0.7)\n",
    "    \n",
    "    fig.suptitle(suptitle)"
   ]
  },
  {
   "cell_type": "code",
   "execution_count": 22,
   "id": "a087725d",
   "metadata": {},
   "outputs": [
    {
     "data": {
      "text/html": [
       "<div>\n",
       "<style scoped>\n",
       "    .dataframe tbody tr th:only-of-type {\n",
       "        vertical-align: middle;\n",
       "    }\n",
       "\n",
       "    .dataframe tbody tr th {\n",
       "        vertical-align: top;\n",
       "    }\n",
       "\n",
       "    .dataframe thead th {\n",
       "        text-align: right;\n",
       "    }\n",
       "</style>\n",
       "<table border=\"1\" class=\"dataframe\">\n",
       "  <thead>\n",
       "    <tr style=\"text-align: right;\">\n",
       "      <th></th>\n",
       "      <th>4월06일</th>\n",
       "      <th>4월07일</th>\n",
       "      <th>4월08일</th>\n",
       "      <th>4월09일</th>\n",
       "      <th>4월10일</th>\n",
       "      <th>4월11일</th>\n",
       "      <th>4월12일</th>\n",
       "    </tr>\n",
       "    <tr>\n",
       "      <th>국가</th>\n",
       "      <th></th>\n",
       "      <th></th>\n",
       "      <th></th>\n",
       "      <th></th>\n",
       "      <th></th>\n",
       "      <th></th>\n",
       "      <th></th>\n",
       "    </tr>\n",
       "  </thead>\n",
       "  <tbody>\n",
       "    <tr>\n",
       "      <th>미국</th>\n",
       "      <td>335524</td>\n",
       "      <td>364723</td>\n",
       "      <td>387547</td>\n",
       "      <td>424945</td>\n",
       "      <td>461437</td>\n",
       "      <td>495535</td>\n",
       "      <td>524903</td>\n",
       "    </tr>\n",
       "    <tr>\n",
       "      <th>스페인</th>\n",
       "      <td>130709</td>\n",
       "      <td>135032</td>\n",
       "      <td>140510</td>\n",
       "      <td>146690</td>\n",
       "      <td>152446</td>\n",
       "      <td>157022</td>\n",
       "      <td>161852</td>\n",
       "    </tr>\n",
       "    <tr>\n",
       "      <th>이탈리아</th>\n",
       "      <td>128948</td>\n",
       "      <td>132547</td>\n",
       "      <td>135586</td>\n",
       "      <td>139422</td>\n",
       "      <td>143626</td>\n",
       "      <td>147577</td>\n",
       "      <td>152271</td>\n",
       "    </tr>\n",
       "    <tr>\n",
       "      <th>독일</th>\n",
       "      <td>100024</td>\n",
       "      <td>102453</td>\n",
       "      <td>107591</td>\n",
       "      <td>112113</td>\n",
       "      <td>118181</td>\n",
       "      <td>122171</td>\n",
       "      <td>124908</td>\n",
       "    </tr>\n",
       "    <tr>\n",
       "      <th>프랑스</th>\n",
       "      <td>70478</td>\n",
       "      <td>74390</td>\n",
       "      <td>78167</td>\n",
       "      <td>82048</td>\n",
       "      <td>86334</td>\n",
       "      <td>90276</td>\n",
       "      <td>93790</td>\n",
       "    </tr>\n",
       "  </tbody>\n",
       "</table>\n",
       "</div>"
      ],
      "text/plain": [
       "       4월06일   4월07일   4월08일   4월09일   4월10일   4월11일   4월12일\n",
       "국가                                                          \n",
       "미국    335524  364723  387547  424945  461437  495535  524903\n",
       "스페인   130709  135032  140510  146690  152446  157022  161852\n",
       "이탈리아  128948  132547  135586  139422  143626  147577  152271\n",
       "독일    100024  102453  107591  112113  118181  122171  124908\n",
       "프랑스    70478   74390   78167   82048   86334   90276   93790"
      ]
     },
     "execution_count": 22,
     "metadata": {},
     "output_type": "execute_result"
    }
   ],
   "source": [
    "data = pd.read_csv('data/data/주요발생국가주간동향(4월2째주).csv', index_col = '국가')\n",
    "data.head()"
   ]
  },
  {
   "cell_type": "code",
   "execution_count": 23,
   "id": "4aec383d",
   "metadata": {},
   "outputs": [
    {
     "data": {
      "text/plain": [
       "['미국']"
      ]
     },
     "execution_count": 23,
     "metadata": {},
     "output_type": "execute_result"
    }
   ],
   "source": [
    "only_usa = [item for item in data.index if item in ['미국']]\n",
    "only_usa"
   ]
  },
  {
   "cell_type": "code",
   "execution_count": null,
   "id": "019b4ef3",
   "metadata": {},
   "outputs": [],
   "source": []
  }
 ],
 "metadata": {
  "kernelspec": {
   "display_name": "Python 3 (ipykernel)",
   "language": "python",
   "name": "python3"
  },
  "language_info": {
   "codemirror_mode": {
    "name": "ipython",
    "version": 3
   },
   "file_extension": ".py",
   "mimetype": "text/x-python",
   "name": "python",
   "nbconvert_exporter": "python",
   "pygments_lexer": "ipython3",
   "version": "3.8.12"
  }
 },
 "nbformat": 4,
 "nbformat_minor": 5
}
