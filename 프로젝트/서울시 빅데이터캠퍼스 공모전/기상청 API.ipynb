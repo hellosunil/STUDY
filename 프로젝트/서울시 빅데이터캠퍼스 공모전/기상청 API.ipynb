{
 "cells": [
  {
   "cell_type": "code",
   "execution_count": 1,
   "id": "37a5e829",
   "metadata": {},
   "outputs": [],
   "source": [
    "import pandas as pd\n",
    "def getRegionCode(inputRegionName):\n",
    "    regionCodeDict = {}\n",
    "\n",
    "    df_region = pd.read_csv('https://raw.githubusercontent.com/w00j00ng/data/main/regionCode.csv', encoding='cp949')\n",
    "    for regionCode, regionName in zip(df_region['지점'], df_region['지점명']):\n",
    "        regionCodeDict[regionName] = regionCode\n",
    "    if inputRegionName in regionCodeDict:\n",
    "        return regionCodeDict[inputRegionName]\n",
    "    else:\n",
    "        raise Exception(f\"해당 지역명이 없습니다.\\n지역명을 확인하고 다시 입력해주세요\\n\\n{regionCodeDict.keys()}\")"
   ]
  },
  {
   "cell_type": "code",
   "execution_count": 2,
   "id": "571cf56d",
   "metadata": {},
   "outputs": [],
   "source": [
    "from datetime import datetime, timedelta\n",
    "\n",
    "def getDailyUrl(date, regionName=\"서울\"):\n",
    "    if type(date) is int:\n",
    "        date = str(date)\n",
    "    if len(date) != 8:\n",
    "        raise Exception(f\"날짜를 8자리로 입력하세요 (예: \\\"20210101\\\")\")\n",
    "    maximumValidInput = int((datetime.today() - timedelta(1)).strftime(\"%Y%m%d\"))\n",
    "    if int(date) > maximumValidInput:\n",
    "        raise Exception(f\"{maximumValidInput}일 까지의 정보만 조회할 수 있습니다\")\n",
    "    servicekey = \n",
    "    stnlds = getRegionCode(regionName)\n",
    "\n",
    "    baseUrl = \"http://apis.data.go.kr/1360000/AsosHourlyInfoService/getWthrDataList\"\n",
    "    optionsUrl = f\"?serviceKey={servicekey}&stnIds={stnlds}&startDt={date}&endDt={date}\"\n",
    "    defaultOptionUrl = \"&dataType=JSON&startHh=01&endHh=23&dataCd=ASOS&dateCd=HR&numOfRows=23\"\n",
    "    return f\"{baseUrl}{optionsUrl}{defaultOptionUrl}\""
   ]
  },
  {
   "cell_type": "code",
   "execution_count": 3,
   "id": "cb073c61",
   "metadata": {},
   "outputs": [],
   "source": [
    "import urllib.request\n",
    "import json\n",
    "def getJson(date, regionName=\"서울\"):\n",
    "    response = urllib.request.urlopen(getDailyUrl(date, regionName=regionName))\n",
    "    rescode = response.getcode()\n",
    "    if(rescode==200):\n",
    "        return json.loads(response.read())['response']['body']['items']['item']\n",
    "    else:\n",
    "        raise Exception(\"Error Code:\" + rescode)"
   ]
  },
  {
   "cell_type": "code",
   "execution_count": 5,
   "id": "567b59e5",
   "metadata": {},
   "outputs": [],
   "source": [
    "def getDailyData(date, regionName=\"서울\"):\n",
    "    tmpList = []\n",
    "    for item in getJson(date, regionName):\n",
    "        item_date = item['tm'][:10]\n",
    "        item_hour = item['tm'][-5:]\n",
    "        tmpList.append([item['stnNm'], item_date, item_hour, item['hm'], item['gndSttCd']])\n",
    "    return pd.DataFrame(tmpList, columns=['지점명', '날짜', '시간', '습도', '지면상태'])"
   ]
  },
  {
   "cell_type": "code",
   "execution_count": 6,
   "id": "3bc2a608",
   "metadata": {},
   "outputs": [],
   "source": [
    "from datetime import date, datetime, timedelta\n",
    "def getWeatherData(stdDate, endDate, regionName=\"서울\"):\n",
    "    return_df = pd.DataFrame(columns=['지점명', '날짜', '시간', '기온', '강수량'])\n",
    "    if int(stdDate) > int(endDate):\n",
    "        raise Exception(\"첫 번째 인자는 시작일자, 두 번째 인자는 종료일자입니다.\")\n",
    "    if type(stdDate) is int:\n",
    "        stdDate = str(stdDate)\n",
    "    if type(endDate) is int:\n",
    "        endDate = str(endDate)\n",
    "    if len(stdDate) != 8 or len(endDate) != 8:\n",
    "        raise Exception(f\"날짜를 8자리로 입력하세요 (예: \\\"20210101\\\")\")\n",
    "\n",
    "    maximumValidInput = int((datetime.today() - timedelta(1)).strftime(\"%Y%m%d\"))\n",
    "    if int(endDate) > maximumValidInput:\n",
    "        raise Exception(f\"{maximumValidInput}일 까지의 정보만 조회할 수 있습니다\")\n",
    "\n",
    "    if stdDate == endDate:\n",
    "        return_df = getDailyData(stdDate, regionName=regionName)\n",
    "        return return_df\n",
    "\n",
    "    start_date = date(int(stdDate[:4]), int(stdDate[4:6]), int(stdDate[6:]))\n",
    "    end_date = date(int(endDate[:4]), int(endDate[4:6]), int(endDate[6:]))\n",
    "\n",
    "    day_count = (end_date - start_date).days + 1\n",
    "\n",
    "    for single_date in (start_date + timedelta(n) for n in range(day_count)):\n",
    "        return_df = pd.concat([return_df, getDailyData(single_date.strftime(\"%Y%m%d\"), regionName=regionName)])\n",
    "\n",
    "    return return_df"
   ]
  },
  {
   "cell_type": "code",
   "execution_count": 7,
   "id": "f069e6cf",
   "metadata": {},
   "outputs": [],
   "source": [
    "import pandas as pd\n",
    "import os\n",
    "def saveWeatherData(stdDate, endDate, regionName=\"서울\", path=\"./\"):\n",
    "    filename = \"\"\n",
    "    if stdDate == endDate:\n",
    "        filename = f\"{regionName}_시간별기상정보_{stdDate}.csv\"\n",
    "    else:\n",
    "        filename = f\"{regionName}_시간별기상정보_{stdDate}_{endDate}.csv\"\n",
    "    return_df = getWeatherData(stdDate, endDate, regionName=regionName)\n",
    "    return_df.to_csv(path + filename, encoding='cp949', index=False)\n",
    "    print(f\"{os.path.abspath(path)}에 저장되었습니다\")"
   ]
  },
  {
   "cell_type": "code",
   "execution_count": 9,
   "id": "1514b444",
   "metadata": {},
   "outputs": [
    {
     "name": "stdout",
     "output_type": "stream",
     "text": [
      "C:\\Users\\admin\\Desktop에 저장되었습니다\n"
     ]
    }
   ],
   "source": [
    "saveWeatherData(\"20130511\", \"20160702\", regionName=\"서울\")"
   ]
  },
  {
   "cell_type": "code",
   "execution_count": null,
   "id": "f636707a",
   "metadata": {},
   "outputs": [],
   "source": [
    "saveWeatherData(\"20210403\", \"20210404\", regionName=\"제주\")"
   ]
  }
 ],
 "metadata": {
  "kernelspec": {
   "display_name": "Python 3",
   "language": "python",
   "name": "python3"
  },
  "language_info": {
   "codemirror_mode": {
    "name": "ipython",
    "version": 3
   },
   "file_extension": ".py",
   "mimetype": "text/x-python",
   "name": "python",
   "nbconvert_exporter": "python",
   "pygments_lexer": "ipython3",
   "version": "3.8.8"
  }
 },
 "nbformat": 4,
 "nbformat_minor": 5
}
