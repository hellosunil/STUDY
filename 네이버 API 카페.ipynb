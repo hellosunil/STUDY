{
 "cells": [
  {
   "cell_type": "code",
   "execution_count": 9,
   "id": "a4a591aa",
   "metadata": {},
   "outputs": [
    {
     "name": "stdout",
     "output_type": "stream",
     "text": [
      "검색어를 입력하세요 : 블로그블로그\n"
     ]
    }
   ],
   "source": [
    "import os\n",
    "import sys\n",
    "import urllib.request\n",
    "import json\n",
    "import re\n",
    "import pandas as pd\n",
    "\n",
    "client_id = \"4FdY0qL5azIJ4BXVjUal\"\n",
    "client_secret = \"Ylgg4Oh_FN\"\n",
    "\n",
    "\n",
    "search = input('검색어를 입력하세요 : ')\n",
    "\n",
    "cafe_data = pd.DataFrame()\n",
    "\n",
    "encText = urllib.parse.quote(search)\n",
    "\n",
    "title = list()\n",
    "description = list()\n",
    "adress = list()\n",
    "\n",
    "for i in range(1, 1000, 100):\n",
    "    try:\n",
    "        url = \"https://openapi.naver.com/v1/search/cafearticle?query=\" + encText + '&display=100'+'&sort=sim'+f'&start={i}' # json 결과\n",
    "        # url = \"https://openapi.naver.com/v1/search/blog.xml?query=\" + encText # xml 결과\n",
    "\n",
    "        request = urllib.request.Request(url)\n",
    "        request.add_header(\"X-Naver-Client-Id\",client_id)\n",
    "        request.add_header(\"X-Naver-Client-Secret\",client_secret)\n",
    "        response = urllib.request.urlopen(request)\n",
    "        rescode = response.getcode()\n",
    "\n",
    "        if(rescode==200):\n",
    "            response_body = response.read().decode('utf-8')\n",
    "            response_body1 = json.loads(str(response_body))\n",
    "            for i in response_body1['items']:\n",
    "                hangul = re.compile('[^ ㄱ-ㅎ|가-힣]+')\n",
    "                title.append(hangul.sub(r'', i['title']))\n",
    "                description.append(hangul.sub(r'', i['description']))\n",
    "                adress.append(i['link'])\n",
    "        else:\n",
    "            print(\"Error Code:\" + rescode)\n",
    "\n",
    "    except:\n",
    "        print('Error')\n",
    "\n",
    "cafe_data['title'] = title\n",
    "cafe_data['description']= description\n",
    "cafe_data['adress'] = adress\n",
    "\n",
    "cafe_data.to_csv('data/{0}카페 데이터.txt'.format(search), mode='a', header=True, index=True)\n",
    "\n",
    "\n",
    "\n"
   ]
  },
  {
   "cell_type": "code",
   "execution_count": null,
   "id": "502015d3",
   "metadata": {},
   "outputs": [],
   "source": []
  }
 ],
 "metadata": {
  "kernelspec": {
   "display_name": "Python 3",
   "language": "python",
   "name": "python3"
  },
  "language_info": {
   "codemirror_mode": {
    "name": "ipython",
    "version": 3
   },
   "file_extension": ".py",
   "mimetype": "text/x-python",
   "name": "python",
   "nbconvert_exporter": "python",
   "pygments_lexer": "ipython3",
   "version": "3.8.8"
  }
 },
 "nbformat": 4,
 "nbformat_minor": 5
}
