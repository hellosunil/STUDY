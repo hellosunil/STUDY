{
 "cells": [
  {
   "cell_type": "code",
   "execution_count": 10,
   "id": "6869608a",
   "metadata": {},
   "outputs": [],
   "source": [
    "import numpy as np\n",
    "\n",
    "def perceptron(w1, w2, theta):\n",
    "    for i in [0, 1]:\n",
    "        for j in [0, 1]:\n",
    "            if i*w1 + j*w2 <= theta:\n",
    "                result = 0\n",
    "            else:\n",
    "                result = 1\n",
    "            print(f'{i}, {j} --> {result}')"
   ]
  },
  {
   "cell_type": "code",
   "execution_count": 65,
   "id": "65c73de3",
   "metadata": {},
   "outputs": [
    {
     "name": "stdout",
     "output_type": "stream",
     "text": [
      "0, 0 --> 1\n",
      "0, 1 --> 0\n",
      "1, 0 --> 0\n",
      "1, 1 --> 0\n"
     ]
    }
   ],
   "source": [
    "perceptron(-0.5, -0.5, -0.4)"
   ]
  },
  {
   "cell_type": "code",
   "execution_count": 68,
   "id": "435e3c65",
   "metadata": {},
   "outputs": [
    {
     "name": "stdout",
     "output_type": "stream",
     "text": [
      "1\n",
      "0\n",
      "0\n",
      "0\n"
     ]
    }
   ],
   "source": [
    "for xs in [(0,0),(1,0),(0,1),(1,1)]:\n",
    "    y = NOR(xs[0], xs[1])\n",
    "    print(y)"
   ]
  },
  {
   "cell_type": "code",
   "execution_count": 67,
   "id": "a6569269",
   "metadata": {},
   "outputs": [],
   "source": [
    "def NOR(x1, x2):\n",
    "    x = np.array([x1, x2])\n",
    "    w = np.array([-0.5, -0.5])\n",
    "    b = 0.4\n",
    "    y = np.sum(x * w) + b\n",
    "    if y <= 0: return 0\n",
    "    else: return 1\n",
    "    \n",
    "def AND(x1, x2):\n",
    "    x = np.array([x1, x2])\n",
    "    w = np.array([0.5, 0.5])\n",
    "    b = -0.6\n",
    "    y = np.sum(x * w) + b\n",
    "    if y <= 0: return 0\n",
    "    else: return 1\n",
    "    \n",
    "def OR(x1, x2):\n",
    "    x = np.array([x1, x2])\n",
    "    w = np.array([0.5, 0.5])\n",
    "    b = -0.4\n",
    "    y = np.sum(x * w) + b\n",
    "    if y <= 0: return 0\n",
    "    else: return 1\n",
    "    \n",
    "def NAND(x1, x2):\n",
    "    x = np.array([x1, x2])\n",
    "    w = np.array([-0.5, -0.5])\n",
    "    b = 0.7\n",
    "    y = np.sum(x * w) + b\n",
    "    if y <= 0: return 0\n",
    "    else: return 1"
   ]
  },
  {
   "cell_type": "code",
   "execution_count": 51,
   "id": "63b1a590",
   "metadata": {},
   "outputs": [
    {
     "name": "stdout",
     "output_type": "stream",
     "text": [
      "0\n",
      "0\n",
      "0\n",
      "1\n"
     ]
    }
   ],
   "source": [
    "for xs in [(0,0),(1,0),(0,1),(1,1)]:\n",
    "    y = AND(xs[0], xs[1])\n",
    "    print(y)"
   ]
  },
  {
   "cell_type": "code",
   "execution_count": 52,
   "id": "b7d28e25",
   "metadata": {},
   "outputs": [
    {
     "name": "stdout",
     "output_type": "stream",
     "text": [
      "0\n",
      "1\n",
      "1\n",
      "1\n"
     ]
    }
   ],
   "source": [
    "for xs in [(0,0),(1,0),(0,1),(1,1)]:\n",
    "    y = OR(xs[0], xs[1])\n",
    "    print(y)"
   ]
  },
  {
   "cell_type": "code",
   "execution_count": 53,
   "id": "25bc231f",
   "metadata": {},
   "outputs": [
    {
     "name": "stdout",
     "output_type": "stream",
     "text": [
      "1\n",
      "1\n",
      "1\n",
      "0\n"
     ]
    }
   ],
   "source": [
    "for xs in [(0,0),(1,0),(0,1),(1,1)]:\n",
    "    y = NAND(xs[0], xs[1])\n",
    "    print(y)"
   ]
  },
  {
   "cell_type": "code",
   "execution_count": 57,
   "id": "42054751",
   "metadata": {},
   "outputs": [],
   "source": [
    "def XOR(x1, x2):\n",
    "    x = np.array([x1, x2])\n",
    "    # NAND\n",
    "    s1 = NAND(x[0], x[1])\n",
    "    # OR\n",
    "    s2 = OR(x[0], x[1])\n",
    "    \n",
    "    # AND\n",
    "    return AND(s1, s2)"
   ]
  },
  {
   "cell_type": "code",
   "execution_count": 56,
   "id": "3d9f24ea",
   "metadata": {},
   "outputs": [
    {
     "name": "stdout",
     "output_type": "stream",
     "text": [
      "0\n",
      "1\n",
      "1\n",
      "0\n"
     ]
    }
   ],
   "source": [
    "for xs in [(0,0),(1,0),(0,1),(1,1)]:\n",
    "    y = XOR(xs[0], xs[1])\n",
    "    print(y)"
   ]
  },
  {
   "cell_type": "code",
   "execution_count": 74,
   "id": "f7ecc4e8",
   "metadata": {},
   "outputs": [],
   "source": [
    "def XNOR(x1, x2):\n",
    "    x = np.array([x1, x2])\n",
    "    # AND\n",
    "    s1 = AND(x[0], x[1])\n",
    "    # NOR\n",
    "    s2 = NOR(x[0], x[1])\n",
    "    # OR\n",
    "    return OR(s1, s2)"
   ]
  },
  {
   "cell_type": "code",
   "execution_count": 75,
   "id": "120ecb26",
   "metadata": {},
   "outputs": [
    {
     "name": "stdout",
     "output_type": "stream",
     "text": [
      "1\n",
      "0\n",
      "0\n",
      "1\n"
     ]
    }
   ],
   "source": [
    "for xs in [(0,0),(1,0),(0,1),(1,1)]:\n",
    "    y = XNOR(xs[0], xs[1])\n",
    "    print(y)"
   ]
  }
 ],
 "metadata": {
  "kernelspec": {
   "display_name": "Python 3 (ipykernel)",
   "language": "python",
   "name": "python3"
  },
  "language_info": {
   "codemirror_mode": {
    "name": "ipython",
    "version": 3
   },
   "file_extension": ".py",
   "mimetype": "text/x-python",
   "name": "python",
   "nbconvert_exporter": "python",
   "pygments_lexer": "ipython3",
   "version": "3.8.12"
  }
 },
 "nbformat": 4,
 "nbformat_minor": 5
}
