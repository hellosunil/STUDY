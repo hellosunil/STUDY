{
 "cells": [
  {
   "cell_type": "code",
   "execution_count": 2,
   "metadata": {},
   "outputs": [],
   "source": [
    "import numpy as np\n",
    "import pandas as pd\n",
    "\n",
    "import dash\n",
    "from dash import dcc\n",
    "from dash import html\n",
    "from dash.dependencies import Input, Output, State\n",
    "\n",
    "app = dash.Dash(__name__)\n",
    "app.layout = html.Div(\n",
    "    [\n",
    "        html.H1(\"사칙연산 프로그램\"),\n",
    "        html.Hr(),\n",
    "        dcc.Input(id=\"input1\",type=\"text\"),\n",
    "        dcc.Input(id=\"input2\",type=\"text\"),\n",
    "        dcc.RadioItems(id=\"radio\",\n",
    "                      options=[\n",
    "                          {\"label\":\"+\",\"value\":\"add\"},\n",
    "                          {\"label\":\"-\",\"value\":\"sub\"},\n",
    "                          {\"label\":\"x\",\"value\":\"mul\"},\n",
    "                          {\"label\":\"%\",\"value\":\"div\"},\n",
    "                      ]),\n",
    "        html.Button(\"계산\",id=\"button\",n_clicks=0),\n",
    "        html.Hr(),\n",
    "        html.Div(id=\"output-result\")        \n",
    "    ]\n",
    ")\n",
    "\n",
    "@app.callback(\n",
    "    Output(\"output-result\",\"children\"),\n",
    "    Input(\"button\",\"n_clicks\"),\n",
    "    State(\"input1\",\"value\"),\n",
    "    State(\"input2\",\"value\"),\n",
    "    State(\"radio\",\"value\"),\n",
    ")\n",
    "def update_result(n,n1,n2,oper):\n",
    "    n1 = float(n1)\n",
    "    n2 = float(n2)\n",
    "    if oper==\"add\":\n",
    "        result = n1+n2\n",
    "    elif oper==\"sub\":\n",
    "        result = n1-n2\n",
    "    elif oper==\"mul\":\n",
    "        result = n1*n2\n",
    "    else:\n",
    "        result = n1/n2\n",
    "    output = f\"결과값은 {result} 입니다\"\n",
    "    return html.H1(output)    \n",
    "\n",
    "app.run_server(port=7777)"
   ]
  },
  {
   "cell_type": "code",
   "execution_count": null,
   "metadata": {},
   "outputs": [],
   "source": [
    "lgbm"
   ]
  }
 ],
 "metadata": {
  "kernelspec": {
   "display_name": "Python 3 (ipykernel)",
   "language": "python",
   "name": "python3"
  },
  "language_info": {
   "codemirror_mode": {
    "name": "ipython",
    "version": 3
   },
   "file_extension": ".py",
   "mimetype": "text/x-python",
   "name": "python",
   "nbconvert_exporter": "python",
   "pygments_lexer": "ipython3",
   "version": "3.8.12"
  }
 },
 "nbformat": 4,
 "nbformat_minor": 2
}
