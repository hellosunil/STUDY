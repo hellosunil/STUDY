{
 "cells": [
  {
   "cell_type": "code",
   "execution_count": 35,
   "metadata": {},
   "outputs": [],
   "source": [
    "import numpy as np\n",
    "import pandas as pd\n",
    "\n",
    "import plotly.express as px\n",
    "import plotly.graph_objects as go\n",
    "\n",
    "from dash import Input, Output, State, dcc, html, Dash\n",
    "\n",
    "df = pd.read_csv(\"iris.csv\")\n",
    "aggregate = {\"평균\":\"mean\",\"표준편차\":\"std\",\"합계\":\"sum\",\"최대\":\"max\",\"최소\":\"min\"}\n",
    "\n",
    "app = Dash()\n",
    "app.layout = html.Div(\n",
    "    [\n",
    "        html.H3(\"Iris 데이터탐색\"),\n",
    "        html.Hr(),\n",
    "        html.Label(\"컬럼선택\"),\n",
    "        dcc.Dropdown(id=\"dropdown-col\",\n",
    "                    options=[\n",
    "                        {\"label\":i,\"value\":i} for i in df.columns[:-1]\n",
    "                    ]),\n",
    "        html.Label(\"구하는 값\"),\n",
    "        dcc.RadioItems(id=\"radio-agg\",\n",
    "                      options = [\n",
    "                          {\"label\":k,\"value\":v} for k,v in aggregate.items()\n",
    "                      ]),\n",
    "        html.Hr(),\n",
    "        dcc.Graph(id=\"graph-figure\"),\n",
    "    ]\n",
    ")\n",
    "@app.callback(\n",
    "    Output(\"graph-figure\",\"figure\"),\n",
    "    Input(\"dropdown-col\",\"value\"),\n",
    "    Input(\"radio-agg\",\"value\")\n",
    ")\n",
    "def update_graph(col_name,aggr):\n",
    "    dt = df.groupby(\"Species\").aggregate(aggr).loc[:,col_name]\n",
    "    title = f\"{col_name}의 {aggr}\" \n",
    "    fig = go.Figure([go.Bar(x=dt.index, y=dt)])\n",
    "    fig.update_layout(title_text=title)\n",
    "    return fig\n",
    "\n",
    "app.run_server(port=7777)"
   ]
  },
  {
   "cell_type": "code",
   "execution_count": null,
   "metadata": {},
   "outputs": [],
   "source": []
  }
 ],
 "metadata": {
  "kernelspec": {
   "display_name": "Python 3",
   "language": "python",
   "name": "python3"
  },
  "language_info": {
   "codemirror_mode": {
    "name": "ipython",
    "version": 3
   },
   "file_extension": ".py",
   "mimetype": "text/x-python",
   "name": "python",
   "nbconvert_exporter": "python",
   "pygments_lexer": "ipython3",
   "version": "3.7.3"
  }
 },
 "nbformat": 4,
 "nbformat_minor": 2
}
