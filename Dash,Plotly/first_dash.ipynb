{
 "cells": [
  {
   "cell_type": "code",
   "execution_count": 134,
   "metadata": {},
   "outputs": [
    {
     "data": {
      "text/plain": [
       "'C:\\\\Users\\\\admin\\\\전처리\\\\데이터분석'"
      ]
     },
     "execution_count": 134,
     "metadata": {},
     "output_type": "execute_result"
    }
   ],
   "source": [
    "import os\n",
    "os.getcwd()"
   ]
  },
  {
   "cell_type": "code",
   "execution_count": 133,
   "metadata": {},
   "outputs": [
    {
     "name": "stdout",
     "output_type": "stream",
     "text": [
      "Dash is running on http://localhost:7777/\n",
      "\n",
      "Dash is running on http://localhost:7777/\n",
      "\n",
      "Dash is running on http://localhost:7777/\n",
      "\n",
      "Dash is running on http://localhost:7777/\n",
      "\n",
      "Dash is running on http://localhost:7777/\n",
      "\n",
      "Dash is running on http://localhost:7777/\n",
      "\n",
      "Dash is running on http://localhost:7777/\n",
      "\n",
      "Dash is running on http://localhost:7777/\n",
      "\n",
      "Dash is running on http://localhost:7777/\n",
      "\n",
      "Dash is running on http://localhost:7777/\n",
      "\n",
      "Dash is running on http://localhost:7777/\n",
      "\n",
      "Dash is running on http://localhost:7777/\n",
      "\n",
      "Dash is running on http://localhost:7777/\n",
      "\n",
      "Dash is running on http://localhost:7777/\n",
      "\n",
      "Dash is running on http://localhost:7777/\n",
      "\n",
      "Dash is running on http://localhost:7777/\n",
      "\n",
      "Dash is running on http://localhost:7777/\n",
      "\n",
      "Dash is running on http://localhost:7777/\n",
      "\n",
      "Dash is running on http://localhost:7777/\n",
      "\n",
      "Dash is running on http://localhost:7777/\n",
      "\n",
      "Dash is running on http://localhost:7777/\n",
      "\n",
      "Dash is running on http://localhost:7777/\n",
      "\n",
      "Dash is running on http://localhost:7777/\n",
      "\n",
      "Dash is running on http://localhost:7777/\n",
      "\n",
      "Dash is running on http://localhost:7777/\n",
      "\n",
      "Dash is running on http://localhost:7777/\n",
      "\n",
      "Dash is running on http://localhost:7777/\n",
      "\n",
      "Dash is running on http://localhost:7777/\n",
      "\n",
      "Dash is running on http://localhost:7777/\n",
      "\n",
      "Dash is running on http://localhost:7777/\n",
      "\n",
      "Dash is running on http://localhost:7777/\n",
      "\n",
      "Dash is running on http://localhost:7777/\n",
      "\n",
      "Dash is running on http://localhost:7777/\n",
      "\n",
      " * Serving Flask app \"__main__\" (lazy loading)\n",
      " * Environment: production\n",
      "   WARNING: This is a development server. Do not use it in a production deployment.\n",
      "   Use a production WSGI server instead.\n",
      " * Debug mode: off\n"
     ]
    },
    {
     "name": "stderr",
     "output_type": "stream",
     "text": [
      " * Running on http://localhost:7777/ (Press CTRL+C to quit)\n",
      "127.0.0.1 - - [04/Nov/2021 15:42:32] \"GET / HTTP/1.1\" 200 -\n",
      "127.0.0.1 - - [04/Nov/2021 15:42:32] \"GET /_dash-layout HTTP/1.1\" 200 -\n",
      "127.0.0.1 - - [04/Nov/2021 15:42:32] \"GET /_dash-dependencies HTTP/1.1\" 200 -\n",
      "127.0.0.1 - - [04/Nov/2021 15:42:32] \"GET /_dash-component-suites/dash/dcc/async-dropdown.js HTTP/1.1\" 200 -\n"
     ]
    }
   ],
   "source": [
    "# dash에 필요한 라이브러리 \n",
    "import numpy as np\n",
    "import pandas as pd\n",
    "\n",
    "import dash_core_components as dcc\n",
    "import dash_html_components as html\n",
    "\n",
    "\n",
    "\n",
    "Myapp = dash.Dash(__name__)\n",
    "\n",
    "Myapp.layout = html.Div(\n",
    "    [\n",
    "        html.H1(\"우리의 처음 대시\"),\n",
    "        html.Hr(),\n",
    "        dcc.Checklist(id=\"aaa1\",\n",
    "                    options = [\n",
    "                        {\"label\":1,\"value\":1},\n",
    "                        {\"label\":2,\"value\":2},\n",
    "                    ]),\n",
    "        dcc.RadioItems(id=\"aaa2\",\n",
    "                      options = [\n",
    "                          {\"label\":\"apple\",\"value\":\"사과\"},\n",
    "                          {\"label\":\"graph\",\"value\":\"포도\"},\n",
    "                      ]),\n",
    "        dcc.Dropdown(id=\"aaa3\",\n",
    "                    options = [\n",
    "                        {\"label\":\"apple\",\"value\":\"사과\"},\n",
    "                        {\"label\":\"graph\",\"value\":\"포도\"},\n",
    "                    ]),\n",
    "    ]  \n",
    ")\n",
    "\n",
    "Myapp.run_server(host=\"localhost\",port=7777)"
   ]
  },
  {
   "cell_type": "code",
   "execution_count": null,
   "metadata": {},
   "outputs": [],
   "source": []
  }
 ],
 "metadata": {
  "kernelspec": {
   "display_name": "Python 3",
   "language": "python",
   "name": "python3"
  },
  "language_info": {
   "codemirror_mode": {
    "name": "ipython",
    "version": 3
   },
   "file_extension": ".py",
   "mimetype": "text/x-python",
   "name": "python",
   "nbconvert_exporter": "python",
   "pygments_lexer": "ipython3",
   "version": "3.7.3"
  }
 },
 "nbformat": 4,
 "nbformat_minor": 2
}
