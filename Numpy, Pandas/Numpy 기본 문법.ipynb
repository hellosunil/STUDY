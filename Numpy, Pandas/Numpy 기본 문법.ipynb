{
 "cells": [
  {
   "cell_type": "code",
   "execution_count": 1,
   "id": "96adf79a",
   "metadata": {},
   "outputs": [],
   "source": [
    "import numpy as np\n",
    "array1 = np.array([2,3, 5, 7, 11, 13, 17, 19])"
   ]
  },
  {
   "cell_type": "code",
   "execution_count": 2,
   "id": "f407a053",
   "metadata": {},
   "outputs": [
    {
     "data": {
      "text/plain": [
       "array([ 2,  3,  5,  7, 11, 13, 17, 19])"
      ]
     },
     "execution_count": 2,
     "metadata": {},
     "output_type": "execute_result"
    }
   ],
   "source": [
    "array1"
   ]
  },
  {
   "cell_type": "code",
   "execution_count": 3,
   "id": "9c37dd25",
   "metadata": {},
   "outputs": [
    {
     "data": {
      "text/plain": [
       "numpy.ndarray"
      ]
     },
     "execution_count": 3,
     "metadata": {},
     "output_type": "execute_result"
    }
   ],
   "source": [
    "type(array1)"
   ]
  },
  {
   "cell_type": "code",
   "execution_count": 4,
   "id": "457615c3",
   "metadata": {},
   "outputs": [
    {
     "data": {
      "text/plain": [
       "(8,)"
      ]
     },
     "execution_count": 4,
     "metadata": {},
     "output_type": "execute_result"
    }
   ],
   "source": [
    "array1.shape"
   ]
  },
  {
   "cell_type": "markdown",
   "id": "5d65db2a",
   "metadata": {},
   "source": [
    "# np.array 배열 만들기"
   ]
  },
  {
   "cell_type": "code",
   "execution_count": 6,
   "id": "fb100700",
   "metadata": {},
   "outputs": [],
   "source": [
    "a2 = np.array([[1,2,3,4],[5,6,7,8],[9,10,11,12]])"
   ]
  },
  {
   "cell_type": "code",
   "execution_count": 7,
   "id": "ac7984de",
   "metadata": {},
   "outputs": [
    {
     "data": {
      "text/plain": [
       "array([[ 1,  2,  3,  4],\n",
       "       [ 5,  6,  7,  8],\n",
       "       [ 9, 10, 11, 12]])"
      ]
     },
     "execution_count": 7,
     "metadata": {},
     "output_type": "execute_result"
    }
   ],
   "source": [
    "a2"
   ]
  },
  {
   "cell_type": "code",
   "execution_count": 8,
   "id": "799f4656",
   "metadata": {},
   "outputs": [
    {
     "data": {
      "text/plain": [
       "numpy.ndarray"
      ]
     },
     "execution_count": 8,
     "metadata": {},
     "output_type": "execute_result"
    }
   ],
   "source": [
    "type(a2)"
   ]
  },
  {
   "cell_type": "code",
   "execution_count": 9,
   "id": "319a3b51",
   "metadata": {},
   "outputs": [
    {
     "data": {
      "text/plain": [
       "(3, 4)"
      ]
     },
     "execution_count": 9,
     "metadata": {},
     "output_type": "execute_result"
    }
   ],
   "source": [
    "a2.shape"
   ]
  },
  {
   "cell_type": "markdown",
   "id": "3e487311",
   "metadata": {},
   "source": [
    "## array에 같은 숫자 채우기"
   ]
  },
  {
   "cell_type": "markdown",
   "id": "1cc8b6f7",
   "metadata": {},
   "source": [
    "### np.full((행,열),숫자) or np.full(행,숫자)"
   ]
  },
  {
   "cell_type": "code",
   "execution_count": 13,
   "id": "3f2b6d2b",
   "metadata": {},
   "outputs": [],
   "source": [
    "array3 = np.full((6,7),0)\n",
    "array4 = np.random.random(6)"
   ]
  },
  {
   "cell_type": "code",
   "execution_count": 14,
   "id": "39dd1dbb",
   "metadata": {},
   "outputs": [
    {
     "data": {
      "text/plain": [
       "array([[0, 0, 0, 0, 0, 0, 0],\n",
       "       [0, 0, 0, 0, 0, 0, 0],\n",
       "       [0, 0, 0, 0, 0, 0, 0],\n",
       "       [0, 0, 0, 0, 0, 0, 0],\n",
       "       [0, 0, 0, 0, 0, 0, 0],\n",
       "       [0, 0, 0, 0, 0, 0, 0]])"
      ]
     },
     "execution_count": 14,
     "metadata": {},
     "output_type": "execute_result"
    }
   ],
   "source": [
    "array3"
   ]
  },
  {
   "cell_type": "code",
   "execution_count": 12,
   "id": "413b463a",
   "metadata": {},
   "outputs": [
    {
     "data": {
      "text/plain": [
       "array([0.73532881, 0.64204856, 0.8311306 , 0.9232698 , 0.88669664,\n",
       "       0.27604796])"
      ]
     },
     "execution_count": 12,
     "metadata": {},
     "output_type": "execute_result"
    }
   ],
   "source": [
    "array4"
   ]
  },
  {
   "cell_type": "code",
   "execution_count": 15,
   "id": "be8d7e31",
   "metadata": {},
   "outputs": [],
   "source": [
    "revenue_in_yen = [\n",
    "    300000, 340000, 320000, 360000, \n",
    "    440000, 140000, 180000, 340000, \n",
    "    330000, 290000, 280000, 380000, \n",
    "    170000, 140000, 230000, 390000, \n",
    "    400000, 350000, 380000, 150000, \n",
    "    110000, 240000, 380000, 380000, \n",
    "    340000, 420000, 150000, 130000, \n",
    "    360000, 320000, 250000\n",
    "]"
   ]
  },
  {
   "cell_type": "code",
   "execution_count": 16,
   "id": "15a74762",
   "metadata": {},
   "outputs": [
    {
     "data": {
      "text/plain": [
       "list"
      ]
     },
     "execution_count": 16,
     "metadata": {},
     "output_type": "execute_result"
    }
   ],
   "source": [
    "type(revenue_in_yen)"
   ]
  },
  {
   "cell_type": "code",
   "execution_count": 17,
   "id": "31c64258",
   "metadata": {},
   "outputs": [],
   "source": [
    "yen = np.array(revenue_in_yen)"
   ]
  },
  {
   "cell_type": "code",
   "execution_count": 18,
   "id": "25efc6b1",
   "metadata": {},
   "outputs": [
    {
     "data": {
      "text/plain": [
       "array([300000, 340000, 320000, 360000, 440000, 140000, 180000, 340000,\n",
       "       330000, 290000, 280000, 380000, 170000, 140000, 230000, 390000,\n",
       "       400000, 350000, 380000, 150000, 110000, 240000, 380000, 380000,\n",
       "       340000, 420000, 150000, 130000, 360000, 320000, 250000])"
      ]
     },
     "execution_count": 18,
     "metadata": {},
     "output_type": "execute_result"
    }
   ],
   "source": [
    "yen"
   ]
  },
  {
   "cell_type": "code",
   "execution_count": 19,
   "id": "126708cd",
   "metadata": {},
   "outputs": [
    {
     "data": {
      "text/plain": [
       "(31,)"
      ]
     },
     "execution_count": 19,
     "metadata": {},
     "output_type": "execute_result"
    }
   ],
   "source": [
    "yen.shape"
   ]
  },
  {
   "cell_type": "code",
   "execution_count": 20,
   "id": "13766e46",
   "metadata": {},
   "outputs": [],
   "source": [
    "won = yen * 10.08"
   ]
  },
  {
   "cell_type": "code",
   "execution_count": 21,
   "id": "e7f4945f",
   "metadata": {},
   "outputs": [
    {
     "data": {
      "text/plain": [
       "array([3024000., 3427200., 3225600., 3628800., 4435200., 1411200.,\n",
       "       1814400., 3427200., 3326400., 2923200., 2822400., 3830400.,\n",
       "       1713600., 1411200., 2318400., 3931200., 4032000., 3528000.,\n",
       "       3830400., 1512000., 1108800., 2419200., 3830400., 3830400.,\n",
       "       3427200., 4233600., 1512000., 1310400., 3628800., 3225600.,\n",
       "       2520000.])"
      ]
     },
     "execution_count": 21,
     "metadata": {},
     "output_type": "execute_result"
    }
   ],
   "source": [
    "won"
   ]
  },
  {
   "cell_type": "markdown",
   "id": "501969fd",
   "metadata": {},
   "source": [
    "## array 안의 타입 바꾸기"
   ]
  },
  {
   "cell_type": "markdown",
   "id": "d50481cb",
   "metadata": {},
   "source": [
    "### 특정array.astype(int)"
   ]
  },
  {
   "cell_type": "code",
   "execution_count": 24,
   "id": "059aa761",
   "metadata": {},
   "outputs": [
    {
     "data": {
      "text/plain": [
       "array([3024000, 3427200, 3225600, 3628800, 4435200, 1411200, 1814400,\n",
       "       3427200, 3326400, 2923200, 2822400, 3830400, 1713600, 1411200,\n",
       "       2318400, 3931200, 4032000, 3528000, 3830400, 1512000, 1108800,\n",
       "       2419200, 3830400, 3830400, 3427200, 4233600, 1512000, 1310400,\n",
       "       3628800, 3225600, 2520000])"
      ]
     },
     "execution_count": 24,
     "metadata": {},
     "output_type": "execute_result"
    }
   ],
   "source": [
    "won.astype(int)"
   ]
  },
  {
   "cell_type": "markdown",
   "id": "2c4deaff",
   "metadata": {},
   "source": [
    "## array 간의 합"
   ]
  },
  {
   "cell_type": "code",
   "execution_count": 26,
   "id": "7ec7cfa4",
   "metadata": {},
   "outputs": [
    {
     "data": {
      "text/plain": [
       "array([6048000, 6854400, 6451200, 7257600, 8870400, 2822400, 3628800,\n",
       "       6854400, 6652800, 5846400, 5644800, 7660800, 3427200, 2822400,\n",
       "       4636800, 7862400, 8064000, 7056000, 7660800, 3024000, 2217600,\n",
       "       4838400, 7660800, 7660800, 6854400, 8467200, 3024000, 2620800,\n",
       "       7257600, 6451200, 5040000])"
      ]
     },
     "execution_count": 26,
     "metadata": {},
     "output_type": "execute_result"
    }
   ],
   "source": [
    "(won + won).astype(int)"
   ]
  },
  {
   "cell_type": "markdown",
   "id": "30c53190",
   "metadata": {},
   "source": [
    "## array의 인덱싱 index"
   ]
  },
  {
   "cell_type": "code",
   "execution_count": 27,
   "id": "55f56949",
   "metadata": {},
   "outputs": [],
   "source": [
    "arrayi = np.array ([2,3,5,7,11,13,15,17,19,23])"
   ]
  },
  {
   "cell_type": "code",
   "execution_count": 28,
   "id": "aa383b04",
   "metadata": {},
   "outputs": [
    {
     "data": {
      "text/plain": [
       "array([ 2,  3,  5,  7, 11, 13, 15, 17, 19, 23])"
      ]
     },
     "execution_count": 28,
     "metadata": {},
     "output_type": "execute_result"
    }
   ],
   "source": [
    "arrayi"
   ]
  },
  {
   "cell_type": "code",
   "execution_count": 30,
   "id": "e76f6e8c",
   "metadata": {},
   "outputs": [
    {
     "data": {
      "text/plain": [
       "2"
      ]
     },
     "execution_count": 30,
     "metadata": {},
     "output_type": "execute_result"
    }
   ],
   "source": [
    "arrayi[0]"
   ]
  },
  {
   "cell_type": "code",
   "execution_count": 31,
   "id": "4919f1de",
   "metadata": {},
   "outputs": [
    {
     "data": {
      "text/plain": [
       "23"
      ]
     },
     "execution_count": 31,
     "metadata": {},
     "output_type": "execute_result"
    }
   ],
   "source": [
    "arrayi[-1]"
   ]
  },
  {
   "cell_type": "markdown",
   "id": "efc20095",
   "metadata": {},
   "source": [
    "### index 여러 개 = [[x, y, z]]"
   ]
  },
  {
   "cell_type": "code",
   "execution_count": 35,
   "id": "35d97521",
   "metadata": {},
   "outputs": [
    {
     "data": {
      "text/plain": [
       "array([2, 7])"
      ]
     },
     "execution_count": 35,
     "metadata": {},
     "output_type": "execute_result"
    }
   ],
   "source": [
    "arrayi[[0, 3]]"
   ]
  },
  {
   "cell_type": "code",
   "execution_count": 37,
   "id": "ec9ec48a",
   "metadata": {
    "scrolled": true
   },
   "outputs": [
    {
     "data": {
      "text/plain": [
       "array([ 2, 23,  5])"
      ]
     },
     "execution_count": 37,
     "metadata": {},
     "output_type": "execute_result"
    }
   ],
   "source": [
    "arrayi[[0, 9, 2]]"
   ]
  },
  {
   "cell_type": "markdown",
   "id": "a95480b1",
   "metadata": {},
   "source": [
    "### index Slice = [::]"
   ]
  },
  {
   "cell_type": "code",
   "execution_count": 40,
   "id": "dc997604",
   "metadata": {},
   "outputs": [
    {
     "data": {
      "text/plain": [
       "array([2, 3, 5])"
      ]
     },
     "execution_count": 40,
     "metadata": {},
     "output_type": "execute_result"
    }
   ],
   "source": [
    "arrayi[0:3]"
   ]
  },
  {
   "cell_type": "code",
   "execution_count": 41,
   "id": "8580ca81",
   "metadata": {},
   "outputs": [
    {
     "data": {
      "text/plain": [
       "array([ 2,  5, 11, 15, 19])"
      ]
     },
     "execution_count": 41,
     "metadata": {},
     "output_type": "execute_result"
    }
   ],
   "source": [
    "arrayi[0:9:2]"
   ]
  },
  {
   "cell_type": "markdown",
   "id": "fffc84b3",
   "metadata": {},
   "source": [
    "## Numpy 기본연산"
   ]
  },
  {
   "cell_type": "markdown",
   "id": "271d0aad",
   "metadata": {},
   "source": [
    "### 파이썬의 range = np.arrange()"
   ]
  },
  {
   "cell_type": "code",
   "execution_count": 42,
   "id": "cc2920f1",
   "metadata": {},
   "outputs": [],
   "source": [
    "array1 = np.arange(10)\n",
    "array2 = np.arange(10,20)"
   ]
  },
  {
   "cell_type": "code",
   "execution_count": 44,
   "id": "2ecfa12d",
   "metadata": {},
   "outputs": [
    {
     "data": {
      "text/plain": [
       "array([0, 1, 2, 3, 4, 5, 6, 7, 8, 9])"
      ]
     },
     "execution_count": 44,
     "metadata": {},
     "output_type": "execute_result"
    }
   ],
   "source": [
    "array1"
   ]
  },
  {
   "cell_type": "code",
   "execution_count": 43,
   "id": "1fd3fb59",
   "metadata": {},
   "outputs": [
    {
     "data": {
      "text/plain": [
       "array([ 0,  2,  4,  6,  8, 10, 12, 14, 16, 18])"
      ]
     },
     "execution_count": 43,
     "metadata": {},
     "output_type": "execute_result"
    }
   ],
   "source": [
    "array1 *2"
   ]
  },
  {
   "cell_type": "code",
   "execution_count": 45,
   "id": "f1e0af38",
   "metadata": {},
   "outputs": [
    {
     "data": {
      "text/plain": [
       "array([ 2,  3,  4,  5,  6,  7,  8,  9, 10, 11])"
      ]
     },
     "execution_count": 45,
     "metadata": {},
     "output_type": "execute_result"
    }
   ],
   "source": [
    "array1 +2"
   ]
  },
  {
   "cell_type": "code",
   "execution_count": 46,
   "id": "4c34ad14",
   "metadata": {},
   "outputs": [
    {
     "data": {
      "text/plain": [
       "array([-2, -1,  0,  1,  2,  3,  4,  5,  6,  7])"
      ]
     },
     "execution_count": 46,
     "metadata": {},
     "output_type": "execute_result"
    }
   ],
   "source": [
    "array1 -2"
   ]
  },
  {
   "cell_type": "code",
   "execution_count": 47,
   "id": "d9f2dca6",
   "metadata": {},
   "outputs": [
    {
     "data": {
      "text/plain": [
       "array([0. , 0.5, 1. , 1.5, 2. , 2.5, 3. , 3.5, 4. , 4.5])"
      ]
     },
     "execution_count": 47,
     "metadata": {},
     "output_type": "execute_result"
    }
   ],
   "source": [
    "array1 /2"
   ]
  },
  {
   "cell_type": "code",
   "execution_count": 48,
   "id": "0dffc6ae",
   "metadata": {},
   "outputs": [
    {
     "data": {
      "text/plain": [
       "array([ 0,  1,  4,  9, 16, 25, 36, 49, 64, 81], dtype=int32)"
      ]
     },
     "execution_count": 48,
     "metadata": {},
     "output_type": "execute_result"
    }
   ],
   "source": [
    "array1 **2"
   ]
  },
  {
   "cell_type": "code",
   "execution_count": 50,
   "id": "bcee9393",
   "metadata": {},
   "outputs": [
    {
     "data": {
      "text/plain": [
       "array([10, 11, 12, 13, 14, 15, 16, 17, 18, 19])"
      ]
     },
     "execution_count": 50,
     "metadata": {},
     "output_type": "execute_result"
    }
   ],
   "source": [
    "array2"
   ]
  },
  {
   "cell_type": "code",
   "execution_count": 51,
   "id": "d3d3830f",
   "metadata": {},
   "outputs": [
    {
     "data": {
      "text/plain": [
       "array([10, 12, 14, 16, 18, 20, 22, 24, 26, 28])"
      ]
     },
     "execution_count": 51,
     "metadata": {},
     "output_type": "execute_result"
    }
   ],
   "source": [
    "array1 + array2"
   ]
  },
  {
   "cell_type": "code",
   "execution_count": null,
   "id": "9cbbedd6",
   "metadata": {},
   "outputs": [],
   "source": []
  },
  {
   "cell_type": "code",
   "execution_count": 54,
   "id": "bf0b1712",
   "metadata": {},
   "outputs": [],
   "source": [
    "array1 = np.arange(1,10)\n",
    "array2 = np.arange(10,20)"
   ]
  },
  {
   "cell_type": "code",
   "execution_count": 53,
   "id": "66527a80",
   "metadata": {},
   "outputs": [
    {
     "data": {
      "text/plain": [
       "array([1, 2, 3, 4, 5, 6, 7, 8, 9])"
      ]
     },
     "execution_count": 53,
     "metadata": {},
     "output_type": "execute_result"
    }
   ],
   "source": [
    "array1"
   ]
  },
  {
   "cell_type": "code",
   "execution_count": 55,
   "id": "b8bc2f9a",
   "metadata": {},
   "outputs": [
    {
     "data": {
      "text/plain": [
       "array([10, 11, 12, 13, 14, 15, 16, 17, 18, 19])"
      ]
     },
     "execution_count": 55,
     "metadata": {},
     "output_type": "execute_result"
    }
   ],
   "source": [
    "array2"
   ]
  },
  {
   "cell_type": "markdown",
   "id": "3a974876",
   "metadata": {},
   "source": [
    "### array 간의 +,-,*,/는 인덱스 길이가 같아야 가능"
   ]
  },
  {
   "cell_type": "code",
   "execution_count": 56,
   "id": "80bd3576",
   "metadata": {},
   "outputs": [
    {
     "ename": "ValueError",
     "evalue": "operands could not be broadcast together with shapes (9,) (10,) ",
     "output_type": "error",
     "traceback": [
      "\u001b[1;31m---------------------------------------------------------------------------\u001b[0m",
      "\u001b[1;31mValueError\u001b[0m                                Traceback (most recent call last)",
      "\u001b[1;32m<ipython-input-56-5a881dd2964f>\u001b[0m in \u001b[0;36m<module>\u001b[1;34m\u001b[0m\n\u001b[1;32m----> 1\u001b[1;33m \u001b[0marray1\u001b[0m \u001b[1;33m+\u001b[0m \u001b[0marray2\u001b[0m\u001b[1;33m\u001b[0m\u001b[1;33m\u001b[0m\u001b[0m\n\u001b[0m",
      "\u001b[1;31mValueError\u001b[0m: operands could not be broadcast together with shapes (9,) (10,) "
     ]
    }
   ],
   "source": [
    "array1 + array2"
   ]
  },
  {
   "cell_type": "code",
   "execution_count": 57,
   "id": "03a76a26",
   "metadata": {},
   "outputs": [],
   "source": [
    "array1 = np.arange(0,10)"
   ]
  },
  {
   "cell_type": "code",
   "execution_count": 58,
   "id": "56ee3ae2",
   "metadata": {},
   "outputs": [
    {
     "data": {
      "text/plain": [
       "array([0, 1, 2, 3, 4, 5, 6, 7, 8, 9])"
      ]
     },
     "execution_count": 58,
     "metadata": {},
     "output_type": "execute_result"
    }
   ],
   "source": [
    "array1"
   ]
  },
  {
   "cell_type": "code",
   "execution_count": 59,
   "id": "618fc4c2",
   "metadata": {},
   "outputs": [
    {
     "data": {
      "text/plain": [
       "array([10, 11, 12, 13, 14, 15, 16, 17, 18, 19])"
      ]
     },
     "execution_count": 59,
     "metadata": {},
     "output_type": "execute_result"
    }
   ],
   "source": [
    "array2"
   ]
  },
  {
   "cell_type": "code",
   "execution_count": 60,
   "id": "fcd192ce",
   "metadata": {},
   "outputs": [
    {
     "data": {
      "text/plain": [
       "array([10, 12, 14, 16, 18, 20, 22, 24, 26, 28])"
      ]
     },
     "execution_count": 60,
     "metadata": {},
     "output_type": "execute_result"
    }
   ],
   "source": [
    "array1 +array2"
   ]
  },
  {
   "cell_type": "code",
   "execution_count": 61,
   "id": "e24d4e19",
   "metadata": {},
   "outputs": [
    {
     "data": {
      "text/plain": [
       "array([-10, -10, -10, -10, -10, -10, -10, -10, -10, -10])"
      ]
     },
     "execution_count": 61,
     "metadata": {},
     "output_type": "execute_result"
    }
   ],
   "source": [
    "array1 - array2"
   ]
  },
  {
   "cell_type": "code",
   "execution_count": 62,
   "id": "a14cbc63",
   "metadata": {},
   "outputs": [
    {
     "data": {
      "text/plain": [
       "array([  0,  11,  24,  39,  56,  75,  96, 119, 144, 171])"
      ]
     },
     "execution_count": 62,
     "metadata": {},
     "output_type": "execute_result"
    }
   ],
   "source": [
    "array1 * array2"
   ]
  },
  {
   "cell_type": "code",
   "execution_count": 63,
   "id": "73263ef3",
   "metadata": {},
   "outputs": [
    {
     "data": {
      "text/plain": [
       "array([0.        , 0.09090909, 0.16666667, 0.23076923, 0.28571429,\n",
       "       0.33333333, 0.375     , 0.41176471, 0.44444444, 0.47368421])"
      ]
     },
     "execution_count": 63,
     "metadata": {},
     "output_type": "execute_result"
    }
   ],
   "source": [
    "array1 / array2"
   ]
  },
  {
   "cell_type": "markdown",
   "id": "633ffdcc",
   "metadata": {},
   "source": [
    "## Numpy 불린 연산(boolean)"
   ]
  },
  {
   "cell_type": "code",
   "execution_count": 64,
   "id": "e6718dc9",
   "metadata": {},
   "outputs": [
    {
     "data": {
      "text/plain": [
       "array([ 2,  3,  5,  7, 11, 13, 17, 19, 23, 29])"
      ]
     },
     "execution_count": 64,
     "metadata": {},
     "output_type": "execute_result"
    }
   ],
   "source": [
    "array1 = np.array ([2,3,5,7,11,13,17,19,23,29])\n",
    "array1"
   ]
  },
  {
   "cell_type": "code",
   "execution_count": 65,
   "id": "ee0465f5",
   "metadata": {},
   "outputs": [
    {
     "data": {
      "text/plain": [
       "array([False, False,  True,  True,  True,  True,  True,  True,  True,\n",
       "        True])"
      ]
     },
     "execution_count": 65,
     "metadata": {},
     "output_type": "execute_result"
    }
   ],
   "source": [
    "array1 > 4"
   ]
  },
  {
   "cell_type": "code",
   "execution_count": 66,
   "id": "ae53d258",
   "metadata": {},
   "outputs": [
    {
     "data": {
      "text/plain": [
       "array([ True, False, False, False, False, False, False, False, False,\n",
       "       False])"
      ]
     },
     "execution_count": 66,
     "metadata": {},
     "output_type": "execute_result"
    }
   ],
   "source": [
    "array1 %2 == 0"
   ]
  },
  {
   "cell_type": "code",
   "execution_count": 69,
   "id": "b02e4220",
   "metadata": {},
   "outputs": [],
   "source": [
    "boolean = np.array([False,True,False,False,False,False,False,False,False,True])"
   ]
  },
  {
   "cell_type": "markdown",
   "id": "493db77f",
   "metadata": {},
   "source": [
    "### numpy.where(x)함수 ==> 몇 번 인덱스에 x가 있냐"
   ]
  },
  {
   "cell_type": "code",
   "execution_count": 70,
   "id": "1c25177d",
   "metadata": {},
   "outputs": [
    {
     "data": {
      "text/plain": [
       "(array([1, 9], dtype=int64),)"
      ]
     },
     "execution_count": 70,
     "metadata": {},
     "output_type": "execute_result"
    }
   ],
   "source": [
    "np.where(boolean)"
   ]
  },
  {
   "cell_type": "code",
   "execution_count": 71,
   "id": "ade4d232",
   "metadata": {},
   "outputs": [
    {
     "data": {
      "text/plain": [
       "(array([2, 3, 4, 5, 6, 7, 8, 9], dtype=int64),)"
      ]
     },
     "execution_count": 71,
     "metadata": {},
     "output_type": "execute_result"
    }
   ],
   "source": [
    "np.where(array1 >4 )"
   ]
  },
  {
   "cell_type": "markdown",
   "id": "cbe57a62",
   "metadata": {},
   "source": [
    "### array[x]  ==> x값에 numpy.where()값을 넣어줄 수 있음"
   ]
  },
  {
   "cell_type": "code",
   "execution_count": 72,
   "id": "310b36b4",
   "metadata": {},
   "outputs": [
    {
     "data": {
      "text/plain": [
       "array([ 5,  7, 11, 13, 17, 19, 23, 29])"
      ]
     },
     "execution_count": 72,
     "metadata": {},
     "output_type": "execute_result"
    }
   ],
   "source": [
    "array1[np.where(array1 >4)]"
   ]
  },
  {
   "cell_type": "code",
   "execution_count": 73,
   "id": "fded348c",
   "metadata": {},
   "outputs": [
    {
     "data": {
      "text/plain": [
       "array([ 3, 29])"
      ]
     },
     "execution_count": 73,
     "metadata": {},
     "output_type": "execute_result"
    }
   ],
   "source": [
    "array1[np.where(boolean)]"
   ]
  },
  {
   "cell_type": "code",
   "execution_count": null,
   "id": "ae5a4741",
   "metadata": {},
   "outputs": [],
   "source": []
  }
 ],
 "metadata": {
  "kernelspec": {
   "display_name": "Python 3",
   "language": "python",
   "name": "python3"
  },
  "language_info": {
   "codemirror_mode": {
    "name": "ipython",
    "version": 3
   },
   "file_extension": ".py",
   "mimetype": "text/x-python",
   "name": "python",
   "nbconvert_exporter": "python",
   "pygments_lexer": "ipython3",
   "version": "3.8.8"
  }
 },
 "nbformat": 4,
 "nbformat_minor": 5
}
