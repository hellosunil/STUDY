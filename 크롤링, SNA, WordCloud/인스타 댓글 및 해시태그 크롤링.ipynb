{
 "cells": [
  {
   "cell_type": "code",
   "execution_count": 1,
   "id": "06c194a8",
   "metadata": {},
   "outputs": [],
   "source": [
    "from selenium import webdriver\n",
    "import time\n",
    "from bs4 import BeautifulSoup\n",
    "import pandas as pd\n",
    "import urllib.request\n",
    "import requests\n",
    "from bs4 import BeautifulSoup\n",
    "import pandas as pd\n",
    "import time\n",
    "import urllib\n",
    "import json\n",
    "import re\n",
    "import os\n",
    "import sys\n",
    "import urllib.request\n",
    "import json\n",
    "import re\n",
    "import konlpy\n",
    "from konlpy.tag import Okt\n",
    "from collections import Counter\n",
    "from wordcloud import WordCloud\n",
    "import matplotlib.pyplot as plt\n",
    "import numpy as np\n",
    "from PIL import Image\n",
    "import ssl"
   ]
  },
  {
   "cell_type": "code",
   "execution_count": 2,
   "id": "cc097ed9",
   "metadata": {},
   "outputs": [],
   "source": [
    "# 크롬브라우저 실행 후 60초 정도 기다리게 한다.\n",
    "# - 로그인 하고 검색어 입력은 수동으로\n",
    "# 첫번째 게시물 클릭"
   ]
  },
  {
   "cell_type": "code",
   "execution_count": 22,
   "id": "19af234f",
   "metadata": {},
   "outputs": [
    {
     "name": "stdout",
     "output_type": "stream",
     "text": [
      "검색어를 입력하세요 : 고양이\n"
     ]
    }
   ],
   "source": [
    "keyword = input('검색어를 입력하세요 : ')\n",
    "\n",
    "# 인증서 관련 오류가 생길 때 사용\n",
    "ssl._create_default_https_context = ssl._create_unverified_context\n",
    "\n",
    "url = 'https://www.instragram.com/explore/tags/'+str(urllib.parse.quote(keyword))+'/'\n",
    "driver = webdriver.Chrome('chromedriver.exe')\n",
    "driver.implicitly_wait(1)\n",
    "driver.maximize_window()\n",
    "driver.get(url)\n",
    "time.sleep(30)\n",
    "\n",
    "driver.find_element_by_class_name('eLAPa').click()\n",
    "\n",
    "hash_list = []\n",
    "for i in range(10):\n",
    "    try:\n",
    "        ahash = driver.find_elements_by_class_name('xil3i')\n",
    "        for j in ahash:\n",
    "            hash_list.append(j.text)\n",
    "            time.sleep(1)\n",
    "        driver.find_element_by_css_selector('a._65Bje.coreSpriteRightPaginationArrow').click()\n",
    "    except:\n",
    "        pass"
   ]
  },
  {
   "cell_type": "code",
   "execution_count": 23,
   "id": "068aac11",
   "metadata": {},
   "outputs": [
    {
     "name": "stdout",
     "output_type": "stream",
     "text": [
      "['#momocotokyo', '#キャッテリー', '#ブリーダー直販', '#猫ブリーダー', '#ブリーダー', '#エキゾチックショートヘア', '#エキゾチックショートヘアー', '#エキゾチック', '#エキゾ', '#子猫', '#仔猫', '#猫部', '#ねこ部', '#ねこ', '#猫', '#exoticshorthair', '#exoticcat', '#cats', '#cat', '#異國短毛貓', '#加菲貓', '#貓咪', '#貓', '#엑조틱', '#고양이', '#オーナー様募集中', '#飼い主募集中', '#飼い主募集', '#家族募集中', '#kitty', '#catstagram', '#petstagram', '#meow', '#catoftheday', '#catsofinstagram', '#gato', '#ragdoll', '#ragdollcat', '#cat', '#instacat', '#topcatphoto', '#weeklyfluff', '#cats_of_instagram', '#cats', '#cutecat', '#cute', '#bestmeow', '#neko', '#kedi', '#mycat', '#catsofinsta', '#catlife', '#katze', '#ラグドール', '#猫', '#ねこ', '#고양이', '#にゃんすたぐらむ', '#ねこすたぐらむ', '#fafanmaisie', '#嗲精花花', '#領養代替購買', '#唐貓也是寶', '#香港貓', '#喵星人', '#Cat', '#hongkongmeow', '#猫', '#貓咪日常', '#香港貓奴', '#catsofinstagram', '#catstagram', '#猫のいる暮らし', '#三花', '#meowstagram', '#meowdel', '#meow', '#cat', '#catlife', '#nekoclub', '#catoftheday', '#hkcat', '#neko', '#米克斯貓', '#고양이', '#iphonography', '#shotoniphone', '#iphone12pro', '#kittycat', '#kitty', '#캣스타그램', '#냥스타그램', '#catstagram', '#초딩고양이', '#캣초딩', '#삼색이', '#kitten', '#cat', '#cats', '#고양이', '#cutecat', '#덩_스타그램', '#고양이', '#고양이스타그램', '#냥스타그램', '#캣스타그램', '#코숏', '#턱시도고양이', '#턱시도냥', '#반려묘', '#cat', '#catstagram', '#neko', '#pet', '#tuxedocat', '#猫', '#koreanshorthair', '#cats', '#cat', '#catofinstaworld', '#catfollowers', '#catslover', '#shorthair', '#munchkin', '#catsofinsta', '#instacat', '#igcats', '#kitten', '#catsdaily', '#catslove', '#meow', '#catday', '#catsrule', '#catoftheday', '#kittenoftheday', '#catsociety', '#먼치킨', '#고양이', '#브숏', '#猫', '#猫咪', '#ねこ', '#love', '#munchkin', '#시간아얼른흘러버려라', '#고양이', '#반지', '#포리', '#쭙쭙이', '#고양이', '#catstagram']\n"
     ]
    }
   ],
   "source": [
    "print(hash_list)"
   ]
  },
  {
   "cell_type": "code",
   "execution_count": null,
   "id": "944a5624",
   "metadata": {},
   "outputs": [],
   "source": []
  }
 ],
 "metadata": {
  "kernelspec": {
   "display_name": "Python 3",
   "language": "python",
   "name": "python3"
  }
 },
 "nbformat": 4,
 "nbformat_minor": 5
}
